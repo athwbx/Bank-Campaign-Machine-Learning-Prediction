{
 "cells": [
  {
   "cell_type": "markdown",
   "metadata": {},
   "source": [
    "# Bank Campaign Prediction  \n",
    "\n",
    "by: Aryo Atha Rizaldi\n",
    "\n",
    "## Bussiness Understanding\n",
    "### **Context**\n",
    "\n",
    "Data ini mencakup hasil dari kampanye pemasaran bank yang melibatkan panggilan telepon langsung ke rumah atau ponsel untuk mengajak orang menaruh deposit berjangka. Jika klien setuju untuk menaruh deposit, variabel target akan diset sebagai **'yes'**, dan jika tidak, akan diset sebagai **'no'**.\n",
    "\n",
    "Target: \n",
    "* 0 : Tidak menaruh deposit \n",
    "* 1 : Menaruh deposit\n",
    "\n",
    "\n",
    "\n",
    "### **Problem Statement**\n",
    "\n",
    "Stakeholder: Tim Pemasaran, Penjualan dan Layanan Pelanggan, dan Manajemen\n",
    "\n",
    "Proses kampanye penawaran deposit berjangka memerlukan alokasi waktu dan sumber daya finansial yang signifikan. Tanpa adanya penyaringan terlebih dahulu, jika bank memutuskan untuk menjangkau semua nasabah tanpa mempertimbangkan potensi mereka untuk menaruh deposit, hal ini dapat **mengakibatkan pemborosan sumber daya yang berharga** seperti uang yang dikeluarkan oleh bank dan waktu untuk menghubungi nasabah-nasabah tersebut. Oleh karena itu, dengan adanya **Machine Learning**, dapat meningkatkan efisiensi proses kampanye yang dilakukan oleh bank.  \n",
    "\n",
    "**Machine Learning** akan membantu bank dalam **mengevaluasi dan memodelkan pola-pola kompleks dari data historis**, memungkinkan identifikasi faktor-faktor yang paling berpengaruh terhadap keputusan calon nasabah. Dengan pendekatan ini, bank dapat **meningkatkan efisiensi kampanye** pemasaran mereka, **mengoptimalkan penggunaan sumber daya**, dan secara **lebih tepat menargetkan kandidat** yang memiliki peluang tinggi untuk berinvestasi dalam deposit berjangka. Disini, **Machine Learning** dapat membantu bank untuk **menyaring calon nasabah** berdasarkan data dengan cermat, menargetkan mereka yang memiliki **potensi tertinggi** untuk menaruh deposit. Dengan pendekatan ini, bank berharap dapat mengoptimalkan penggunaan waktu dan biaya, sambil tetap fokus pada segmen nasabah yang lebih mungkin merespons secara positif terhadap penawaran deposit berjangka.\n",
    "\n",
    "\n",
    "### **Goals**\n",
    "\n",
    "Dalam menghadapi tantangan tersebut, bank memiliki keinginan untuk mengembangkan kemampuan prediktif guna memprediksi apakah seorang calon nasabah bersedia menaruh deposit atau tidak. Tujuannya adalah untuk dapat dengan baik **menargetkan kampanye pemasaran pada kandidat yang memiliki potensial tertinggi** untuk melakukan investasi dalam bentuk deposit berjangka. Dengan adanya bantuan dari **Machine Learning** ini, bank berharap dapat **meningkatkan efisiensi dan efektivitas** strategi pemasaran mereka, dapat mengurangi kerugian bank, dan mengarahkan upaya pada segmen nasabah yang paling mungkin memberikan respons positif terhadap tawaran deposit berjangka. Selain itu, bank juga tidak harus menghubungi setiap calon nasabah untuk mengurangi kerugian materiil dan waktu dengan bantuan dari **Machine Learning**.\n",
    "\n",
    "\n",
    "### **Analytic Approach**\n",
    "\n",
    "Rencananya adalah melakukan analisis mendalam terhadap data untuk **mengidentifikasi pola-pola** yang dapat **membedakan antara kandidat nasabah yang bersedia menaruh deposit dan yang tidak**. Selanjutnya **membangun sebuah model klasifikasi yang dapat menjadi alat prediktif** bagi bank, membantu dalam memperkirakan probabilitas bahwa seorang kandidat nasabah akan atau tidak akan menaruh deposit.\n",
    "\n",
    "Pendekatan analitik yang akan diambil melibatkan **eksplorasi data** secara menyeluruh untuk mengungkap hubungan dan tren yang mungkin ada di antara variabel-variabel terkait. Selanjutnya, akan dilakukan **pemilihan fitur** dan **penyesuaian data** untuk mempersiapkannya sebagai **input bagi model klasifikasi**. Proses ini didesain untuk **meningkatkan akurasi prediksi** dan **mengidentifikasi faktor-faktor kunci** yang memengaruhi keputusan nasabah.\n",
    "\n",
    "Dalam membangun model klasifikasi, akan digunakan teknik-teknik **Machine Learning** yang sesuai, seperti **Logistic Regression** atau **Decision Tree**, yang dapat memproses pola-pola kompleks dalam data. Model ini akan **diuji dan dievaluasi menggunakan data holdout yang tidak terlihat sebelumnya** untuk memastikan keandalan dan kinerja yang baik dalam memprediksi perilaku calon nasabah.\n",
    "\n",
    "Dengan pendekatan analitik ini, bank berharap dapat memperoleh pemahaman mendalam tentang faktor-faktor kritis yang mempengaruhi keputusan nasabah dan menerapkan solusi yang tepat untuk meningkatkan efektivitas kampanye pemasaran mereka."
   ]
  },
  {
   "cell_type": "markdown",
   "metadata": {},
   "source": [
    "### **Metric Evaluation**\n",
    "\n",
    "Type 1 error : **False Positive** (Nasabah diprediksi bisa deposit, tetapi aktualnya tidak deposit)   \n",
    "Konsekuensi: Membuang waktu dan biaya kampanye untuk nasabah yang tidak berpotensial menaruh deposit\n",
    "\n",
    "Type 2 error : **False Negative** (Nasabah diprediksi tidak bisa deposit, tetapi aktualnya berpotensi untuk deposit)  \n",
    "Konsekuensi: Kehilangan kandidat nasabah potensial\n",
    "\n",
    "Berikut adalah estimasi biaya yang akan dikeluarkan oleh bank untuk setiap false positive dan false negative:\n",
    "\n",
    "* **False Positive**\n",
    "Biaya yang akan dikeluarkan oleh bank untuk setiap false positive adalah biaya kampanye yang dikeluarkan untuk nasabah tersebut. Biaya kampanye ini dapat berupa biaya tenaga kerja, biaya media, dan biaya lainnya.\n",
    "\n",
    "Berdasarkan penelitian yang dilakukan oleh McKinsey & Company, biaya kampanye pemasaran untuk produk perbankan di Indonesia diperkirakan mencapai Rp500 ribu per nasabah.\n",
    "\n",
    "Dengan demikian, biaya yang akan dikeluarkan oleh bank untuk setiap false positive adalah Rp500.000.\n",
    "\n",
    "* **False Negative**\n",
    "Biaya yang akan dikeluarkan oleh bank untuk setiap false negative adalah potensi pendapatan yang hilang dari nasabah tersebut. Potensi pendapatan ini dapat berupa besaran deposit dari nasabah.\n",
    "\n",
    "Menurut OJK Indonesia, minimal deposito bank adalah Rp. 8.000.000. Dengan demikian, potensi pendapatan yang hilang dari setiap false negative adalah Rp.8.000.000 per nasabah.\n",
    "\n",
    "* **Perbandingan dengan Kehilangan Kandidat Nasabah Potensial**\n",
    "\n",
    "Kehilangan kandidat nasabah potensial dapat berdampak negatif terhadap pendapatan bank dalam jangka panjang. Hal ini karena bank akan kehilangan kesempatan untuk menawarkan produk dan layanannya kepada nasabah tersebut.\n",
    "\n",
    "Berdasarkan penelitian yang dilakukan oleh Frederick F. Reichheld & W. Earl Sasser, Jr., bank yang kehilangan satu nasabah berpotensi kehilangan pendapatan hingga Rp50 juta per tahun.\n",
    "\n",
    ">**Apabila kita buat perhitungan False Positive, tanpa machine learning dan tanpa adanya kemungkinan kehilangan nasabah (karena semua nasabah dihubungi):**  \n",
    ">Asumsi biaya yang dikeluarkan sesuai dengan statement diatas, yaitu Rp. 500.000/nasabah.  \n",
    ">Banyak nasabah (total data test dan holdout tanpa adanya penyaringan terlebih dahulu): 2813 nasabah.   \n",
    ">Apabila tanpa penyaringan, bank akan menghubungi semua nasabah tanpa adanya pertimbangan/guidance, bank akan mengeluarkan biaya sebanyak:  \n",
    ">2813 nasabah x Rp. 500.000/nasabah = ± Rp. 1,406,500,000 (**± 1.4 miliar**) tanpa adanya kemungkinan pasti bahwa nasabah tersebut akan melakukan deposit. \n",
    "\n",
    "Hal ini kurang make sense apabila dilakukan, karena pengeluaran kasarnya, bank harus mengeluarkan biaya sebanyak ± **1.4 M** hanya untuk melakukan campaign, dan biaya yang dikeluarkan bank ini tidak sebanding dengan potensi pendapatan yang akan diperoleh dari nasabah tersebut, dan juga akan menyita waktu yang banyak untuk menghubungi nasabah tersebut. Maka dari itu, dengan mempertimbangkan konsekuensinya, fokus utama adalah mengembangkan model ini adalah **mengurangi False Negative** dan **meningkatkan False Positive**, karena bank akan mengalami **kerugian yang lebih besar apabila kehilangan kandidat nasabah potensial** apabila dibandingkan dengan kerugian biaya kampanye dan waktu. Tujuan utama adalah meningkatkan **Recall**, memaksimalkan identifikasi calon nasabah yang sebenarnya bersedia menaruh deposit, meskipun ada peningkatan false positive yang dapat diterima. Pendekatan ini diharapkan mencapai keseimbangan optimal antara efisiensi biaya kampanye dan pemeliharaan potensi nasabah yang dicari.  \n",
    "\n",
    "**Sumber**:\n",
    "\n",
    "[McKinsey & Company, \"The Data-Driven Organization: How Analytics and Machine Learning Are Transforming Business\"](https://www.mckinsey.com/capabilities/quantumblack/our-insights/the-data-driven-enterprise-of-2025)    \n",
    "[OJK Indonesia, \"BERINVESTASI MELALUI DEPOSITO\"](https://sikapiuangmu.ojk.go.id/FrontEnd/CMS/Article/252)  \n",
    "[Frederick F. Reichheld and W. Earl Sasser, Jr., \"The Cost of Losing a Customer\"](https://hbr.org/1990/09/zero-defections-quality-comes-to-services)  "
   ]
  },
  {
   "cell_type": "markdown",
   "metadata": {},
   "source": [
    "### **Data Understanding**\n",
    "\n",
    "- Dataset menunjukkan keseimbangan dalam jumlah kandidat nasabah yang menaruh dan tidak menaruh deposit.\n",
    "- Sebagian besar fitur dalam dataset memiliki jenis kategorikal, baik dalam bentuk nominal maupun ordinal, dan beberapa di antaranya memiliki kardinalitas tinggi.\n",
    "- Setiap entri dalam dataset mencerminkan informasi mengenai kandidat nasabah yang telah melakukan penarikan deposit pada periode sebelumnya.\n",
    "\n",
    "## **Dataset Information**\n",
    "\n",
    "| Attribute | Data Type | Description |\n",
    "| --- | --- | --- |\n",
    "| age | Numeric | Umur nasabah |\n",
    "| job | Text | Pekerjaan nasabah |\n",
    "| balance | Float | Jumlah saldo tahunan |\n",
    "| housing | Text | Memiliki cicilan rumah |\n",
    "| loan | Text | Memiliki hutang |\n",
    "| contact | Text | Alat komunikasi yang digunakan untuk menghubungi |\n",
    "| month | Text | Bulan terakhir dihubungi dalam 1 tahun |\n",
    "| campaign | Numeric | Jumlah kontak yang dilakukan selama kampanye |\n",
    "| pdays | Numeric | Jumlah hari setelah kandidat nasabah dihubungi |\n",
    "| poutcome | Text | Hasil dari kampanye sebelumnya |\n",
    "| deposit | Text | Kandidat nasabah menaruh deposit berjangka |"
   ]
  },
  {
   "cell_type": "markdown",
   "metadata": {},
   "source": [
    "## **Daftar Isi**  "
   ]
  },
  {
   "cell_type": "markdown",
   "metadata": {},
   "source": [
    "<a href=\"#1\">1. Data Cleaning</a>  \n",
    "<a href=\"#2\">2. Data Preprocessing/Feature Engineering</a>  \n",
    "<a href=\"#3\">3. Model Benchmarking</a>  \n",
    "<a href=\"#4\">4. Hyperparameter Tuning</a>  \n",
    "<a href=\"#5\">5. Predicting</a>  \n",
    "<a href=\"#6\">6. Feature Importance</a>  \n",
    "<a href=\"#7\">7. Conclusion&Recommendation</a>  \n",
    "<a id='hitung'></a>"
   ]
  },
  {
   "cell_type": "code",
   "execution_count": 2,
   "metadata": {},
   "outputs": [],
   "source": [
    "# Data Manipulation\n",
    "import pandas as pd\n",
    "import numpy as np\n",
    "\n",
    "# Model Preprocessing\n",
    "from sklearn.compose import ColumnTransformer\n",
    "from sklearn.preprocessing import OneHotEncoder\n",
    "import category_encoders as ce\n",
    "from category_encoders import OrdinalEncoder\n",
    "\n",
    "# Model Selection\n",
    "from sklearn.model_selection import train_test_split, GridSearchCV, StratifiedKFold\n",
    "\n",
    "# Pipeline\n",
    "from sklearn.pipeline import Pipeline\n",
    "\n",
    "# Model\n",
    "from sklearn.linear_model import LogisticRegression\n",
    "from sklearn.neighbors import KNeighborsClassifier\n",
    "from sklearn.tree import DecisionTreeClassifier\n",
    "from sklearn.svm import SVC\n",
    "\n",
    "# Ensemble\n",
    "from sklearn.ensemble import StackingClassifier, VotingClassifier, RandomForestClassifier, BaggingClassifier\n",
    "from sklearn.ensemble import GradientBoostingClassifier, AdaBoostClassifier\n",
    "from xgboost.sklearn import XGBClassifier\n",
    "from lightgbm.sklearn import LGBMClassifier\n",
    "\n",
    "# Metric\n",
    "from sklearn.metrics import classification_report, make_scorer, recall_score, precision_score\n",
    "\n",
    "# Data Vizualisation\n",
    "import matplotlib.pyplot as plt\n",
    "import seaborn as sns\n",
    "\n",
    "import warnings\n",
    "warnings.filterwarnings('ignore')"
   ]
  },
  {
   "cell_type": "markdown",
   "metadata": {},
   "source": []
  },
  {
   "cell_type": "code",
   "execution_count": 3,
   "metadata": {},
   "outputs": [
    {
     "data": {
      "text/html": [
       "<div>\n",
       "<style scoped>\n",
       "    .dataframe tbody tr th:only-of-type {\n",
       "        vertical-align: middle;\n",
       "    }\n",
       "\n",
       "    .dataframe tbody tr th {\n",
       "        vertical-align: top;\n",
       "    }\n",
       "\n",
       "    .dataframe thead th {\n",
       "        text-align: right;\n",
       "    }\n",
       "</style>\n",
       "<table border=\"1\" class=\"dataframe\">\n",
       "  <thead>\n",
       "    <tr style=\"text-align: right;\">\n",
       "      <th></th>\n",
       "      <th>age</th>\n",
       "      <th>job</th>\n",
       "      <th>balance</th>\n",
       "      <th>housing</th>\n",
       "      <th>loan</th>\n",
       "      <th>contact</th>\n",
       "      <th>month</th>\n",
       "      <th>campaign</th>\n",
       "      <th>pdays</th>\n",
       "      <th>poutcome</th>\n",
       "      <th>deposit</th>\n",
       "    </tr>\n",
       "  </thead>\n",
       "  <tbody>\n",
       "    <tr>\n",
       "      <th>0</th>\n",
       "      <td>55</td>\n",
       "      <td>admin.</td>\n",
       "      <td>1662</td>\n",
       "      <td>no</td>\n",
       "      <td>no</td>\n",
       "      <td>cellular</td>\n",
       "      <td>jun</td>\n",
       "      <td>2</td>\n",
       "      <td>-1</td>\n",
       "      <td>unknown</td>\n",
       "      <td>yes</td>\n",
       "    </tr>\n",
       "    <tr>\n",
       "      <th>1</th>\n",
       "      <td>39</td>\n",
       "      <td>self-employed</td>\n",
       "      <td>-3058</td>\n",
       "      <td>yes</td>\n",
       "      <td>yes</td>\n",
       "      <td>cellular</td>\n",
       "      <td>apr</td>\n",
       "      <td>3</td>\n",
       "      <td>-1</td>\n",
       "      <td>unknown</td>\n",
       "      <td>yes</td>\n",
       "    </tr>\n",
       "    <tr>\n",
       "      <th>2</th>\n",
       "      <td>51</td>\n",
       "      <td>admin.</td>\n",
       "      <td>3025</td>\n",
       "      <td>no</td>\n",
       "      <td>no</td>\n",
       "      <td>cellular</td>\n",
       "      <td>may</td>\n",
       "      <td>1</td>\n",
       "      <td>352</td>\n",
       "      <td>other</td>\n",
       "      <td>yes</td>\n",
       "    </tr>\n",
       "    <tr>\n",
       "      <th>3</th>\n",
       "      <td>38</td>\n",
       "      <td>services</td>\n",
       "      <td>-87</td>\n",
       "      <td>yes</td>\n",
       "      <td>no</td>\n",
       "      <td>cellular</td>\n",
       "      <td>may</td>\n",
       "      <td>1</td>\n",
       "      <td>-1</td>\n",
       "      <td>unknown</td>\n",
       "      <td>no</td>\n",
       "    </tr>\n",
       "    <tr>\n",
       "      <th>4</th>\n",
       "      <td>36</td>\n",
       "      <td>housemaid</td>\n",
       "      <td>205</td>\n",
       "      <td>yes</td>\n",
       "      <td>no</td>\n",
       "      <td>telephone</td>\n",
       "      <td>nov</td>\n",
       "      <td>4</td>\n",
       "      <td>-1</td>\n",
       "      <td>unknown</td>\n",
       "      <td>no</td>\n",
       "    </tr>\n",
       "  </tbody>\n",
       "</table>\n",
       "</div>"
      ],
      "text/plain": [
       "   age            job  balance housing loan    contact month  campaign  pdays  \\\n",
       "0   55         admin.     1662      no   no   cellular   jun         2     -1   \n",
       "1   39  self-employed    -3058     yes  yes   cellular   apr         3     -1   \n",
       "2   51         admin.     3025      no   no   cellular   may         1    352   \n",
       "3   38       services      -87     yes   no   cellular   may         1     -1   \n",
       "4   36      housemaid      205     yes   no  telephone   nov         4     -1   \n",
       "\n",
       "  poutcome deposit  \n",
       "0  unknown     yes  \n",
       "1  unknown     yes  \n",
       "2    other     yes  \n",
       "3  unknown      no  \n",
       "4  unknown      no  "
      ]
     },
     "execution_count": 3,
     "metadata": {},
     "output_type": "execute_result"
    }
   ],
   "source": [
    "df = pd.read_csv('data_bank_marketing_campaign.csv')\n",
    "df.head()"
   ]
  },
  {
   "cell_type": "code",
   "execution_count": 4,
   "metadata": {},
   "outputs": [
    {
     "data": {
      "text/plain": [
       "(7813, 11)"
      ]
     },
     "execution_count": 4,
     "metadata": {},
     "output_type": "execute_result"
    }
   ],
   "source": [
    "df.shape"
   ]
  },
  {
   "cell_type": "markdown",
   "metadata": {},
   "source": [
    "# 1. Data Cleaning <a id=\"#1\"></a>"
   ]
  },
  {
   "cell_type": "markdown",
   "metadata": {},
   "source": [
    "Pertama, kita akan mengecek data type, nunique, missing value, dan macam value unique dalam dataset"
   ]
  },
  {
   "cell_type": "code",
   "execution_count": 5,
   "metadata": {},
   "outputs": [
    {
     "data": {
      "text/html": [
       "<div>\n",
       "<style scoped>\n",
       "    .dataframe tbody tr th:only-of-type {\n",
       "        vertical-align: middle;\n",
       "    }\n",
       "\n",
       "    .dataframe tbody tr th {\n",
       "        vertical-align: top;\n",
       "    }\n",
       "\n",
       "    .dataframe thead th {\n",
       "        text-align: right;\n",
       "    }\n",
       "</style>\n",
       "<table border=\"1\" class=\"dataframe\">\n",
       "  <thead>\n",
       "    <tr style=\"text-align: right;\">\n",
       "      <th></th>\n",
       "      <th>Column</th>\n",
       "      <th>Unique Count</th>\n",
       "      <th>Unique Value</th>\n",
       "      <th>Data Type</th>\n",
       "    </tr>\n",
       "  </thead>\n",
       "  <tbody>\n",
       "    <tr>\n",
       "      <th>0</th>\n",
       "      <td>age</td>\n",
       "      <td>75</td>\n",
       "      <td>[55, 39, 51, 38, 36, 41, 37, 35, 57, 23, 33, 31, 53, 30, 46, 48, 25, 29, 28, 52, 49, 44, 42, 27, 47, 64, 26, 34, 56, 32, 58, 45, 54, 50, 79, 65, 40, 24, 60, 43, 61, 59, 62, 68, 82, 71, 73, 76, 69, 20, 72, 22, 67, 19, 70, 75, 63, 93, 77, 80, 66, 21, 87, 81, 92, 88, 84, 83, 78, 74, 18, 85, 95, 86, 90]</td>\n",
       "      <td>int64</td>\n",
       "    </tr>\n",
       "    <tr>\n",
       "      <th>1</th>\n",
       "      <td>job</td>\n",
       "      <td>12</td>\n",
       "      <td>[admin., self-employed, services, housemaid, technician, management, student, blue-collar, entrepreneur, retired, unemployed, unknown]</td>\n",
       "      <td>object</td>\n",
       "    </tr>\n",
       "    <tr>\n",
       "      <th>2</th>\n",
       "      <td>balance</td>\n",
       "      <td>3153</td>\n",
       "      <td>[1662, -3058, 3025, -87, 205, -76, 4803, 911, 805, 0, 1234, 1107, 1170, 341, 4808, 88, 169, 863, 242, 2597, 4929, 277, 1438, 15, 3733, 204, 1684, 1025, 55, 19, 348, 785, 742, 511, 6651, 1612, 555, 54, 1185, 110, 950, 412, 228, 367, 3993, 2599, 3528, 32, 551, 3161, 533, 8725, 349, 514, 2688, -194, 154, 874, 2, 5953, 1269, -327, 235, 7, 2661, 1948, 20, 502, 193, 13658, 1716, 172, 1667, 157, 8, 951, 427, 241, 469, 2060, 7177, 655, -114, 588, -971, 4570, 250, 131, 93, 22, 15341, 356, 190, -124, 2228, -60, 376, 1567, 855, 4151, ...]</td>\n",
       "      <td>int64</td>\n",
       "    </tr>\n",
       "    <tr>\n",
       "      <th>3</th>\n",
       "      <td>housing</td>\n",
       "      <td>2</td>\n",
       "      <td>[no, yes]</td>\n",
       "      <td>object</td>\n",
       "    </tr>\n",
       "    <tr>\n",
       "      <th>4</th>\n",
       "      <td>loan</td>\n",
       "      <td>2</td>\n",
       "      <td>[no, yes]</td>\n",
       "      <td>object</td>\n",
       "    </tr>\n",
       "    <tr>\n",
       "      <th>5</th>\n",
       "      <td>contact</td>\n",
       "      <td>3</td>\n",
       "      <td>[cellular, telephone, unknown]</td>\n",
       "      <td>object</td>\n",
       "    </tr>\n",
       "    <tr>\n",
       "      <th>6</th>\n",
       "      <td>month</td>\n",
       "      <td>12</td>\n",
       "      <td>[jun, apr, may, nov, jan, sep, feb, mar, aug, jul, oct, dec]</td>\n",
       "      <td>object</td>\n",
       "    </tr>\n",
       "    <tr>\n",
       "      <th>7</th>\n",
       "      <td>campaign</td>\n",
       "      <td>32</td>\n",
       "      <td>[2, 3, 1, 4, 5, 6, 7, 30, 8, 9, 11, 14, 10, 28, 63, 12, 24, 17, 15, 18, 19, 13, 21, 23, 22, 33, 16, 25, 26, 20, 29, 43]</td>\n",
       "      <td>int64</td>\n",
       "    </tr>\n",
       "    <tr>\n",
       "      <th>8</th>\n",
       "      <td>pdays</td>\n",
       "      <td>422</td>\n",
       "      <td>[-1, 352, 21, 91, 186, 263, 96, 355, 294, 412, 89, 114, 276, 93, 175, 57, 323, 156, 86, 95, 271, 182, 289, 334, 269, 309, 144, 183, 417, 138, 254, 337, 171, 389, 87, 170, 165, 372, 247, 98, 196, 469, 272, 104, 63, 587, 336, 145, 130, 28, 202, 324, 147, 94, 328, 420, 179, 90, 81, 160, 298, 356, 357, 267, 430, 52, 181, 365, 237, 330, 103, 374, 75, 133, 321, 204, 782, 266, 197, 270, 318, 349, 187, 359, 490, 192, 227, 100, 168, 177, 251, 301, 350, 92, 184, 345, 290, 199, 333, 169, ...]</td>\n",
       "      <td>int64</td>\n",
       "    </tr>\n",
       "    <tr>\n",
       "      <th>9</th>\n",
       "      <td>poutcome</td>\n",
       "      <td>4</td>\n",
       "      <td>[unknown, other, failure, success]</td>\n",
       "      <td>object</td>\n",
       "    </tr>\n",
       "    <tr>\n",
       "      <th>10</th>\n",
       "      <td>deposit</td>\n",
       "      <td>2</td>\n",
       "      <td>[yes, no]</td>\n",
       "      <td>object</td>\n",
       "    </tr>\n",
       "  </tbody>\n",
       "</table>\n",
       "</div>"
      ],
      "text/plain": [
       "      Column  Unique Count  \\\n",
       "0        age            75   \n",
       "1        job            12   \n",
       "2    balance          3153   \n",
       "3    housing             2   \n",
       "4       loan             2   \n",
       "5    contact             3   \n",
       "6      month            12   \n",
       "7   campaign            32   \n",
       "8      pdays           422   \n",
       "9   poutcome             4   \n",
       "10   deposit             2   \n",
       "\n",
       "                                                                                                                                                                                                                                                                                                                                                                                                                                                                                                                                             Unique Value  \\\n",
       "0                                                                                                                                                                                                                                            [55, 39, 51, 38, 36, 41, 37, 35, 57, 23, 33, 31, 53, 30, 46, 48, 25, 29, 28, 52, 49, 44, 42, 27, 47, 64, 26, 34, 56, 32, 58, 45, 54, 50, 79, 65, 40, 24, 60, 43, 61, 59, 62, 68, 82, 71, 73, 76, 69, 20, 72, 22, 67, 19, 70, 75, 63, 93, 77, 80, 66, 21, 87, 81, 92, 88, 84, 83, 78, 74, 18, 85, 95, 86, 90]   \n",
       "1                                                                                                                                                                                                                                                                                                                                                                                                                  [admin., self-employed, services, housemaid, technician, management, student, blue-collar, entrepreneur, retired, unemployed, unknown]   \n",
       "2   [1662, -3058, 3025, -87, 205, -76, 4803, 911, 805, 0, 1234, 1107, 1170, 341, 4808, 88, 169, 863, 242, 2597, 4929, 277, 1438, 15, 3733, 204, 1684, 1025, 55, 19, 348, 785, 742, 511, 6651, 1612, 555, 54, 1185, 110, 950, 412, 228, 367, 3993, 2599, 3528, 32, 551, 3161, 533, 8725, 349, 514, 2688, -194, 154, 874, 2, 5953, 1269, -327, 235, 7, 2661, 1948, 20, 502, 193, 13658, 1716, 172, 1667, 157, 8, 951, 427, 241, 469, 2060, 7177, 655, -114, 588, -971, 4570, 250, 131, 93, 22, 15341, 356, 190, -124, 2228, -60, 376, 1567, 855, 4151, ...]   \n",
       "3                                                                                                                                                                                                                                                                                                                                                                                                                                                                                                                                               [no, yes]   \n",
       "4                                                                                                                                                                                                                                                                                                                                                                                                                                                                                                                                               [no, yes]   \n",
       "5                                                                                                                                                                                                                                                                                                                                                                                                                                                                                                                          [cellular, telephone, unknown]   \n",
       "6                                                                                                                                                                                                                                                                                                                                                                                                                                                                                            [jun, apr, may, nov, jan, sep, feb, mar, aug, jul, oct, dec]   \n",
       "7                                                                                                                                                                                                                                                                                                                                                                                                                                 [2, 3, 1, 4, 5, 6, 7, 30, 8, 9, 11, 14, 10, 28, 63, 12, 24, 17, 15, 18, 19, 13, 21, 23, 22, 33, 16, 25, 26, 20, 29, 43]   \n",
       "8                                                  [-1, 352, 21, 91, 186, 263, 96, 355, 294, 412, 89, 114, 276, 93, 175, 57, 323, 156, 86, 95, 271, 182, 289, 334, 269, 309, 144, 183, 417, 138, 254, 337, 171, 389, 87, 170, 165, 372, 247, 98, 196, 469, 272, 104, 63, 587, 336, 145, 130, 28, 202, 324, 147, 94, 328, 420, 179, 90, 81, 160, 298, 356, 357, 267, 430, 52, 181, 365, 237, 330, 103, 374, 75, 133, 321, 204, 782, 266, 197, 270, 318, 349, 187, 359, 490, 192, 227, 100, 168, 177, 251, 301, 350, 92, 184, 345, 290, 199, 333, 169, ...]   \n",
       "9                                                                                                                                                                                                                                                                                                                                                                                                                                                                                                                      [unknown, other, failure, success]   \n",
       "10                                                                                                                                                                                                                                                                                                                                                                                                                                                                                                                                              [yes, no]   \n",
       "\n",
       "   Data Type  \n",
       "0      int64  \n",
       "1     object  \n",
       "2      int64  \n",
       "3     object  \n",
       "4     object  \n",
       "5     object  \n",
       "6     object  \n",
       "7      int64  \n",
       "8      int64  \n",
       "9     object  \n",
       "10    object  "
      ]
     },
     "execution_count": 5,
     "metadata": {},
     "output_type": "execute_result"
    }
   ],
   "source": [
    "pd.set_option('display.max_colwidth', None)\n",
    "\n",
    "uniqueItem = []\n",
    "for column in df.columns:\n",
    "    uniqueItem.append([column, df[column].nunique(), df[column].unique(), df[column].dtype])\n",
    "\n",
    "unique = pd.DataFrame(columns=['Column', 'Unique Count', 'Unique Value', 'Data Type'], data=uniqueItem)\n",
    "unique"
   ]
  },
  {
   "cell_type": "markdown",
   "metadata": {},
   "source": [
    "Setelah melihat hasil, tidak ditemukan data type yang kurang sesuai. Maka dari itu, kita akan melanjutkan untuk mengecek Missing Value"
   ]
  },
  {
   "cell_type": "markdown",
   "metadata": {},
   "source": [
    "### Cek Missing Value"
   ]
  },
  {
   "cell_type": "code",
   "execution_count": 6,
   "metadata": {},
   "outputs": [
    {
     "data": {
      "text/plain": [
       "age         0\n",
       "job         0\n",
       "balance     0\n",
       "housing     0\n",
       "loan        0\n",
       "contact     0\n",
       "month       0\n",
       "campaign    0\n",
       "pdays       0\n",
       "poutcome    0\n",
       "deposit     0\n",
       "dtype: int64"
      ]
     },
     "execution_count": 6,
     "metadata": {},
     "output_type": "execute_result"
    }
   ],
   "source": [
    "df.isna().sum()"
   ]
  },
  {
   "cell_type": "markdown",
   "metadata": {},
   "source": [
    "Karena tidak ada missing value pada dataset, maka kita akan lanjut untuk mengecek duplikat"
   ]
  },
  {
   "cell_type": "markdown",
   "metadata": {},
   "source": [
    "### Cek data duplikat"
   ]
  },
  {
   "cell_type": "code",
   "execution_count": 7,
   "metadata": {},
   "outputs": [
    {
     "data": {
      "text/plain": [
       "8"
      ]
     },
     "execution_count": 7,
     "metadata": {},
     "output_type": "execute_result"
    }
   ],
   "source": [
    "df.duplicated().sum()"
   ]
  },
  {
   "cell_type": "markdown",
   "metadata": {},
   "source": [
    "Ternyata terdapat data duplikat pada dataset. Mari kita cek lebih detail"
   ]
  },
  {
   "cell_type": "code",
   "execution_count": 8,
   "metadata": {},
   "outputs": [
    {
     "data": {
      "text/html": [
       "<div>\n",
       "<style scoped>\n",
       "    .dataframe tbody tr th:only-of-type {\n",
       "        vertical-align: middle;\n",
       "    }\n",
       "\n",
       "    .dataframe tbody tr th {\n",
       "        vertical-align: top;\n",
       "    }\n",
       "\n",
       "    .dataframe thead th {\n",
       "        text-align: right;\n",
       "    }\n",
       "</style>\n",
       "<table border=\"1\" class=\"dataframe\">\n",
       "  <thead>\n",
       "    <tr style=\"text-align: right;\">\n",
       "      <th></th>\n",
       "      <th>age</th>\n",
       "      <th>job</th>\n",
       "      <th>balance</th>\n",
       "      <th>housing</th>\n",
       "      <th>loan</th>\n",
       "      <th>contact</th>\n",
       "      <th>month</th>\n",
       "      <th>campaign</th>\n",
       "      <th>pdays</th>\n",
       "      <th>poutcome</th>\n",
       "      <th>deposit</th>\n",
       "    </tr>\n",
       "  </thead>\n",
       "  <tbody>\n",
       "    <tr>\n",
       "      <th>330</th>\n",
       "      <td>40</td>\n",
       "      <td>blue-collar</td>\n",
       "      <td>0</td>\n",
       "      <td>yes</td>\n",
       "      <td>no</td>\n",
       "      <td>unknown</td>\n",
       "      <td>may</td>\n",
       "      <td>2</td>\n",
       "      <td>-1</td>\n",
       "      <td>unknown</td>\n",
       "      <td>no</td>\n",
       "    </tr>\n",
       "    <tr>\n",
       "      <th>2944</th>\n",
       "      <td>40</td>\n",
       "      <td>blue-collar</td>\n",
       "      <td>0</td>\n",
       "      <td>yes</td>\n",
       "      <td>no</td>\n",
       "      <td>unknown</td>\n",
       "      <td>may</td>\n",
       "      <td>2</td>\n",
       "      <td>-1</td>\n",
       "      <td>unknown</td>\n",
       "      <td>no</td>\n",
       "    </tr>\n",
       "    <tr>\n",
       "      <th>4935</th>\n",
       "      <td>44</td>\n",
       "      <td>blue-collar</td>\n",
       "      <td>0</td>\n",
       "      <td>yes</td>\n",
       "      <td>no</td>\n",
       "      <td>cellular</td>\n",
       "      <td>jul</td>\n",
       "      <td>1</td>\n",
       "      <td>-1</td>\n",
       "      <td>unknown</td>\n",
       "      <td>no</td>\n",
       "    </tr>\n",
       "    <tr>\n",
       "      <th>5326</th>\n",
       "      <td>44</td>\n",
       "      <td>blue-collar</td>\n",
       "      <td>0</td>\n",
       "      <td>yes</td>\n",
       "      <td>no</td>\n",
       "      <td>cellular</td>\n",
       "      <td>jul</td>\n",
       "      <td>1</td>\n",
       "      <td>-1</td>\n",
       "      <td>unknown</td>\n",
       "      <td>no</td>\n",
       "    </tr>\n",
       "    <tr>\n",
       "      <th>2486</th>\n",
       "      <td>30</td>\n",
       "      <td>blue-collar</td>\n",
       "      <td>239</td>\n",
       "      <td>yes</td>\n",
       "      <td>no</td>\n",
       "      <td>unknown</td>\n",
       "      <td>may</td>\n",
       "      <td>1</td>\n",
       "      <td>-1</td>\n",
       "      <td>unknown</td>\n",
       "      <td>yes</td>\n",
       "    </tr>\n",
       "    <tr>\n",
       "      <th>7077</th>\n",
       "      <td>30</td>\n",
       "      <td>blue-collar</td>\n",
       "      <td>239</td>\n",
       "      <td>yes</td>\n",
       "      <td>no</td>\n",
       "      <td>unknown</td>\n",
       "      <td>may</td>\n",
       "      <td>1</td>\n",
       "      <td>-1</td>\n",
       "      <td>unknown</td>\n",
       "      <td>yes</td>\n",
       "    </tr>\n",
       "    <tr>\n",
       "      <th>1468</th>\n",
       "      <td>34</td>\n",
       "      <td>management</td>\n",
       "      <td>0</td>\n",
       "      <td>no</td>\n",
       "      <td>no</td>\n",
       "      <td>cellular</td>\n",
       "      <td>aug</td>\n",
       "      <td>2</td>\n",
       "      <td>-1</td>\n",
       "      <td>unknown</td>\n",
       "      <td>no</td>\n",
       "    </tr>\n",
       "    <tr>\n",
       "      <th>1948</th>\n",
       "      <td>60</td>\n",
       "      <td>management</td>\n",
       "      <td>0</td>\n",
       "      <td>no</td>\n",
       "      <td>no</td>\n",
       "      <td>cellular</td>\n",
       "      <td>aug</td>\n",
       "      <td>3</td>\n",
       "      <td>-1</td>\n",
       "      <td>unknown</td>\n",
       "      <td>yes</td>\n",
       "    </tr>\n",
       "    <tr>\n",
       "      <th>3073</th>\n",
       "      <td>41</td>\n",
       "      <td>management</td>\n",
       "      <td>0</td>\n",
       "      <td>no</td>\n",
       "      <td>no</td>\n",
       "      <td>cellular</td>\n",
       "      <td>aug</td>\n",
       "      <td>2</td>\n",
       "      <td>-1</td>\n",
       "      <td>unknown</td>\n",
       "      <td>no</td>\n",
       "    </tr>\n",
       "    <tr>\n",
       "      <th>4368</th>\n",
       "      <td>60</td>\n",
       "      <td>management</td>\n",
       "      <td>0</td>\n",
       "      <td>no</td>\n",
       "      <td>no</td>\n",
       "      <td>cellular</td>\n",
       "      <td>aug</td>\n",
       "      <td>3</td>\n",
       "      <td>-1</td>\n",
       "      <td>unknown</td>\n",
       "      <td>yes</td>\n",
       "    </tr>\n",
       "    <tr>\n",
       "      <th>4874</th>\n",
       "      <td>41</td>\n",
       "      <td>management</td>\n",
       "      <td>0</td>\n",
       "      <td>no</td>\n",
       "      <td>no</td>\n",
       "      <td>cellular</td>\n",
       "      <td>aug</td>\n",
       "      <td>2</td>\n",
       "      <td>-1</td>\n",
       "      <td>unknown</td>\n",
       "      <td>no</td>\n",
       "    </tr>\n",
       "    <tr>\n",
       "      <th>5905</th>\n",
       "      <td>34</td>\n",
       "      <td>management</td>\n",
       "      <td>0</td>\n",
       "      <td>no</td>\n",
       "      <td>no</td>\n",
       "      <td>cellular</td>\n",
       "      <td>aug</td>\n",
       "      <td>2</td>\n",
       "      <td>-1</td>\n",
       "      <td>unknown</td>\n",
       "      <td>no</td>\n",
       "    </tr>\n",
       "    <tr>\n",
       "      <th>223</th>\n",
       "      <td>38</td>\n",
       "      <td>technician</td>\n",
       "      <td>0</td>\n",
       "      <td>no</td>\n",
       "      <td>no</td>\n",
       "      <td>cellular</td>\n",
       "      <td>aug</td>\n",
       "      <td>2</td>\n",
       "      <td>-1</td>\n",
       "      <td>unknown</td>\n",
       "      <td>no</td>\n",
       "    </tr>\n",
       "    <tr>\n",
       "      <th>1381</th>\n",
       "      <td>39</td>\n",
       "      <td>technician</td>\n",
       "      <td>0</td>\n",
       "      <td>yes</td>\n",
       "      <td>no</td>\n",
       "      <td>unknown</td>\n",
       "      <td>may</td>\n",
       "      <td>1</td>\n",
       "      <td>-1</td>\n",
       "      <td>unknown</td>\n",
       "      <td>no</td>\n",
       "    </tr>\n",
       "    <tr>\n",
       "      <th>5609</th>\n",
       "      <td>39</td>\n",
       "      <td>technician</td>\n",
       "      <td>0</td>\n",
       "      <td>yes</td>\n",
       "      <td>no</td>\n",
       "      <td>unknown</td>\n",
       "      <td>may</td>\n",
       "      <td>1</td>\n",
       "      <td>-1</td>\n",
       "      <td>unknown</td>\n",
       "      <td>no</td>\n",
       "    </tr>\n",
       "    <tr>\n",
       "      <th>5681</th>\n",
       "      <td>38</td>\n",
       "      <td>technician</td>\n",
       "      <td>0</td>\n",
       "      <td>no</td>\n",
       "      <td>no</td>\n",
       "      <td>cellular</td>\n",
       "      <td>aug</td>\n",
       "      <td>2</td>\n",
       "      <td>-1</td>\n",
       "      <td>unknown</td>\n",
       "      <td>no</td>\n",
       "    </tr>\n",
       "  </tbody>\n",
       "</table>\n",
       "</div>"
      ],
      "text/plain": [
       "      age          job  balance housing loan   contact month  campaign  pdays  \\\n",
       "330    40  blue-collar        0     yes   no   unknown   may         2     -1   \n",
       "2944   40  blue-collar        0     yes   no   unknown   may         2     -1   \n",
       "4935   44  blue-collar        0     yes   no  cellular   jul         1     -1   \n",
       "5326   44  blue-collar        0     yes   no  cellular   jul         1     -1   \n",
       "2486   30  blue-collar      239     yes   no   unknown   may         1     -1   \n",
       "7077   30  blue-collar      239     yes   no   unknown   may         1     -1   \n",
       "1468   34   management        0      no   no  cellular   aug         2     -1   \n",
       "1948   60   management        0      no   no  cellular   aug         3     -1   \n",
       "3073   41   management        0      no   no  cellular   aug         2     -1   \n",
       "4368   60   management        0      no   no  cellular   aug         3     -1   \n",
       "4874   41   management        0      no   no  cellular   aug         2     -1   \n",
       "5905   34   management        0      no   no  cellular   aug         2     -1   \n",
       "223    38   technician        0      no   no  cellular   aug         2     -1   \n",
       "1381   39   technician        0     yes   no   unknown   may         1     -1   \n",
       "5609   39   technician        0     yes   no   unknown   may         1     -1   \n",
       "5681   38   technician        0      no   no  cellular   aug         2     -1   \n",
       "\n",
       "     poutcome deposit  \n",
       "330   unknown      no  \n",
       "2944  unknown      no  \n",
       "4935  unknown      no  \n",
       "5326  unknown      no  \n",
       "2486  unknown     yes  \n",
       "7077  unknown     yes  \n",
       "1468  unknown      no  \n",
       "1948  unknown     yes  \n",
       "3073  unknown      no  \n",
       "4368  unknown     yes  \n",
       "4874  unknown      no  \n",
       "5905  unknown      no  \n",
       "223   unknown      no  \n",
       "1381  unknown      no  \n",
       "5609  unknown      no  \n",
       "5681  unknown      no  "
      ]
     },
     "execution_count": 8,
     "metadata": {},
     "output_type": "execute_result"
    }
   ],
   "source": [
    "df[df.duplicated(keep=False)].sort_values(by=['job', 'balance'])"
   ]
  },
  {
   "cell_type": "markdown",
   "metadata": {},
   "source": [
    "Data duplikat dalam dataset akan **dianggap tidak signifikan** dan **tidak akan menjadi perhatian**. Ini karena kolom-kolom yang ada dalam dataset memungkinkan **entri** yang memiliki kemiripan atau kesamaan tanpa adanya **pembeda unik** seperti **Nomor Kartu Tanda Penduduk (KTP)**. Keadaan ini dianggap **sesuai** dengan situasi aktual dan tidak memerlukan tindakan khusus terkait duplikasi data."
   ]
  },
  {
   "cell_type": "markdown",
   "metadata": {},
   "source": [
    "## Handling Outliers"
   ]
  },
  {
   "cell_type": "markdown",
   "metadata": {},
   "source": [
    "Sekarang, kita akan cek outliers pada kolom-kolom **numerik** yang terdapat pada dataset"
   ]
  },
  {
   "cell_type": "code",
   "execution_count": 9,
   "metadata": {},
   "outputs": [
    {
     "name": "stdout",
     "output_type": "stream",
     "text": [
      "Outlier Count of age column : 121(1.5%)\n",
      "Outlier Count of balance column : 736(9.4%)\n",
      "Outlier Count of campaign column : 429(5.5%)\n",
      "Outlier Count of pdays column : 1454(18.6%)\n"
     ]
    },
    {
     "data": {
      "image/png": "[encoded data removed]",
      "text/plain": [
       "<Figure size 1500x1000 with 4 Axes>"
      ]
     },
     "metadata": {},
     "output_type": "display_data"
    }
   ],
   "source": [
    "# Mengecek setiap kolom yang disebutkan diatas menggunakan IQR\n",
    "\n",
    "def checkOutlier(df):\n",
    "    Q1 = df.quantile(0.25)\n",
    "    Q3 = df.quantile(0.75)\n",
    "    IQR = Q3 - Q1\n",
    "    return (df < (Q1 - 1.5 * IQR)) | (df > (Q3 + 1.5 * IQR))\n",
    "\n",
    "dataChecking = checkOutlier(\n",
    "                        df[['age', 'balance', 'campaign', 'pdays']]\n",
    ")\n",
    "    \n",
    "\n",
    "dataOutlier = pd.DataFrame(dataChecking[dataChecking.any(axis=1)])\n",
    "\n",
    "# menambahkan kolom baru untuk menunjukkan apakah suatu kolom memiliki outlier atau tidak\n",
    "\n",
    "dataOutlier['outlierColumn'] = dataChecking[dataChecking.any(axis=1)].apply(lambda x: ','.join(x.index[x]), axis=1)\n",
    "\n",
    "# menggunakan looping untuk menunjukkan ada berapa banyak outlier yang ada dalam setiap kolom\n",
    "\n",
    "for col in dataOutlier.columns:\n",
    "    if col != 'outlierColumn':\n",
    "        print(f\"Outlier Count of {col} column : {len(dataOutlier[dataOutlier[col] == True])}({len(dataOutlier[dataOutlier[col] == True])/len(df)*100:.1f}%)\")\n",
    "\n",
    "plt.figure(figsize=(15, 10))\n",
    "\n",
    "plt.subplot(2, 2, 1)\n",
    "box_plot1 = sns.boxplot(data=df['age'])\n",
    "box_plot1.set_title('Age Outliers')\n",
    "plt.grid()\n",
    "\n",
    "plt.subplot(2, 2, 2)\n",
    "box_plot2 = sns.boxplot(data=df['balance'])\n",
    "box_plot2.set_title('Balance Outliers')\n",
    "plt.grid()\n",
    "\n",
    "plt.subplot(2, 2, 3)\n",
    "box_plot3 = sns.boxplot(data=df['campaign'])\n",
    "box_plot3.set_title('Campaign Outliers')\n",
    "plt.grid()\n",
    "\n",
    "plt.subplot(2, 2, 4)\n",
    "box_plot4 = sns.boxplot(data=df['pdays'])\n",
    "box_plot4.set_title('Pdays Outliers')\n",
    "plt.grid()\n",
    "\n",
    "plt.suptitle('Outliers Count')\n",
    "plt.show()"
   ]
  },
  {
   "cell_type": "markdown",
   "metadata": {},
   "source": [
    "<a id=\"2\"></a>Ternyata ditemukan outliers pada kolom-kolom numerik pada dataset ini. Disini saya **tidak akan handling outlier** pada kolom-kolom tersebut. Namun, saya memiliki alasan yang kuat untuk tidak handling outliers tersebut, seperti:  \n",
    "1. Outliers pada beberapa fitur mungkin **memiliki nilai aktual yang valid**. Misalnya, nilai balance yang tinggi pada akun bank tidak selalu harus dianggap sebagai outliers jika ada nasabah yang memang memiliki saldo yang besar.  \n",
    "2. Pada beberapa kasus, **outliers yang ada mungkin mencerminkan variasi alami** dalam perilaku atau keadaan nasabah. Tanpa pemahaman yang mendalam mengenai aspek bisnis dan konteks data, **menghapus outliers dapat menyebabkan kehilangan informasi berharga**.  \n",
    "3. Outliers mungkin memiliki **pengaruh pada model yang signifikan**, terutama jika mereka **mencerminkan keadaan atau perilaku yang benar-benar relevan**. **Menghapusnya** dapat menyebabkan **kehilangan informasi penting dan mempengaruhi kinerja model**.  \n",
    "  \n",
    "Dengan adanya pertimbangan diatas, saya memutuskan untuk **tidak handling outliers** pada kolom numerik didalam dataset"
   ]
  },
  {
   "cell_type": "markdown",
   "metadata": {},
   "source": [
    "# 2. Data Preprocessing/Feature Engineering"
   ]
  },
  {
   "cell_type": "markdown",
   "metadata": {},
   "source": [
    "## Check Balance"
   ]
  },
  {
   "cell_type": "markdown",
   "metadata": {},
   "source": [
    "Sebelum memulai preprocessing, kita akan mengecek terlebih dahulu proporsi dari kolom target kita"
   ]
  },
  {
   "cell_type": "code",
   "execution_count": 10,
   "metadata": {},
   "outputs": [
    {
     "data": {
      "image/png": "[encoded data removed]",
      "text/plain": [
       "<Figure size 640x480 with 1 Axes>"
      ]
     },
     "metadata": {},
     "output_type": "display_data"
    }
   ],
   "source": [
    "plt.title(\"Targets (deposit) Count\", size=18, weight='bold')\n",
    "sns.countplot(x=df['deposit'])\n",
    "plt.show()"
   ]
  },
  {
   "cell_type": "code",
   "execution_count": 11,
   "metadata": {},
   "outputs": [
    {
     "data": {
      "image/png": "[encoded data removed]",
      "text/plain": [
       "<Figure size 700x700 with 1 Axes>"
      ]
     },
     "metadata": {},
     "output_type": "display_data"
    }
   ],
   "source": [
    "plt.figure(figsize=(7,7))\n",
    "plt.title(\"Target (deposit) Proportion on Dataset\", size=18, weight='bold')\n",
    "plt.pie(df['deposit'].value_counts(), explode=(0,0.1), labels=['No', 'Yes'], colors=[\"orange\",\"green\"], autopct='%1.1f%%', shadow=True, \n",
    "        startangle=90, textprops={\"fontsize\":20})\n",
    "\n",
    "plt.show()"
   ]
  },
  {
   "cell_type": "markdown",
   "metadata": {},
   "source": [
    "Hasil dari check balance kolom target (deposit) adalah kolom target termasuk data yang balance karena proporsi dari \"Yes\" dan \"No\" selisihnya hanya sebesar **4.4%**. Hal ini berdasarkan Rule of Thumb yang disetujui secara umum yang dapat dibaca [**disini**](https://datascience.stackexchange.com/questions/122571/determining-whether-a-dataset-is-imbalanced-or-not)"
   ]
  },
  {
   "cell_type": "markdown",
   "metadata": {},
   "source": [
    "## Splitting Data"
   ]
  },
  {
   "cell_type": "markdown",
   "metadata": {},
   "source": [
    "Splitting data dilakukan 2x, yang pertama yaitu membuat dataset `holdout` sebanyak **20%** dari dataset utama, yang nantinya akan dibagi menjadi 2, yaitu `holdout_feature` yang berisi semua kolom selain **deposit** dan `holdout_target` yang berisi kolom **deposit**, yang berfungsi untuk menghindari kemungkinan adanya **data leakage** dan nantinya akan diprediksi.  \n",
    "\n",
    " Lalu yang kedua yaitu membagi dataset menjadi 2 bagian, yaitu **feature** yang berisi semua kolom selain **deposit** dan **target** yang berisi kolom **deposit**, lalu membaginya menjadi 4 bagian, yaitu `x_train`, `x_test`, `y_train`, dan `y_test` yang berfungsi untuk di train, dan dilakukan prediksi"
   ]
  },
  {
   "cell_type": "code",
   "execution_count": 12,
   "metadata": {},
   "outputs": [],
   "source": [
    "# Membuat sample holdout dari 20% data\n",
    "holdout = df.sample(frac=0.2, random_state=2)\n",
    "\n",
    "# Drop holdout sample dari dataframe untuk menghindari data leakage\n",
    "df.drop(holdout.index, inplace=True)\n",
    "\n",
    "# Membagi holdout menjadi feature dan target\n",
    "holdout_feature = holdout.drop(columns=['deposit'])\n",
    "holdout_target = np.where(holdout['deposit'] == 'yes', 1, 0)"
   ]
  },
  {
   "cell_type": "markdown",
   "metadata": {},
   "source": [
    "<a id=\"3\"></a>"
   ]
  },
  {
   "cell_type": "code",
   "execution_count": 13,
   "metadata": {},
   "outputs": [
    {
     "name": "stdout",
     "output_type": "stream",
     "text": [
      "Shape x_train: (5000, 10)\n",
      "Shape y_train: (5000,)\n"
     ]
    }
   ],
   "source": [
    "# Membagi dataframe yang tersisa menjadi feature dan target\n",
    "feature = df.drop(columns=['deposit'])\n",
    "target = np.where(df['deposit'] == 'yes', 1, 0)\n",
    "\n",
    "# Membagi feature dan target menjadi training dan testing sets\n",
    "x_train, x_test, y_train, y_test = train_test_split(feature, target, test_size=0.2, random_state=2, stratify=target)\n",
    "\n",
    "# Memastikan bahwa x_train dan y_train memiliki shape yang sama\n",
    "print(\"Shape x_train:\", x_train.shape)\n",
    "print(\"Shape y_train:\", y_train.shape)\n"
   ]
  },
  {
   "cell_type": "markdown",
   "metadata": {},
   "source": [
    "## Feature Engineering"
   ]
  },
  {
   "cell_type": "markdown",
   "metadata": {},
   "source": [
    "Sekarang mari kita melakukan encoding untuk fitur-fitur kategorikal pada dataset. Yang akan kita lakukan adalah :\n",
    "1. Merubah fitur/kolom **job**, **housing**, **loan**, **contact**, dan **poutcome** menggunakan `One Hot Encoding`, karena fitur ini tidak memiliki urutan/tidak ordinal, dan juga jumlah unique datanya hanya sedikit.\n",
    "2. Merubah fitur/kolom **month** menggunakan `Ordinal Encoding`, karena fitur ini memiliki urutan.  \n",
    "\n",
    "Untuk kolom balance dan campaign tidak akan diberikan feature engineering dengan alasan berikut:\n",
    "1. Kolom **balance** mungkin sudah memberikan **informasi yang jelas mengenai saldo nasabah**, dan tidak memerlukan manipulasi tambahan. Membiarkan fitur ini tanpa perubahan **dapat memudahkan interpretasi dan memastikan bahwa informasi saldo yang sebenarnya tidak hilang**.\n",
    "2. Kolom **campaign** mungkin memberikan informasi langsung tentang **jumlah kontak yang dilakukan selama kampanye pemasaran**. Memanipulasi fitur ini dapat **mengurangi kejelasan mengenai seberapa sering kampanye tersebut dilakukan**, yang dapat menjadi **informasi penting**.\n",
    "3. **Feature engineering** mungkin **mempengaruhi kinerja model**, terutama jika perubahan tersebut **tidak sesuai dengan sifat alami dari data tersebut**."
   ]
  },
  {
   "cell_type": "code",
   "execution_count": 14,
   "metadata": {},
   "outputs": [],
   "source": [
    "# Mapping untuk kolom month\n",
    "ordinal_mapping = [\n",
    "    {'col':'month',\n",
    "    'mapping':{\n",
    "        'jan'       :    1,\n",
    "        'feb'       :    2, \n",
    "        'mar'       :    3, \n",
    "        'apr'       :    4, \n",
    "        'may'       :    5, \n",
    "        'jun'       :    6,\n",
    "        'jul'       :    7,\n",
    "        'aug'       :    8,\n",
    "        'sep'       :    9, \n",
    "        'oct'       :    10, \n",
    "        'nov'       :    11, \n",
    "        'dec'       :    12,\n",
    "    }}\n",
    "]"
   ]
  },
  {
   "cell_type": "code",
   "execution_count": 15,
   "metadata": {},
   "outputs": [],
   "source": [
    "transformer = ColumnTransformer([\n",
    "    ('onehot', OneHotEncoder(drop = 'first'), ['job', 'housing', 'loan', 'contact', 'poutcome']),\n",
    "    ('ordinal', ce.OrdinalEncoder(mapping = ordinal_mapping), ['month'])\n",
    "], remainder = 'passthrough')"
   ]
  },
  {
   "cell_type": "code",
   "execution_count": 16,
   "metadata": {},
   "outputs": [
    {
     "data": {
      "text/html": [
       "<style>#sk-container-id-1 {color: black;}#sk-container-id-1 pre{padding: 0;}#sk-container-id-1 div.sk-toggleable {background-color: white;}#sk-container-id-1 label.sk-toggleable__label {cursor: pointer;display: block;width: 100%;margin-bottom: 0;padding: 0.3em;box-sizing: border-box;text-align: center;}#sk-container-id-1 label.sk-toggleable__label-arrow:before {content: \"▸\";float: left;margin-right: 0.25em;color: #696969;}#sk-container-id-1 label.sk-toggleable__label-arrow:hover:before {color: black;}#sk-container-id-1 div.sk-estimator:hover label.sk-toggleable__label-arrow:before {color: black;}#sk-container-id-1 div.sk-toggleable__content {max-height: 0;max-width: 0;overflow: hidden;text-align: left;background-color: #f0f8ff;}#sk-container-id-1 div.sk-toggleable__content pre {margin: 0.2em;color: black;border-radius: 0.25em;background-color: #f0f8ff;}#sk-container-id-1 input.sk-toggleable__control:checked~div.sk-toggleable__content {max-height: 200px;max-width: 100%;overflow: auto;}#sk-container-id-1 input.sk-toggleable__control:checked~label.sk-toggleable__label-arrow:before {content: \"▾\";}#sk-container-id-1 div.sk-estimator input.sk-toggleable__control:checked~label.sk-toggleable__label {background-color: #d4ebff;}#sk-container-id-1 div.sk-label input.sk-toggleable__control:checked~label.sk-toggleable__label {background-color: #d4ebff;}#sk-container-id-1 input.sk-hidden--visually {border: 0;clip: rect(1px 1px 1px 1px);clip: rect(1px, 1px, 1px, 1px);height: 1px;margin: -1px;overflow: hidden;padding: 0;position: absolute;width: 1px;}#sk-container-id-1 div.sk-estimator {font-family: monospace;background-color: #f0f8ff;border: 1px dotted black;border-radius: 0.25em;box-sizing: border-box;margin-bottom: 0.5em;}#sk-container-id-1 div.sk-estimator:hover {background-color: #d4ebff;}#sk-container-id-1 div.sk-parallel-item::after {content: \"\";width: 100%;border-bottom: 1px solid gray;flex-grow: 1;}#sk-container-id-1 div.sk-label:hover label.sk-toggleable__label {background-color: #d4ebff;}#sk-container-id-1 div.sk-serial::before {content: \"\";position: absolute;border-left: 1px solid gray;box-sizing: border-box;top: 0;bottom: 0;left: 50%;z-index: 0;}#sk-container-id-1 div.sk-serial {display: flex;flex-direction: column;align-items: center;background-color: white;padding-right: 0.2em;padding-left: 0.2em;position: relative;}#sk-container-id-1 div.sk-item {position: relative;z-index: 1;}#sk-container-id-1 div.sk-parallel {display: flex;align-items: stretch;justify-content: center;background-color: white;position: relative;}#sk-container-id-1 div.sk-item::before, #sk-container-id-1 div.sk-parallel-item::before {content: \"\";position: absolute;border-left: 1px solid gray;box-sizing: border-box;top: 0;bottom: 0;left: 50%;z-index: -1;}#sk-container-id-1 div.sk-parallel-item {display: flex;flex-direction: column;z-index: 1;position: relative;background-color: white;}#sk-container-id-1 div.sk-parallel-item:first-child::after {align-self: flex-end;width: 50%;}#sk-container-id-1 div.sk-parallel-item:last-child::after {align-self: flex-start;width: 50%;}#sk-container-id-1 div.sk-parallel-item:only-child::after {width: 0;}#sk-container-id-1 div.sk-dashed-wrapped {border: 1px dashed gray;margin: 0 0.4em 0.5em 0.4em;box-sizing: border-box;padding-bottom: 0.4em;background-color: white;}#sk-container-id-1 div.sk-label label {font-family: monospace;font-weight: bold;display: inline-block;line-height: 1.2em;}#sk-container-id-1 div.sk-label-container {text-align: center;}#sk-container-id-1 div.sk-container {/* jupyter's `normalize.less` sets `[hidden] { display: none; }` but bootstrap.min.css set `[hidden] { display: none !important; }` so we also need the `!important` here to be able to override the default hidden behavior on the sphinx rendered scikit-learn.org. See: https://github.com/scikit-learn/scikit-learn/issues/21755 */display: inline-block !important;position: relative;}#sk-container-id-1 div.sk-text-repr-fallback {display: none;}</style><div id=\"sk-container-id-1\" class=\"sk-top-container\"><div class=\"sk-text-repr-fallback\"><pre>ColumnTransformer(remainder=&#x27;passthrough&#x27;,\n",
       "                  transformers=[(&#x27;onehot&#x27;, OneHotEncoder(drop=&#x27;first&#x27;),\n",
       "                                 [&#x27;job&#x27;, &#x27;housing&#x27;, &#x27;loan&#x27;, &#x27;contact&#x27;,\n",
       "                                  &#x27;poutcome&#x27;]),\n",
       "                                (&#x27;ordinal&#x27;,\n",
       "                                 OrdinalEncoder(mapping=[{&#x27;col&#x27;: &#x27;month&#x27;,\n",
       "                                                          &#x27;data_type&#x27;: dtype(&#x27;O&#x27;),\n",
       "                                                          &#x27;mapping&#x27;: jan     1\n",
       "feb     2\n",
       "mar     3\n",
       "apr     4\n",
       "may     5\n",
       "jun     6\n",
       "jul     7\n",
       "aug     8\n",
       "sep     9\n",
       "oct    10\n",
       "nov    11\n",
       "dec    12\n",
       "dtype: int64}]),\n",
       "                                 [&#x27;month&#x27;])])</pre><b>In a Jupyter environment, please rerun this cell to show the HTML representation or trust the notebook. <br />On GitHub, the HTML representation is unable to render, please try loading this page with nbviewer.org.</b></div><div class=\"sk-container\" hidden><div class=\"sk-item sk-dashed-wrapped\"><div class=\"sk-label-container\"><div class=\"sk-label sk-toggleable\"><input class=\"sk-toggleable__control sk-hidden--visually\" id=\"sk-estimator-id-1\" type=\"checkbox\" ><label for=\"sk-estimator-id-1\" class=\"sk-toggleable__label sk-toggleable__label-arrow\">ColumnTransformer</label><div class=\"sk-toggleable__content\"><pre>ColumnTransformer(remainder=&#x27;passthrough&#x27;,\n",
       "                  transformers=[(&#x27;onehot&#x27;, OneHotEncoder(drop=&#x27;first&#x27;),\n",
       "                                 [&#x27;job&#x27;, &#x27;housing&#x27;, &#x27;loan&#x27;, &#x27;contact&#x27;,\n",
       "                                  &#x27;poutcome&#x27;]),\n",
       "                                (&#x27;ordinal&#x27;,\n",
       "                                 OrdinalEncoder(mapping=[{&#x27;col&#x27;: &#x27;month&#x27;,\n",
       "                                                          &#x27;data_type&#x27;: dtype(&#x27;O&#x27;),\n",
       "                                                          &#x27;mapping&#x27;: jan     1\n",
       "feb     2\n",
       "mar     3\n",
       "apr     4\n",
       "may     5\n",
       "jun     6\n",
       "jul     7\n",
       "aug     8\n",
       "sep     9\n",
       "oct    10\n",
       "nov    11\n",
       "dec    12\n",
       "dtype: int64}]),\n",
       "                                 [&#x27;month&#x27;])])</pre></div></div></div><div class=\"sk-parallel\"><div class=\"sk-parallel-item\"><div class=\"sk-item\"><div class=\"sk-label-container\"><div class=\"sk-label sk-toggleable\"><input class=\"sk-toggleable__control sk-hidden--visually\" id=\"sk-estimator-id-2\" type=\"checkbox\" ><label for=\"sk-estimator-id-2\" class=\"sk-toggleable__label sk-toggleable__label-arrow\">onehot</label><div class=\"sk-toggleable__content\"><pre>[&#x27;job&#x27;, &#x27;housing&#x27;, &#x27;loan&#x27;, &#x27;contact&#x27;, &#x27;poutcome&#x27;]</pre></div></div></div><div class=\"sk-serial\"><div class=\"sk-item\"><div class=\"sk-estimator sk-toggleable\"><input class=\"sk-toggleable__control sk-hidden--visually\" id=\"sk-estimator-id-3\" type=\"checkbox\" ><label for=\"sk-estimator-id-3\" class=\"sk-toggleable__label sk-toggleable__label-arrow\">OneHotEncoder</label><div class=\"sk-toggleable__content\"><pre>OneHotEncoder(drop=&#x27;first&#x27;)</pre></div></div></div></div></div></div><div class=\"sk-parallel-item\"><div class=\"sk-item\"><div class=\"sk-label-container\"><div class=\"sk-label sk-toggleable\"><input class=\"sk-toggleable__control sk-hidden--visually\" id=\"sk-estimator-id-4\" type=\"checkbox\" ><label for=\"sk-estimator-id-4\" class=\"sk-toggleable__label sk-toggleable__label-arrow\">ordinal</label><div class=\"sk-toggleable__content\"><pre>[&#x27;month&#x27;]</pre></div></div></div><div class=\"sk-serial\"><div class=\"sk-item\"><div class=\"sk-estimator sk-toggleable\"><input class=\"sk-toggleable__control sk-hidden--visually\" id=\"sk-estimator-id-5\" type=\"checkbox\" ><label for=\"sk-estimator-id-5\" class=\"sk-toggleable__label sk-toggleable__label-arrow\">OrdinalEncoder</label><div class=\"sk-toggleable__content\"><pre>OrdinalEncoder(mapping=[{&#x27;col&#x27;: &#x27;month&#x27;, &#x27;data_type&#x27;: dtype(&#x27;O&#x27;),\n",
       "                         &#x27;mapping&#x27;: jan     1\n",
       "feb     2\n",
       "mar     3\n",
       "apr     4\n",
       "may     5\n",
       "jun     6\n",
       "jul     7\n",
       "aug     8\n",
       "sep     9\n",
       "oct    10\n",
       "nov    11\n",
       "dec    12\n",
       "dtype: int64}])</pre></div></div></div></div></div></div><div class=\"sk-parallel-item\"><div class=\"sk-item\"><div class=\"sk-label-container\"><div class=\"sk-label sk-toggleable\"><input class=\"sk-toggleable__control sk-hidden--visually\" id=\"sk-estimator-id-6\" type=\"checkbox\" ><label for=\"sk-estimator-id-6\" class=\"sk-toggleable__label sk-toggleable__label-arrow\">remainder</label><div class=\"sk-toggleable__content\"><pre>[&#x27;age&#x27;, &#x27;balance&#x27;, &#x27;campaign&#x27;, &#x27;pdays&#x27;]</pre></div></div></div><div class=\"sk-serial\"><div class=\"sk-item\"><div class=\"sk-estimator sk-toggleable\"><input class=\"sk-toggleable__control sk-hidden--visually\" id=\"sk-estimator-id-7\" type=\"checkbox\" ><label for=\"sk-estimator-id-7\" class=\"sk-toggleable__label sk-toggleable__label-arrow\">passthrough</label><div class=\"sk-toggleable__content\"><pre>passthrough</pre></div></div></div></div></div></div></div></div></div></div>"
      ],
      "text/plain": [
       "ColumnTransformer(remainder='passthrough',\n",
       "                  transformers=[('onehot', OneHotEncoder(drop='first'),\n",
       "                                 ['job', 'housing', 'loan', 'contact',\n",
       "                                  'poutcome']),\n",
       "                                ('ordinal',\n",
       "                                 OrdinalEncoder(mapping=[{'col': 'month',\n",
       "                                                          'data_type': dtype('O'),\n",
       "                                                          'mapping': jan     1\n",
       "feb     2\n",
       "mar     3\n",
       "apr     4\n",
       "may     5\n",
       "jun     6\n",
       "jul     7\n",
       "aug     8\n",
       "sep     9\n",
       "oct    10\n",
       "nov    11\n",
       "dec    12\n",
       "dtype: int64}]),\n",
       "                                 ['month'])])"
      ]
     },
     "execution_count": 16,
     "metadata": {},
     "output_type": "execute_result"
    }
   ],
   "source": [
    "# Fitting x_train\n",
    "transformer.fit(x_train)"
   ]
  },
  {
   "cell_type": "markdown",
   "metadata": {},
   "source": [
    "Setelah dilakukannya **feature engineering** dan **fitting pada x_train**, sekarang saatnya melakukan model benchmarking untuk mengetahui model apakah yang paling cocok untuk digunakan dalam kasus klasifikasi ini dan dataset ini"
   ]
  },
  {
   "cell_type": "markdown",
   "metadata": {},
   "source": [
    "# 3. Model Benchmarking"
   ]
  },
  {
   "cell_type": "markdown",
   "metadata": {},
   "source": [
    "Karena dataset yang kita miliki bersifat **balance**, kita tidak perlu melakukan **balancing**. Disini, saya akan menggunakan model-model sekaligus ensemble model yang sudah saya pelajari sebelumnya untuk melakukan **model benchmarking**"
   ]
  },
  {
   "cell_type": "code",
   "execution_count": 17,
   "metadata": {},
   "outputs": [],
   "source": [
    "models = None\n",
    "knn = KNeighborsClassifier()\n",
    "logreg = LogisticRegression(random_state = 2)\n",
    "dt = DecisionTreeClassifier(random_state = 2)\n",
    "svm = SVC(random_state = 2)\n",
    "xgb = XGBClassifier(random_state=2)\n",
    "ada = AdaBoostClassifier(random_state=2)\n",
    "gds = GradientBoostingClassifier(random_state=2)\n",
    "lgbm = LGBMClassifier(random_state=2)\n",
    "stacking = StackingClassifier(estimators=models)\n",
    "bagging = BaggingClassifier(random_state=2)\n",
    "voting = VotingClassifier(estimators=models)\n",
    "rf = RandomForestClassifier(random_state=2)"
   ]
  },
  {
   "cell_type": "code",
   "execution_count": 18,
   "metadata": {},
   "outputs": [
    {
     "name": "stdout",
     "output_type": "stream",
     "text": [
      "Fitting 5 folds for each of 12 candidates, totalling 60 fits\n"
     ]
    },
    {
     "data": {
      "text/html": [
       "<style>#sk-container-id-2 {color: black;}#sk-container-id-2 pre{padding: 0;}#sk-container-id-2 div.sk-toggleable {background-color: white;}#sk-container-id-2 label.sk-toggleable__label {cursor: pointer;display: block;width: 100%;margin-bottom: 0;padding: 0.3em;box-sizing: border-box;text-align: center;}#sk-container-id-2 label.sk-toggleable__label-arrow:before {content: \"▸\";float: left;margin-right: 0.25em;color: #696969;}#sk-container-id-2 label.sk-toggleable__label-arrow:hover:before {color: black;}#sk-container-id-2 div.sk-estimator:hover label.sk-toggleable__label-arrow:before {color: black;}#sk-container-id-2 div.sk-toggleable__content {max-height: 0;max-width: 0;overflow: hidden;text-align: left;background-color: #f0f8ff;}#sk-container-id-2 div.sk-toggleable__content pre {margin: 0.2em;color: black;border-radius: 0.25em;background-color: #f0f8ff;}#sk-container-id-2 input.sk-toggleable__control:checked~div.sk-toggleable__content {max-height: 200px;max-width: 100%;overflow: auto;}#sk-container-id-2 input.sk-toggleable__control:checked~label.sk-toggleable__label-arrow:before {content: \"▾\";}#sk-container-id-2 div.sk-estimator input.sk-toggleable__control:checked~label.sk-toggleable__label {background-color: #d4ebff;}#sk-container-id-2 div.sk-label input.sk-toggleable__control:checked~label.sk-toggleable__label {background-color: #d4ebff;}#sk-container-id-2 input.sk-hidden--visually {border: 0;clip: rect(1px 1px 1px 1px);clip: rect(1px, 1px, 1px, 1px);height: 1px;margin: -1px;overflow: hidden;padding: 0;position: absolute;width: 1px;}#sk-container-id-2 div.sk-estimator {font-family: monospace;background-color: #f0f8ff;border: 1px dotted black;border-radius: 0.25em;box-sizing: border-box;margin-bottom: 0.5em;}#sk-container-id-2 div.sk-estimator:hover {background-color: #d4ebff;}#sk-container-id-2 div.sk-parallel-item::after {content: \"\";width: 100%;border-bottom: 1px solid gray;flex-grow: 1;}#sk-container-id-2 div.sk-label:hover label.sk-toggleable__label {background-color: #d4ebff;}#sk-container-id-2 div.sk-serial::before {content: \"\";position: absolute;border-left: 1px solid gray;box-sizing: border-box;top: 0;bottom: 0;left: 50%;z-index: 0;}#sk-container-id-2 div.sk-serial {display: flex;flex-direction: column;align-items: center;background-color: white;padding-right: 0.2em;padding-left: 0.2em;position: relative;}#sk-container-id-2 div.sk-item {position: relative;z-index: 1;}#sk-container-id-2 div.sk-parallel {display: flex;align-items: stretch;justify-content: center;background-color: white;position: relative;}#sk-container-id-2 div.sk-item::before, #sk-container-id-2 div.sk-parallel-item::before {content: \"\";position: absolute;border-left: 1px solid gray;box-sizing: border-box;top: 0;bottom: 0;left: 50%;z-index: -1;}#sk-container-id-2 div.sk-parallel-item {display: flex;flex-direction: column;z-index: 1;position: relative;background-color: white;}#sk-container-id-2 div.sk-parallel-item:first-child::after {align-self: flex-end;width: 50%;}#sk-container-id-2 div.sk-parallel-item:last-child::after {align-self: flex-start;width: 50%;}#sk-container-id-2 div.sk-parallel-item:only-child::after {width: 0;}#sk-container-id-2 div.sk-dashed-wrapped {border: 1px dashed gray;margin: 0 0.4em 0.5em 0.4em;box-sizing: border-box;padding-bottom: 0.4em;background-color: white;}#sk-container-id-2 div.sk-label label {font-family: monospace;font-weight: bold;display: inline-block;line-height: 1.2em;}#sk-container-id-2 div.sk-label-container {text-align: center;}#sk-container-id-2 div.sk-container {/* jupyter's `normalize.less` sets `[hidden] { display: none; }` but bootstrap.min.css set `[hidden] { display: none !important; }` so we also need the `!important` here to be able to override the default hidden behavior on the sphinx rendered scikit-learn.org. See: https://github.com/scikit-learn/scikit-learn/issues/21755 */display: inline-block !important;position: relative;}#sk-container-id-2 div.sk-text-repr-fallback {display: none;}</style><div id=\"sk-container-id-2\" class=\"sk-top-container\"><div class=\"sk-text-repr-fallback\"><pre>GridSearchCV(cv=StratifiedKFold(n_splits=5, random_state=2, shuffle=True),\n",
       "             estimator=Pipeline(steps=[(&#x27;prepocessing&#x27;,\n",
       "                                        ColumnTransformer(remainder=&#x27;passthrough&#x27;,\n",
       "                                                          transformers=[(&#x27;onehot&#x27;,\n",
       "                                                                         OneHotEncoder(drop=&#x27;first&#x27;),\n",
       "                                                                         [&#x27;job&#x27;,\n",
       "                                                                          &#x27;housing&#x27;,\n",
       "                                                                          &#x27;loan&#x27;,\n",
       "                                                                          &#x27;contact&#x27;,\n",
       "                                                                          &#x27;poutcome&#x27;]),\n",
       "                                                                        (&#x27;ordinal&#x27;,\n",
       "                                                                         OrdinalEncoder(mapping=[{&#x27;col&#x27;: &#x27;month&#x27;,\n",
       "                                                                                                  &#x27;data_type&#x27;: dtype(&#x27;O&#x27;),\n",
       "                                                                                                  &#x27;mapping&#x27;: jan     1\n",
       "feb     2\n",
       "mar     3...\n",
       "                                               n_estimators=None, n_jobs=None,\n",
       "                                               num_parallel_tree=None,\n",
       "                                               random_state=2, ...),\n",
       "                                 AdaBoostClassifier(random_state=2),\n",
       "                                 GradientBoostingClassifier(random_state=2),\n",
       "                                 LGBMClassifier(random_state=2),\n",
       "                                 StackingClassifier(estimators=None),\n",
       "                                 BaggingClassifier(random_state=2),\n",
       "                                 VotingClassifier(estimators=None),\n",
       "                                 RandomForestClassifier(random_state=2)]},\n",
       "             return_train_score=True, scoring=&#x27;recall&#x27;, verbose=1)</pre><b>In a Jupyter environment, please rerun this cell to show the HTML representation or trust the notebook. <br />On GitHub, the HTML representation is unable to render, please try loading this page with nbviewer.org.</b></div><div class=\"sk-container\" hidden><div class=\"sk-item sk-dashed-wrapped\"><div class=\"sk-label-container\"><div class=\"sk-label sk-toggleable\"><input class=\"sk-toggleable__control sk-hidden--visually\" id=\"sk-estimator-id-8\" type=\"checkbox\" ><label for=\"sk-estimator-id-8\" class=\"sk-toggleable__label sk-toggleable__label-arrow\">GridSearchCV</label><div class=\"sk-toggleable__content\"><pre>GridSearchCV(cv=StratifiedKFold(n_splits=5, random_state=2, shuffle=True),\n",
       "             estimator=Pipeline(steps=[(&#x27;prepocessing&#x27;,\n",
       "                                        ColumnTransformer(remainder=&#x27;passthrough&#x27;,\n",
       "                                                          transformers=[(&#x27;onehot&#x27;,\n",
       "                                                                         OneHotEncoder(drop=&#x27;first&#x27;),\n",
       "                                                                         [&#x27;job&#x27;,\n",
       "                                                                          &#x27;housing&#x27;,\n",
       "                                                                          &#x27;loan&#x27;,\n",
       "                                                                          &#x27;contact&#x27;,\n",
       "                                                                          &#x27;poutcome&#x27;]),\n",
       "                                                                        (&#x27;ordinal&#x27;,\n",
       "                                                                         OrdinalEncoder(mapping=[{&#x27;col&#x27;: &#x27;month&#x27;,\n",
       "                                                                                                  &#x27;data_type&#x27;: dtype(&#x27;O&#x27;),\n",
       "                                                                                                  &#x27;mapping&#x27;: jan     1\n",
       "feb     2\n",
       "mar     3...\n",
       "                                               n_estimators=None, n_jobs=None,\n",
       "                                               num_parallel_tree=None,\n",
       "                                               random_state=2, ...),\n",
       "                                 AdaBoostClassifier(random_state=2),\n",
       "                                 GradientBoostingClassifier(random_state=2),\n",
       "                                 LGBMClassifier(random_state=2),\n",
       "                                 StackingClassifier(estimators=None),\n",
       "                                 BaggingClassifier(random_state=2),\n",
       "                                 VotingClassifier(estimators=None),\n",
       "                                 RandomForestClassifier(random_state=2)]},\n",
       "             return_train_score=True, scoring=&#x27;recall&#x27;, verbose=1)</pre></div></div></div><div class=\"sk-parallel\"><div class=\"sk-parallel-item\"><div class=\"sk-item\"><div class=\"sk-label-container\"><div class=\"sk-label sk-toggleable\"><input class=\"sk-toggleable__control sk-hidden--visually\" id=\"sk-estimator-id-9\" type=\"checkbox\" ><label for=\"sk-estimator-id-9\" class=\"sk-toggleable__label sk-toggleable__label-arrow\">estimator: Pipeline</label><div class=\"sk-toggleable__content\"><pre>Pipeline(steps=[(&#x27;prepocessing&#x27;,\n",
       "                 ColumnTransformer(remainder=&#x27;passthrough&#x27;,\n",
       "                                   transformers=[(&#x27;onehot&#x27;,\n",
       "                                                  OneHotEncoder(drop=&#x27;first&#x27;),\n",
       "                                                  [&#x27;job&#x27;, &#x27;housing&#x27;, &#x27;loan&#x27;,\n",
       "                                                   &#x27;contact&#x27;, &#x27;poutcome&#x27;]),\n",
       "                                                 (&#x27;ordinal&#x27;,\n",
       "                                                  OrdinalEncoder(mapping=[{&#x27;col&#x27;: &#x27;month&#x27;,\n",
       "                                                                           &#x27;data_type&#x27;: dtype(&#x27;O&#x27;),\n",
       "                                                                           &#x27;mapping&#x27;: jan     1\n",
       "feb     2\n",
       "mar     3\n",
       "apr     4\n",
       "may     5\n",
       "jun     6\n",
       "jul     7\n",
       "aug     8\n",
       "sep     9\n",
       "oct    10\n",
       "nov    11\n",
       "dec    12\n",
       "dtype: int64}]),\n",
       "                                                  [&#x27;month&#x27;])])),\n",
       "                (&#x27;clf&#x27;, None)])</pre></div></div></div><div class=\"sk-serial\"><div class=\"sk-item\"><div class=\"sk-serial\"><div class=\"sk-item sk-dashed-wrapped\"><div class=\"sk-label-container\"><div class=\"sk-label sk-toggleable\"><input class=\"sk-toggleable__control sk-hidden--visually\" id=\"sk-estimator-id-10\" type=\"checkbox\" ><label for=\"sk-estimator-id-10\" class=\"sk-toggleable__label sk-toggleable__label-arrow\">prepocessing: ColumnTransformer</label><div class=\"sk-toggleable__content\"><pre>ColumnTransformer(remainder=&#x27;passthrough&#x27;,\n",
       "                  transformers=[(&#x27;onehot&#x27;, OneHotEncoder(drop=&#x27;first&#x27;),\n",
       "                                 [&#x27;job&#x27;, &#x27;housing&#x27;, &#x27;loan&#x27;, &#x27;contact&#x27;,\n",
       "                                  &#x27;poutcome&#x27;]),\n",
       "                                (&#x27;ordinal&#x27;,\n",
       "                                 OrdinalEncoder(mapping=[{&#x27;col&#x27;: &#x27;month&#x27;,\n",
       "                                                          &#x27;data_type&#x27;: dtype(&#x27;O&#x27;),\n",
       "                                                          &#x27;mapping&#x27;: jan     1\n",
       "feb     2\n",
       "mar     3\n",
       "apr     4\n",
       "may     5\n",
       "jun     6\n",
       "jul     7\n",
       "aug     8\n",
       "sep     9\n",
       "oct    10\n",
       "nov    11\n",
       "dec    12\n",
       "dtype: int64}]),\n",
       "                                 [&#x27;month&#x27;])])</pre></div></div></div><div class=\"sk-parallel\"><div class=\"sk-parallel-item\"><div class=\"sk-item\"><div class=\"sk-label-container\"><div class=\"sk-label sk-toggleable\"><input class=\"sk-toggleable__control sk-hidden--visually\" id=\"sk-estimator-id-11\" type=\"checkbox\" ><label for=\"sk-estimator-id-11\" class=\"sk-toggleable__label sk-toggleable__label-arrow\">onehot</label><div class=\"sk-toggleable__content\"><pre>[&#x27;job&#x27;, &#x27;housing&#x27;, &#x27;loan&#x27;, &#x27;contact&#x27;, &#x27;poutcome&#x27;]</pre></div></div></div><div class=\"sk-serial\"><div class=\"sk-item\"><div class=\"sk-estimator sk-toggleable\"><input class=\"sk-toggleable__control sk-hidden--visually\" id=\"sk-estimator-id-12\" type=\"checkbox\" ><label for=\"sk-estimator-id-12\" class=\"sk-toggleable__label sk-toggleable__label-arrow\">OneHotEncoder</label><div class=\"sk-toggleable__content\"><pre>OneHotEncoder(drop=&#x27;first&#x27;)</pre></div></div></div></div></div></div><div class=\"sk-parallel-item\"><div class=\"sk-item\"><div class=\"sk-label-container\"><div class=\"sk-label sk-toggleable\"><input class=\"sk-toggleable__control sk-hidden--visually\" id=\"sk-estimator-id-13\" type=\"checkbox\" ><label for=\"sk-estimator-id-13\" class=\"sk-toggleable__label sk-toggleable__label-arrow\">ordinal</label><div class=\"sk-toggleable__content\"><pre>[&#x27;month&#x27;]</pre></div></div></div><div class=\"sk-serial\"><div class=\"sk-item\"><div class=\"sk-estimator sk-toggleable\"><input class=\"sk-toggleable__control sk-hidden--visually\" id=\"sk-estimator-id-14\" type=\"checkbox\" ><label for=\"sk-estimator-id-14\" class=\"sk-toggleable__label sk-toggleable__label-arrow\">OrdinalEncoder</label><div class=\"sk-toggleable__content\"><pre>OrdinalEncoder(mapping=[{&#x27;col&#x27;: &#x27;month&#x27;, &#x27;data_type&#x27;: dtype(&#x27;O&#x27;),\n",
       "                         &#x27;mapping&#x27;: jan     1\n",
       "feb     2\n",
       "mar     3\n",
       "apr     4\n",
       "may     5\n",
       "jun     6\n",
       "jul     7\n",
       "aug     8\n",
       "sep     9\n",
       "oct    10\n",
       "nov    11\n",
       "dec    12\n",
       "dtype: int64}])</pre></div></div></div></div></div></div><div class=\"sk-parallel-item\"><div class=\"sk-item\"><div class=\"sk-label-container\"><div class=\"sk-label sk-toggleable\"><input class=\"sk-toggleable__control sk-hidden--visually\" id=\"sk-estimator-id-15\" type=\"checkbox\" ><label for=\"sk-estimator-id-15\" class=\"sk-toggleable__label sk-toggleable__label-arrow\">remainder</label><div class=\"sk-toggleable__content\"><pre>[&#x27;age&#x27;, &#x27;balance&#x27;, &#x27;campaign&#x27;, &#x27;pdays&#x27;]</pre></div></div></div><div class=\"sk-serial\"><div class=\"sk-item\"><div class=\"sk-estimator sk-toggleable\"><input class=\"sk-toggleable__control sk-hidden--visually\" id=\"sk-estimator-id-16\" type=\"checkbox\" ><label for=\"sk-estimator-id-16\" class=\"sk-toggleable__label sk-toggleable__label-arrow\">passthrough</label><div class=\"sk-toggleable__content\"><pre>passthrough</pre></div></div></div></div></div></div></div></div><div class=\"sk-item\"><div class=\"sk-estimator sk-toggleable\"><input class=\"sk-toggleable__control sk-hidden--visually\" id=\"sk-estimator-id-17\" type=\"checkbox\" ><label for=\"sk-estimator-id-17\" class=\"sk-toggleable__label sk-toggleable__label-arrow\">None</label><div class=\"sk-toggleable__content\"><pre>None</pre></div></div></div></div></div></div></div></div></div></div></div></div>"
      ],
      "text/plain": [
       "GridSearchCV(cv=StratifiedKFold(n_splits=5, random_state=2, shuffle=True),\n",
       "             estimator=Pipeline(steps=[('prepocessing',\n",
       "                                        ColumnTransformer(remainder='passthrough',\n",
       "                                                          transformers=[('onehot',\n",
       "                                                                         OneHotEncoder(drop='first'),\n",
       "                                                                         ['job',\n",
       "                                                                          'housing',\n",
       "                                                                          'loan',\n",
       "                                                                          'contact',\n",
       "                                                                          'poutcome']),\n",
       "                                                                        ('ordinal',\n",
       "                                                                         OrdinalEncoder(mapping=[{'col': 'month',\n",
       "                                                                                                  'data_type': dtype('O'),\n",
       "                                                                                                  'mapping': jan     1\n",
       "feb     2\n",
       "mar     3...\n",
       "                                               n_estimators=None, n_jobs=None,\n",
       "                                               num_parallel_tree=None,\n",
       "                                               random_state=2, ...),\n",
       "                                 AdaBoostClassifier(random_state=2),\n",
       "                                 GradientBoostingClassifier(random_state=2),\n",
       "                                 LGBMClassifier(random_state=2),\n",
       "                                 StackingClassifier(estimators=None),\n",
       "                                 BaggingClassifier(random_state=2),\n",
       "                                 VotingClassifier(estimators=None),\n",
       "                                 RandomForestClassifier(random_state=2)]},\n",
       "             return_train_score=True, scoring='recall', verbose=1)"
      ]
     },
     "execution_count": 18,
     "metadata": {},
     "output_type": "execute_result"
    }
   ],
   "source": [
    "model = None\n",
    "pipe = Pipeline([\n",
    "    ('prepocessing', transformer),\n",
    "    ('clf', model)\n",
    "])\n",
    "\n",
    "model_search = {\n",
    "    'clf' : [knn, logreg, dt, svm, xgb, ada, gds, lgbm, stacking, bagging, voting, rf]\n",
    "} \n",
    "\n",
    "grid_search = GridSearchCV(\n",
    "    estimator = pipe,\n",
    "    param_grid = model_search,\n",
    "    scoring = 'recall', # Karena evaluation metric yang saya gunakan adalah recall, maka saya akan fokus ke scoring recall\n",
    "    verbose=1, \n",
    "    return_train_score=True,\n",
    "    cv = StratifiedKFold(shuffle=True, random_state=2),\n",
    "    n_jobs=-1\n",
    ")\n",
    "\n",
    "grid_search.fit(x_train, y_train)"
   ]
  },
  {
   "cell_type": "markdown",
   "metadata": {},
   "source": [
    "Sekarang mari kita cek hasil dari model benchmarking <a id=\"pemilihan_model\"></a>"
   ]
  },
  {
   "cell_type": "code",
   "execution_count": 19,
   "metadata": {},
   "outputs": [
    {
     "data": {
      "text/html": [
       "<div>\n",
       "<style scoped>\n",
       "    .dataframe tbody tr th:only-of-type {\n",
       "        vertical-align: middle;\n",
       "    }\n",
       "\n",
       "    .dataframe tbody tr th {\n",
       "        vertical-align: top;\n",
       "    }\n",
       "\n",
       "    .dataframe thead th {\n",
       "        text-align: right;\n",
       "    }\n",
       "</style>\n",
       "<table border=\"1\" class=\"dataframe\">\n",
       "  <thead>\n",
       "    <tr style=\"text-align: right;\">\n",
       "      <th></th>\n",
       "      <th>param_clf</th>\n",
       "      <th>mean_test_score</th>\n",
       "      <th>mean_train_score</th>\n",
       "      <th>std_test_score</th>\n",
       "      <th>std_train_score</th>\n",
       "    </tr>\n",
       "  </thead>\n",
       "  <tbody>\n",
       "    <tr>\n",
       "      <th>11</th>\n",
       "      <td>RandomForestClassifier(random_state=2)</td>\n",
       "      <td>0.633586</td>\n",
       "      <td>0.999896</td>\n",
       "      <td>0.024053</td>\n",
       "      <td>0.000208</td>\n",
       "    </tr>\n",
       "    <tr>\n",
       "      <th>1</th>\n",
       "      <td>LogisticRegression(random_state=2)</td>\n",
       "      <td>0.630666</td>\n",
       "      <td>0.630576</td>\n",
       "      <td>0.017450</td>\n",
       "      <td>0.018881</td>\n",
       "    </tr>\n",
       "    <tr>\n",
       "      <th>4</th>\n",
       "      <td>XGBClassifier(base_score=None, booster=None, callbacks=None,\\n              colsample_bylevel=None, colsample_bynode=None,\\n              colsample_bytree=None, device=None, early_stopping_rounds=None,\\n              enable_categorical=False, eval_metric=None, feature_types=None,\\n              gamma=None, grow_policy=None, importance_type=None,\\n              interaction_constraints=None, learning_rate=None, max_bin=None,\\n              max_cat_threshold=None, max_cat_to_onehot=None,\\n              max_delta_step=None, max_depth=None, max_leaves=None,\\n              min_child_weight=None, missing=nan, monotone_constraints=None,\\n              multi_strategy=None, n_estimators=None, n_jobs=None,\\n              num_parallel_tree=None, random_state=2, ...)</td>\n",
       "      <td>0.621502</td>\n",
       "      <td>0.850041</td>\n",
       "      <td>0.022730</td>\n",
       "      <td>0.010198</td>\n",
       "    </tr>\n",
       "  </tbody>\n",
       "</table>\n",
       "</div>"
      ],
      "text/plain": [
       "                                                                                                                                                                                                                                                                                                                                                                                                                                                                                                                                                                                                                                                                                                                                                                                       param_clf  \\\n",
       "11                                                                                                                                                                                                                                                                                                                                                                                                                                                                                                                                                                                                                                                                                                                                                        RandomForestClassifier(random_state=2)   \n",
       "1                                                                                                                                                                                                                                                                                                                                                                                                                                                                                                                                                                                                                                                                                                                                                             LogisticRegression(random_state=2)   \n",
       "4   XGBClassifier(base_score=None, booster=None, callbacks=None,\\n              colsample_bylevel=None, colsample_bynode=None,\\n              colsample_bytree=None, device=None, early_stopping_rounds=None,\\n              enable_categorical=False, eval_metric=None, feature_types=None,\\n              gamma=None, grow_policy=None, importance_type=None,\\n              interaction_constraints=None, learning_rate=None, max_bin=None,\\n              max_cat_threshold=None, max_cat_to_onehot=None,\\n              max_delta_step=None, max_depth=None, max_leaves=None,\\n              min_child_weight=None, missing=nan, monotone_constraints=None,\\n              multi_strategy=None, n_estimators=None, n_jobs=None,\\n              num_parallel_tree=None, random_state=2, ...)   \n",
       "\n",
       "    mean_test_score  mean_train_score  std_test_score  std_train_score  \n",
       "11         0.633586          0.999896        0.024053         0.000208  \n",
       "1          0.630666          0.630576        0.017450         0.018881  \n",
       "4          0.621502          0.850041        0.022730         0.010198  "
      ]
     },
     "execution_count": 19,
     "metadata": {},
     "output_type": "execute_result"
    }
   ],
   "source": [
    "before_tuning = pd.DataFrame(grid_search.cv_results_).sort_values('mean_test_score', ascending=False).head(3)\n",
    "before_tuning[['param_clf', 'mean_test_score', 'mean_train_score', 'std_test_score', 'std_train_score']]"
   ]
  },
  {
   "cell_type": "markdown",
   "metadata": {},
   "source": [
    "<a id=\"4\"></a>**Hasil Model Benchmarking**\n",
    "\n",
    "Top three best model dengan skor mean_test_score recall tertinggi:  \n",
    "RandomForestClassifier: `0.633586`  \n",
    "LogisticRegression: `0.630666`  \n",
    "XGB: `0.621502`    \n",
    "\n",
    "Dari tiga model terbaik dengan skor **mean_test_score** recall tertinggi, **Random Forest Classifier** memiliki skor recall tertinggi yaitu `0.633586`. Namun, **Logistic Regression** menjadi model kedua terbaik dengan skor **recall** sebesar `0.630666`, hanya berselisih sekitar `0.00292` atau kurang dari 1% dari skor model terbaik.\n",
    "\n",
    "Apabila dibandingkan dengan **Random Forest**, **Logistic Regression** menunjukkan hasil yang **konsisten antara skor mean test dan train**. Dengan skor **mean test** sebesar `0.630666` dan skor **mean train** sebesar `0.630576`, selisihnya relatif kecil. Hal ini menunjukkan bahwa model **Logistic Regression** tidak cenderung **overfitting**. Di samping itu, meskipun **std score** dari **Logistic Regression** lebih tinggi dibandingkan dengan **Random Forest**, namun **Logistic Regression** tetap merupakan pilihan yang baik karena tidak mengalami **overfitting**.\n",
    "  \n",
    "Selain itu, berdasarkan buku [**The Elements of Statistical Learning**](https://hastie.su.domains/Papers/ESLII.pdf) yang ditulis oleh **Hastie, T., Tibshirani, R., & Friedman, J. (2009)** bahwa:  \n",
    ">\"*Logistic regression is a very general and powerful model for binary classification. It is relatively easy to understand and interpret, and it can be extended to handle a wide variety of problems.*\"  \n",
    "   \n",
    "Buku tersebut juga menyatakan bahwa **Logistic Regression** memiliki beberapa keunggulan, seperti:\n",
    "* Dapat menangani masalah klasifikasi biner dengan akurasi yang tinggi\n",
    "* Dapat menangani fitur kategorikal dengan baik\n",
    "* Dapat diimplementasikan secara efisien  \n",
    "\n",
    "Berdasarkan kutipan dan pertimbangan diatas, saya memutuskan untuk menggunakan **Logistic Regression sebagai model utama** saya yang akan saya lakukan **hyperparameter tuning**. \n"
   ]
  },
  {
   "cell_type": "markdown",
   "metadata": {},
   "source": [
    "# 4. Logistic Regression Hyperparameter Tuning"
   ]
  },
  {
   "cell_type": "markdown",
   "metadata": {},
   "source": [
    "Mari kita cek terlebih dahulu parameter apa saja yang dimiliki oleh Logistic Regression"
   ]
  },
  {
   "cell_type": "code",
   "execution_count": 20,
   "metadata": {},
   "outputs": [
    {
     "name": "stdout",
     "output_type": "stream",
     "text": [
      "C: 1.0\n",
      "class_weight: None\n",
      "dual: False\n",
      "fit_intercept: True\n",
      "intercept_scaling: 1\n",
      "l1_ratio: None\n",
      "max_iter: 100\n",
      "multi_class: auto\n",
      "n_jobs: None\n",
      "penalty: l2\n",
      "random_state: 2\n",
      "solver: lbfgs\n",
      "tol: 0.0001\n",
      "verbose: 0\n",
      "warm_start: False\n"
     ]
    }
   ],
   "source": [
    "# Mendapatkan parameter dari Logistic Regression\n",
    "logreg_params = logreg.get_params()\n",
    "\n",
    "# Print the parameters\n",
    "for param, value in logreg_params.items():\n",
    "    print(f\"{param}: {value}\")\n"
   ]
  },
  {
   "cell_type": "markdown",
   "metadata": {},
   "source": [
    "Berdasarkan pertimbangan saya dengan bantuan dari dokumentasi dari Logistic Regression scikit-learn yang dapat dilihat [**disini**](https://scikit-learn.org/stable/modules/generated/sklearn.linear_model.LogisticRegression.html) dan artikel medium [**disini**](https://medium.com/@saradmishra28/simple-explanation-of-logistic-regression-implementation-86188055e0b6), saya memutuskan untuk melakukan tuning parameter hanya pada:\n",
    "1. **C**: Parameter ini mengontrol kekuatan regularisasi dalam model. Semakin kecil nilai C, semakin kecil regularisasi yang diterapkan pada model.\n",
    "2. **penalty**: Menentukan jenis regularisasi yang akan digunakan. 'l1' menggunakan regularisasi L1 (Lasso), sedangkan 'l2' menggunakan regularisasi L2 (Ridge), elasticnet yang menggunakan kedua regularisasi\n",
    "3. **solver**: Solver yang digunakan dalam pemecahan masalah optimasi yang muncul dalam logistic regression. 'liblinear' digunakan untuk dataset kecil, sedangkan 'sag' dan 'saga' cocok untuk dataset besar.\n",
    "4. **max_iter**: Jumlah iterasi maksimum yang akan dilakukan oleh solver untuk menemukan solusi. Jumlah iterasi diperlukan agar model konvergen ke solusi optimal.\n",
    "5. **dual**: Menentukan apakah formulasi primal atau dual dari masalah optimasi akan digunakan. Jika 'dual' disetel sebagai True, solver akan memecahkan masalah dual."
   ]
  },
  {
   "cell_type": "markdown",
   "metadata": {},
   "source": [
    "Membuat pipeline yang berisikan `ColumnTransformer` dan model yang digunakan, yaitu **Logistic Regression**"
   ]
  },
  {
   "cell_type": "code",
   "execution_count": 21,
   "metadata": {},
   "outputs": [],
   "source": [
    "pipe_logreg = Pipeline([\n",
    "    ('Preprocessing', transformer),\n",
    "    ('model', logreg)\n",
    "])"
   ]
  },
  {
   "cell_type": "markdown",
   "metadata": {},
   "source": [
    "Memberikan space pencarian parameter dengan value yang ingin saya coba"
   ]
  },
  {
   "cell_type": "code",
   "execution_count": 22,
   "metadata": {},
   "outputs": [],
   "source": [
    "# Membuat objek untuk search parameter\n",
    "\n",
    "parameter_space = {\n",
    "    'model__C' : [0.01, 0.1, 1, 10, 100],\n",
    "    'model__penalty' : ['l1', 'l2', 'elasticnet'],\n",
    "    'model__solver' : ['liblinear', 'sag', 'saga'],\n",
    "    'model__max_iter' :[10, 100],\n",
    "    'model__dual' :[True, False],\n",
    "    }"
   ]
  },
  {
   "cell_type": "markdown",
   "metadata": {},
   "source": [
    "Membuat objek **GridSearch** untuk melakukan iterasi berdasarkan parameter diatas"
   ]
  },
  {
   "cell_type": "code",
   "execution_count": 23,
   "metadata": {},
   "outputs": [
    {
     "data": {
      "text/html": [
       "<style>#sk-container-id-3 {color: black;}#sk-container-id-3 pre{padding: 0;}#sk-container-id-3 div.sk-toggleable {background-color: white;}#sk-container-id-3 label.sk-toggleable__label {cursor: pointer;display: block;width: 100%;margin-bottom: 0;padding: 0.3em;box-sizing: border-box;text-align: center;}#sk-container-id-3 label.sk-toggleable__label-arrow:before {content: \"▸\";float: left;margin-right: 0.25em;color: #696969;}#sk-container-id-3 label.sk-toggleable__label-arrow:hover:before {color: black;}#sk-container-id-3 div.sk-estimator:hover label.sk-toggleable__label-arrow:before {color: black;}#sk-container-id-3 div.sk-toggleable__content {max-height: 0;max-width: 0;overflow: hidden;text-align: left;background-color: #f0f8ff;}#sk-container-id-3 div.sk-toggleable__content pre {margin: 0.2em;color: black;border-radius: 0.25em;background-color: #f0f8ff;}#sk-container-id-3 input.sk-toggleable__control:checked~div.sk-toggleable__content {max-height: 200px;max-width: 100%;overflow: auto;}#sk-container-id-3 input.sk-toggleable__control:checked~label.sk-toggleable__label-arrow:before {content: \"▾\";}#sk-container-id-3 div.sk-estimator input.sk-toggleable__control:checked~label.sk-toggleable__label {background-color: #d4ebff;}#sk-container-id-3 div.sk-label input.sk-toggleable__control:checked~label.sk-toggleable__label {background-color: #d4ebff;}#sk-container-id-3 input.sk-hidden--visually {border: 0;clip: rect(1px 1px 1px 1px);clip: rect(1px, 1px, 1px, 1px);height: 1px;margin: -1px;overflow: hidden;padding: 0;position: absolute;width: 1px;}#sk-container-id-3 div.sk-estimator {font-family: monospace;background-color: #f0f8ff;border: 1px dotted black;border-radius: 0.25em;box-sizing: border-box;margin-bottom: 0.5em;}#sk-container-id-3 div.sk-estimator:hover {background-color: #d4ebff;}#sk-container-id-3 div.sk-parallel-item::after {content: \"\";width: 100%;border-bottom: 1px solid gray;flex-grow: 1;}#sk-container-id-3 div.sk-label:hover label.sk-toggleable__label {background-color: #d4ebff;}#sk-container-id-3 div.sk-serial::before {content: \"\";position: absolute;border-left: 1px solid gray;box-sizing: border-box;top: 0;bottom: 0;left: 50%;z-index: 0;}#sk-container-id-3 div.sk-serial {display: flex;flex-direction: column;align-items: center;background-color: white;padding-right: 0.2em;padding-left: 0.2em;position: relative;}#sk-container-id-3 div.sk-item {position: relative;z-index: 1;}#sk-container-id-3 div.sk-parallel {display: flex;align-items: stretch;justify-content: center;background-color: white;position: relative;}#sk-container-id-3 div.sk-item::before, #sk-container-id-3 div.sk-parallel-item::before {content: \"\";position: absolute;border-left: 1px solid gray;box-sizing: border-box;top: 0;bottom: 0;left: 50%;z-index: -1;}#sk-container-id-3 div.sk-parallel-item {display: flex;flex-direction: column;z-index: 1;position: relative;background-color: white;}#sk-container-id-3 div.sk-parallel-item:first-child::after {align-self: flex-end;width: 50%;}#sk-container-id-3 div.sk-parallel-item:last-child::after {align-self: flex-start;width: 50%;}#sk-container-id-3 div.sk-parallel-item:only-child::after {width: 0;}#sk-container-id-3 div.sk-dashed-wrapped {border: 1px dashed gray;margin: 0 0.4em 0.5em 0.4em;box-sizing: border-box;padding-bottom: 0.4em;background-color: white;}#sk-container-id-3 div.sk-label label {font-family: monospace;font-weight: bold;display: inline-block;line-height: 1.2em;}#sk-container-id-3 div.sk-label-container {text-align: center;}#sk-container-id-3 div.sk-container {/* jupyter's `normalize.less` sets `[hidden] { display: none; }` but bootstrap.min.css set `[hidden] { display: none !important; }` so we also need the `!important` here to be able to override the default hidden behavior on the sphinx rendered scikit-learn.org. See: https://github.com/scikit-learn/scikit-learn/issues/21755 */display: inline-block !important;position: relative;}#sk-container-id-3 div.sk-text-repr-fallback {display: none;}</style><div id=\"sk-container-id-3\" class=\"sk-top-container\"><div class=\"sk-text-repr-fallback\"><pre>GridSearchCV(cv=StratifiedKFold(n_splits=5, random_state=2, shuffle=True),\n",
       "             estimator=Pipeline(steps=[(&#x27;Preprocessing&#x27;,\n",
       "                                        ColumnTransformer(remainder=&#x27;passthrough&#x27;,\n",
       "                                                          transformers=[(&#x27;onehot&#x27;,\n",
       "                                                                         OneHotEncoder(drop=&#x27;first&#x27;),\n",
       "                                                                         [&#x27;job&#x27;,\n",
       "                                                                          &#x27;housing&#x27;,\n",
       "                                                                          &#x27;loan&#x27;,\n",
       "                                                                          &#x27;contact&#x27;,\n",
       "                                                                          &#x27;poutcome&#x27;]),\n",
       "                                                                        (&#x27;ordinal&#x27;,\n",
       "                                                                         OrdinalEncoder(mapping=[{&#x27;col&#x27;: &#x27;month&#x27;,\n",
       "                                                                                                  &#x27;data_type&#x27;: dtype(&#x27;O&#x27;),\n",
       "                                                                                                  &#x27;mapping&#x27;: jan     1\n",
       "feb     2\n",
       "mar     3\n",
       "apr     4\n",
       "may     5\n",
       "jun     6\n",
       "jul     7\n",
       "aug     8\n",
       "sep     9\n",
       "oct    10\n",
       "nov    11\n",
       "dec    12\n",
       "dtype: int64}]),\n",
       "                                                                         [&#x27;month&#x27;])])),\n",
       "                                       (&#x27;model&#x27;,\n",
       "                                        LogisticRegression(random_state=2))]),\n",
       "             param_grid={&#x27;model__C&#x27;: [0.01, 0.1, 1, 10, 100],\n",
       "                         &#x27;model__dual&#x27;: [True, False],\n",
       "                         &#x27;model__max_iter&#x27;: [10, 100],\n",
       "                         &#x27;model__penalty&#x27;: [&#x27;l1&#x27;, &#x27;l2&#x27;, &#x27;elasticnet&#x27;],\n",
       "                         &#x27;model__solver&#x27;: [&#x27;liblinear&#x27;, &#x27;sag&#x27;, &#x27;saga&#x27;]},\n",
       "             return_train_score=True, scoring=&#x27;recall&#x27;, verbose=1)</pre><b>In a Jupyter environment, please rerun this cell to show the HTML representation or trust the notebook. <br />On GitHub, the HTML representation is unable to render, please try loading this page with nbviewer.org.</b></div><div class=\"sk-container\" hidden><div class=\"sk-item sk-dashed-wrapped\"><div class=\"sk-label-container\"><div class=\"sk-label sk-toggleable\"><input class=\"sk-toggleable__control sk-hidden--visually\" id=\"sk-estimator-id-18\" type=\"checkbox\" ><label for=\"sk-estimator-id-18\" class=\"sk-toggleable__label sk-toggleable__label-arrow\">GridSearchCV</label><div class=\"sk-toggleable__content\"><pre>GridSearchCV(cv=StratifiedKFold(n_splits=5, random_state=2, shuffle=True),\n",
       "             estimator=Pipeline(steps=[(&#x27;Preprocessing&#x27;,\n",
       "                                        ColumnTransformer(remainder=&#x27;passthrough&#x27;,\n",
       "                                                          transformers=[(&#x27;onehot&#x27;,\n",
       "                                                                         OneHotEncoder(drop=&#x27;first&#x27;),\n",
       "                                                                         [&#x27;job&#x27;,\n",
       "                                                                          &#x27;housing&#x27;,\n",
       "                                                                          &#x27;loan&#x27;,\n",
       "                                                                          &#x27;contact&#x27;,\n",
       "                                                                          &#x27;poutcome&#x27;]),\n",
       "                                                                        (&#x27;ordinal&#x27;,\n",
       "                                                                         OrdinalEncoder(mapping=[{&#x27;col&#x27;: &#x27;month&#x27;,\n",
       "                                                                                                  &#x27;data_type&#x27;: dtype(&#x27;O&#x27;),\n",
       "                                                                                                  &#x27;mapping&#x27;: jan     1\n",
       "feb     2\n",
       "mar     3\n",
       "apr     4\n",
       "may     5\n",
       "jun     6\n",
       "jul     7\n",
       "aug     8\n",
       "sep     9\n",
       "oct    10\n",
       "nov    11\n",
       "dec    12\n",
       "dtype: int64}]),\n",
       "                                                                         [&#x27;month&#x27;])])),\n",
       "                                       (&#x27;model&#x27;,\n",
       "                                        LogisticRegression(random_state=2))]),\n",
       "             param_grid={&#x27;model__C&#x27;: [0.01, 0.1, 1, 10, 100],\n",
       "                         &#x27;model__dual&#x27;: [True, False],\n",
       "                         &#x27;model__max_iter&#x27;: [10, 100],\n",
       "                         &#x27;model__penalty&#x27;: [&#x27;l1&#x27;, &#x27;l2&#x27;, &#x27;elasticnet&#x27;],\n",
       "                         &#x27;model__solver&#x27;: [&#x27;liblinear&#x27;, &#x27;sag&#x27;, &#x27;saga&#x27;]},\n",
       "             return_train_score=True, scoring=&#x27;recall&#x27;, verbose=1)</pre></div></div></div><div class=\"sk-parallel\"><div class=\"sk-parallel-item\"><div class=\"sk-item\"><div class=\"sk-label-container\"><div class=\"sk-label sk-toggleable\"><input class=\"sk-toggleable__control sk-hidden--visually\" id=\"sk-estimator-id-19\" type=\"checkbox\" ><label for=\"sk-estimator-id-19\" class=\"sk-toggleable__label sk-toggleable__label-arrow\">estimator: Pipeline</label><div class=\"sk-toggleable__content\"><pre>Pipeline(steps=[(&#x27;Preprocessing&#x27;,\n",
       "                 ColumnTransformer(remainder=&#x27;passthrough&#x27;,\n",
       "                                   transformers=[(&#x27;onehot&#x27;,\n",
       "                                                  OneHotEncoder(drop=&#x27;first&#x27;),\n",
       "                                                  [&#x27;job&#x27;, &#x27;housing&#x27;, &#x27;loan&#x27;,\n",
       "                                                   &#x27;contact&#x27;, &#x27;poutcome&#x27;]),\n",
       "                                                 (&#x27;ordinal&#x27;,\n",
       "                                                  OrdinalEncoder(mapping=[{&#x27;col&#x27;: &#x27;month&#x27;,\n",
       "                                                                           &#x27;data_type&#x27;: dtype(&#x27;O&#x27;),\n",
       "                                                                           &#x27;mapping&#x27;: jan     1\n",
       "feb     2\n",
       "mar     3\n",
       "apr     4\n",
       "may     5\n",
       "jun     6\n",
       "jul     7\n",
       "aug     8\n",
       "sep     9\n",
       "oct    10\n",
       "nov    11\n",
       "dec    12\n",
       "dtype: int64}]),\n",
       "                                                  [&#x27;month&#x27;])])),\n",
       "                (&#x27;model&#x27;, LogisticRegression(random_state=2))])</pre></div></div></div><div class=\"sk-serial\"><div class=\"sk-item\"><div class=\"sk-serial\"><div class=\"sk-item sk-dashed-wrapped\"><div class=\"sk-label-container\"><div class=\"sk-label sk-toggleable\"><input class=\"sk-toggleable__control sk-hidden--visually\" id=\"sk-estimator-id-20\" type=\"checkbox\" ><label for=\"sk-estimator-id-20\" class=\"sk-toggleable__label sk-toggleable__label-arrow\">Preprocessing: ColumnTransformer</label><div class=\"sk-toggleable__content\"><pre>ColumnTransformer(remainder=&#x27;passthrough&#x27;,\n",
       "                  transformers=[(&#x27;onehot&#x27;, OneHotEncoder(drop=&#x27;first&#x27;),\n",
       "                                 [&#x27;job&#x27;, &#x27;housing&#x27;, &#x27;loan&#x27;, &#x27;contact&#x27;,\n",
       "                                  &#x27;poutcome&#x27;]),\n",
       "                                (&#x27;ordinal&#x27;,\n",
       "                                 OrdinalEncoder(mapping=[{&#x27;col&#x27;: &#x27;month&#x27;,\n",
       "                                                          &#x27;data_type&#x27;: dtype(&#x27;O&#x27;),\n",
       "                                                          &#x27;mapping&#x27;: jan     1\n",
       "feb     2\n",
       "mar     3\n",
       "apr     4\n",
       "may     5\n",
       "jun     6\n",
       "jul     7\n",
       "aug     8\n",
       "sep     9\n",
       "oct    10\n",
       "nov    11\n",
       "dec    12\n",
       "dtype: int64}]),\n",
       "                                 [&#x27;month&#x27;])])</pre></div></div></div><div class=\"sk-parallel\"><div class=\"sk-parallel-item\"><div class=\"sk-item\"><div class=\"sk-label-container\"><div class=\"sk-label sk-toggleable\"><input class=\"sk-toggleable__control sk-hidden--visually\" id=\"sk-estimator-id-21\" type=\"checkbox\" ><label for=\"sk-estimator-id-21\" class=\"sk-toggleable__label sk-toggleable__label-arrow\">onehot</label><div class=\"sk-toggleable__content\"><pre>[&#x27;job&#x27;, &#x27;housing&#x27;, &#x27;loan&#x27;, &#x27;contact&#x27;, &#x27;poutcome&#x27;]</pre></div></div></div><div class=\"sk-serial\"><div class=\"sk-item\"><div class=\"sk-estimator sk-toggleable\"><input class=\"sk-toggleable__control sk-hidden--visually\" id=\"sk-estimator-id-22\" type=\"checkbox\" ><label for=\"sk-estimator-id-22\" class=\"sk-toggleable__label sk-toggleable__label-arrow\">OneHotEncoder</label><div class=\"sk-toggleable__content\"><pre>OneHotEncoder(drop=&#x27;first&#x27;)</pre></div></div></div></div></div></div><div class=\"sk-parallel-item\"><div class=\"sk-item\"><div class=\"sk-label-container\"><div class=\"sk-label sk-toggleable\"><input class=\"sk-toggleable__control sk-hidden--visually\" id=\"sk-estimator-id-23\" type=\"checkbox\" ><label for=\"sk-estimator-id-23\" class=\"sk-toggleable__label sk-toggleable__label-arrow\">ordinal</label><div class=\"sk-toggleable__content\"><pre>[&#x27;month&#x27;]</pre></div></div></div><div class=\"sk-serial\"><div class=\"sk-item\"><div class=\"sk-estimator sk-toggleable\"><input class=\"sk-toggleable__control sk-hidden--visually\" id=\"sk-estimator-id-24\" type=\"checkbox\" ><label for=\"sk-estimator-id-24\" class=\"sk-toggleable__label sk-toggleable__label-arrow\">OrdinalEncoder</label><div class=\"sk-toggleable__content\"><pre>OrdinalEncoder(mapping=[{&#x27;col&#x27;: &#x27;month&#x27;, &#x27;data_type&#x27;: dtype(&#x27;O&#x27;),\n",
       "                         &#x27;mapping&#x27;: jan     1\n",
       "feb     2\n",
       "mar     3\n",
       "apr     4\n",
       "may     5\n",
       "jun     6\n",
       "jul     7\n",
       "aug     8\n",
       "sep     9\n",
       "oct    10\n",
       "nov    11\n",
       "dec    12\n",
       "dtype: int64}])</pre></div></div></div></div></div></div><div class=\"sk-parallel-item\"><div class=\"sk-item\"><div class=\"sk-label-container\"><div class=\"sk-label sk-toggleable\"><input class=\"sk-toggleable__control sk-hidden--visually\" id=\"sk-estimator-id-25\" type=\"checkbox\" ><label for=\"sk-estimator-id-25\" class=\"sk-toggleable__label sk-toggleable__label-arrow\">remainder</label><div class=\"sk-toggleable__content\"><pre>[&#x27;age&#x27;, &#x27;balance&#x27;, &#x27;campaign&#x27;, &#x27;pdays&#x27;]</pre></div></div></div><div class=\"sk-serial\"><div class=\"sk-item\"><div class=\"sk-estimator sk-toggleable\"><input class=\"sk-toggleable__control sk-hidden--visually\" id=\"sk-estimator-id-26\" type=\"checkbox\" ><label for=\"sk-estimator-id-26\" class=\"sk-toggleable__label sk-toggleable__label-arrow\">passthrough</label><div class=\"sk-toggleable__content\"><pre>passthrough</pre></div></div></div></div></div></div></div></div><div class=\"sk-item\"><div class=\"sk-estimator sk-toggleable\"><input class=\"sk-toggleable__control sk-hidden--visually\" id=\"sk-estimator-id-27\" type=\"checkbox\" ><label for=\"sk-estimator-id-27\" class=\"sk-toggleable__label sk-toggleable__label-arrow\">LogisticRegression</label><div class=\"sk-toggleable__content\"><pre>LogisticRegression(random_state=2)</pre></div></div></div></div></div></div></div></div></div></div></div></div>"
      ],
      "text/plain": [
       "GridSearchCV(cv=StratifiedKFold(n_splits=5, random_state=2, shuffle=True),\n",
       "             estimator=Pipeline(steps=[('Preprocessing',\n",
       "                                        ColumnTransformer(remainder='passthrough',\n",
       "                                                          transformers=[('onehot',\n",
       "                                                                         OneHotEncoder(drop='first'),\n",
       "                                                                         ['job',\n",
       "                                                                          'housing',\n",
       "                                                                          'loan',\n",
       "                                                                          'contact',\n",
       "                                                                          'poutcome']),\n",
       "                                                                        ('ordinal',\n",
       "                                                                         OrdinalEncoder(mapping=[{'col': 'month',\n",
       "                                                                                                  'data_type': dtype('O'),\n",
       "                                                                                                  'mapping': jan     1\n",
       "feb     2\n",
       "mar     3\n",
       "apr     4\n",
       "may     5\n",
       "jun     6\n",
       "jul     7\n",
       "aug     8\n",
       "sep     9\n",
       "oct    10\n",
       "nov    11\n",
       "dec    12\n",
       "dtype: int64}]),\n",
       "                                                                         ['month'])])),\n",
       "                                       ('model',\n",
       "                                        LogisticRegression(random_state=2))]),\n",
       "             param_grid={'model__C': [0.01, 0.1, 1, 10, 100],\n",
       "                         'model__dual': [True, False],\n",
       "                         'model__max_iter': [10, 100],\n",
       "                         'model__penalty': ['l1', 'l2', 'elasticnet'],\n",
       "                         'model__solver': ['liblinear', 'sag', 'saga']},\n",
       "             return_train_score=True, scoring='recall', verbose=1)"
      ]
     },
     "execution_count": 23,
     "metadata": {},
     "output_type": "execute_result"
    }
   ],
   "source": [
    "# Membut objek GridSearch\n",
    "\n",
    "gridsearch_logreg = GridSearchCV(\n",
    "    estimator=pipe_logreg,\n",
    "    param_grid=parameter_space,\n",
    "    scoring='recall',\n",
    "    cv=StratifiedKFold(shuffle=True, random_state=2), # KFold -> n_split default = 5\n",
    "    verbose=1,\n",
    "    return_train_score=True\n",
    "\n",
    ")\n",
    "gridsearch_logreg"
   ]
  },
  {
   "cell_type": "code",
   "execution_count": 24,
   "metadata": {},
   "outputs": [
    {
     "name": "stdout",
     "output_type": "stream",
     "text": [
      "Fitting 5 folds for each of 180 candidates, totalling 900 fits\n"
     ]
    },
    {
     "data": {
      "text/html": [
       "<style>#sk-container-id-4 {color: black;}#sk-container-id-4 pre{padding: 0;}#sk-container-id-4 div.sk-toggleable {background-color: white;}#sk-container-id-4 label.sk-toggleable__label {cursor: pointer;display: block;width: 100%;margin-bottom: 0;padding: 0.3em;box-sizing: border-box;text-align: center;}#sk-container-id-4 label.sk-toggleable__label-arrow:before {content: \"▸\";float: left;margin-right: 0.25em;color: #696969;}#sk-container-id-4 label.sk-toggleable__label-arrow:hover:before {color: black;}#sk-container-id-4 div.sk-estimator:hover label.sk-toggleable__label-arrow:before {color: black;}#sk-container-id-4 div.sk-toggleable__content {max-height: 0;max-width: 0;overflow: hidden;text-align: left;background-color: #f0f8ff;}#sk-container-id-4 div.sk-toggleable__content pre {margin: 0.2em;color: black;border-radius: 0.25em;background-color: #f0f8ff;}#sk-container-id-4 input.sk-toggleable__control:checked~div.sk-toggleable__content {max-height: 200px;max-width: 100%;overflow: auto;}#sk-container-id-4 input.sk-toggleable__control:checked~label.sk-toggleable__label-arrow:before {content: \"▾\";}#sk-container-id-4 div.sk-estimator input.sk-toggleable__control:checked~label.sk-toggleable__label {background-color: #d4ebff;}#sk-container-id-4 div.sk-label input.sk-toggleable__control:checked~label.sk-toggleable__label {background-color: #d4ebff;}#sk-container-id-4 input.sk-hidden--visually {border: 0;clip: rect(1px 1px 1px 1px);clip: rect(1px, 1px, 1px, 1px);height: 1px;margin: -1px;overflow: hidden;padding: 0;position: absolute;width: 1px;}#sk-container-id-4 div.sk-estimator {font-family: monospace;background-color: #f0f8ff;border: 1px dotted black;border-radius: 0.25em;box-sizing: border-box;margin-bottom: 0.5em;}#sk-container-id-4 div.sk-estimator:hover {background-color: #d4ebff;}#sk-container-id-4 div.sk-parallel-item::after {content: \"\";width: 100%;border-bottom: 1px solid gray;flex-grow: 1;}#sk-container-id-4 div.sk-label:hover label.sk-toggleable__label {background-color: #d4ebff;}#sk-container-id-4 div.sk-serial::before {content: \"\";position: absolute;border-left: 1px solid gray;box-sizing: border-box;top: 0;bottom: 0;left: 50%;z-index: 0;}#sk-container-id-4 div.sk-serial {display: flex;flex-direction: column;align-items: center;background-color: white;padding-right: 0.2em;padding-left: 0.2em;position: relative;}#sk-container-id-4 div.sk-item {position: relative;z-index: 1;}#sk-container-id-4 div.sk-parallel {display: flex;align-items: stretch;justify-content: center;background-color: white;position: relative;}#sk-container-id-4 div.sk-item::before, #sk-container-id-4 div.sk-parallel-item::before {content: \"\";position: absolute;border-left: 1px solid gray;box-sizing: border-box;top: 0;bottom: 0;left: 50%;z-index: -1;}#sk-container-id-4 div.sk-parallel-item {display: flex;flex-direction: column;z-index: 1;position: relative;background-color: white;}#sk-container-id-4 div.sk-parallel-item:first-child::after {align-self: flex-end;width: 50%;}#sk-container-id-4 div.sk-parallel-item:last-child::after {align-self: flex-start;width: 50%;}#sk-container-id-4 div.sk-parallel-item:only-child::after {width: 0;}#sk-container-id-4 div.sk-dashed-wrapped {border: 1px dashed gray;margin: 0 0.4em 0.5em 0.4em;box-sizing: border-box;padding-bottom: 0.4em;background-color: white;}#sk-container-id-4 div.sk-label label {font-family: monospace;font-weight: bold;display: inline-block;line-height: 1.2em;}#sk-container-id-4 div.sk-label-container {text-align: center;}#sk-container-id-4 div.sk-container {/* jupyter's `normalize.less` sets `[hidden] { display: none; }` but bootstrap.min.css set `[hidden] { display: none !important; }` so we also need the `!important` here to be able to override the default hidden behavior on the sphinx rendered scikit-learn.org. See: https://github.com/scikit-learn/scikit-learn/issues/21755 */display: inline-block !important;position: relative;}#sk-container-id-4 div.sk-text-repr-fallback {display: none;}</style><div id=\"sk-container-id-4\" class=\"sk-top-container\"><div class=\"sk-text-repr-fallback\"><pre>GridSearchCV(cv=StratifiedKFold(n_splits=5, random_state=2, shuffle=True),\n",
       "             estimator=Pipeline(steps=[(&#x27;Preprocessing&#x27;,\n",
       "                                        ColumnTransformer(remainder=&#x27;passthrough&#x27;,\n",
       "                                                          transformers=[(&#x27;onehot&#x27;,\n",
       "                                                                         OneHotEncoder(drop=&#x27;first&#x27;),\n",
       "                                                                         [&#x27;job&#x27;,\n",
       "                                                                          &#x27;housing&#x27;,\n",
       "                                                                          &#x27;loan&#x27;,\n",
       "                                                                          &#x27;contact&#x27;,\n",
       "                                                                          &#x27;poutcome&#x27;]),\n",
       "                                                                        (&#x27;ordinal&#x27;,\n",
       "                                                                         OrdinalEncoder(mapping=[{&#x27;col&#x27;: &#x27;month&#x27;,\n",
       "                                                                                                  &#x27;data_type&#x27;: dtype(&#x27;O&#x27;),\n",
       "                                                                                                  &#x27;mapping&#x27;: jan     1\n",
       "feb     2\n",
       "mar     3\n",
       "apr     4\n",
       "may     5\n",
       "jun     6\n",
       "jul     7\n",
       "aug     8\n",
       "sep     9\n",
       "oct    10\n",
       "nov    11\n",
       "dec    12\n",
       "dtype: int64}]),\n",
       "                                                                         [&#x27;month&#x27;])])),\n",
       "                                       (&#x27;model&#x27;,\n",
       "                                        LogisticRegression(random_state=2))]),\n",
       "             param_grid={&#x27;model__C&#x27;: [0.01, 0.1, 1, 10, 100],\n",
       "                         &#x27;model__dual&#x27;: [True, False],\n",
       "                         &#x27;model__max_iter&#x27;: [10, 100],\n",
       "                         &#x27;model__penalty&#x27;: [&#x27;l1&#x27;, &#x27;l2&#x27;, &#x27;elasticnet&#x27;],\n",
       "                         &#x27;model__solver&#x27;: [&#x27;liblinear&#x27;, &#x27;sag&#x27;, &#x27;saga&#x27;]},\n",
       "             return_train_score=True, scoring=&#x27;recall&#x27;, verbose=1)</pre><b>In a Jupyter environment, please rerun this cell to show the HTML representation or trust the notebook. <br />On GitHub, the HTML representation is unable to render, please try loading this page with nbviewer.org.</b></div><div class=\"sk-container\" hidden><div class=\"sk-item sk-dashed-wrapped\"><div class=\"sk-label-container\"><div class=\"sk-label sk-toggleable\"><input class=\"sk-toggleable__control sk-hidden--visually\" id=\"sk-estimator-id-28\" type=\"checkbox\" ><label for=\"sk-estimator-id-28\" class=\"sk-toggleable__label sk-toggleable__label-arrow\">GridSearchCV</label><div class=\"sk-toggleable__content\"><pre>GridSearchCV(cv=StratifiedKFold(n_splits=5, random_state=2, shuffle=True),\n",
       "             estimator=Pipeline(steps=[(&#x27;Preprocessing&#x27;,\n",
       "                                        ColumnTransformer(remainder=&#x27;passthrough&#x27;,\n",
       "                                                          transformers=[(&#x27;onehot&#x27;,\n",
       "                                                                         OneHotEncoder(drop=&#x27;first&#x27;),\n",
       "                                                                         [&#x27;job&#x27;,\n",
       "                                                                          &#x27;housing&#x27;,\n",
       "                                                                          &#x27;loan&#x27;,\n",
       "                                                                          &#x27;contact&#x27;,\n",
       "                                                                          &#x27;poutcome&#x27;]),\n",
       "                                                                        (&#x27;ordinal&#x27;,\n",
       "                                                                         OrdinalEncoder(mapping=[{&#x27;col&#x27;: &#x27;month&#x27;,\n",
       "                                                                                                  &#x27;data_type&#x27;: dtype(&#x27;O&#x27;),\n",
       "                                                                                                  &#x27;mapping&#x27;: jan     1\n",
       "feb     2\n",
       "mar     3\n",
       "apr     4\n",
       "may     5\n",
       "jun     6\n",
       "jul     7\n",
       "aug     8\n",
       "sep     9\n",
       "oct    10\n",
       "nov    11\n",
       "dec    12\n",
       "dtype: int64}]),\n",
       "                                                                         [&#x27;month&#x27;])])),\n",
       "                                       (&#x27;model&#x27;,\n",
       "                                        LogisticRegression(random_state=2))]),\n",
       "             param_grid={&#x27;model__C&#x27;: [0.01, 0.1, 1, 10, 100],\n",
       "                         &#x27;model__dual&#x27;: [True, False],\n",
       "                         &#x27;model__max_iter&#x27;: [10, 100],\n",
       "                         &#x27;model__penalty&#x27;: [&#x27;l1&#x27;, &#x27;l2&#x27;, &#x27;elasticnet&#x27;],\n",
       "                         &#x27;model__solver&#x27;: [&#x27;liblinear&#x27;, &#x27;sag&#x27;, &#x27;saga&#x27;]},\n",
       "             return_train_score=True, scoring=&#x27;recall&#x27;, verbose=1)</pre></div></div></div><div class=\"sk-parallel\"><div class=\"sk-parallel-item\"><div class=\"sk-item\"><div class=\"sk-label-container\"><div class=\"sk-label sk-toggleable\"><input class=\"sk-toggleable__control sk-hidden--visually\" id=\"sk-estimator-id-29\" type=\"checkbox\" ><label for=\"sk-estimator-id-29\" class=\"sk-toggleable__label sk-toggleable__label-arrow\">estimator: Pipeline</label><div class=\"sk-toggleable__content\"><pre>Pipeline(steps=[(&#x27;Preprocessing&#x27;,\n",
       "                 ColumnTransformer(remainder=&#x27;passthrough&#x27;,\n",
       "                                   transformers=[(&#x27;onehot&#x27;,\n",
       "                                                  OneHotEncoder(drop=&#x27;first&#x27;),\n",
       "                                                  [&#x27;job&#x27;, &#x27;housing&#x27;, &#x27;loan&#x27;,\n",
       "                                                   &#x27;contact&#x27;, &#x27;poutcome&#x27;]),\n",
       "                                                 (&#x27;ordinal&#x27;,\n",
       "                                                  OrdinalEncoder(mapping=[{&#x27;col&#x27;: &#x27;month&#x27;,\n",
       "                                                                           &#x27;data_type&#x27;: dtype(&#x27;O&#x27;),\n",
       "                                                                           &#x27;mapping&#x27;: jan     1\n",
       "feb     2\n",
       "mar     3\n",
       "apr     4\n",
       "may     5\n",
       "jun     6\n",
       "jul     7\n",
       "aug     8\n",
       "sep     9\n",
       "oct    10\n",
       "nov    11\n",
       "dec    12\n",
       "dtype: int64}]),\n",
       "                                                  [&#x27;month&#x27;])])),\n",
       "                (&#x27;model&#x27;, LogisticRegression(random_state=2))])</pre></div></div></div><div class=\"sk-serial\"><div class=\"sk-item\"><div class=\"sk-serial\"><div class=\"sk-item sk-dashed-wrapped\"><div class=\"sk-label-container\"><div class=\"sk-label sk-toggleable\"><input class=\"sk-toggleable__control sk-hidden--visually\" id=\"sk-estimator-id-30\" type=\"checkbox\" ><label for=\"sk-estimator-id-30\" class=\"sk-toggleable__label sk-toggleable__label-arrow\">Preprocessing: ColumnTransformer</label><div class=\"sk-toggleable__content\"><pre>ColumnTransformer(remainder=&#x27;passthrough&#x27;,\n",
       "                  transformers=[(&#x27;onehot&#x27;, OneHotEncoder(drop=&#x27;first&#x27;),\n",
       "                                 [&#x27;job&#x27;, &#x27;housing&#x27;, &#x27;loan&#x27;, &#x27;contact&#x27;,\n",
       "                                  &#x27;poutcome&#x27;]),\n",
       "                                (&#x27;ordinal&#x27;,\n",
       "                                 OrdinalEncoder(mapping=[{&#x27;col&#x27;: &#x27;month&#x27;,\n",
       "                                                          &#x27;data_type&#x27;: dtype(&#x27;O&#x27;),\n",
       "                                                          &#x27;mapping&#x27;: jan     1\n",
       "feb     2\n",
       "mar     3\n",
       "apr     4\n",
       "may     5\n",
       "jun     6\n",
       "jul     7\n",
       "aug     8\n",
       "sep     9\n",
       "oct    10\n",
       "nov    11\n",
       "dec    12\n",
       "dtype: int64}]),\n",
       "                                 [&#x27;month&#x27;])])</pre></div></div></div><div class=\"sk-parallel\"><div class=\"sk-parallel-item\"><div class=\"sk-item\"><div class=\"sk-label-container\"><div class=\"sk-label sk-toggleable\"><input class=\"sk-toggleable__control sk-hidden--visually\" id=\"sk-estimator-id-31\" type=\"checkbox\" ><label for=\"sk-estimator-id-31\" class=\"sk-toggleable__label sk-toggleable__label-arrow\">onehot</label><div class=\"sk-toggleable__content\"><pre>[&#x27;job&#x27;, &#x27;housing&#x27;, &#x27;loan&#x27;, &#x27;contact&#x27;, &#x27;poutcome&#x27;]</pre></div></div></div><div class=\"sk-serial\"><div class=\"sk-item\"><div class=\"sk-estimator sk-toggleable\"><input class=\"sk-toggleable__control sk-hidden--visually\" id=\"sk-estimator-id-32\" type=\"checkbox\" ><label for=\"sk-estimator-id-32\" class=\"sk-toggleable__label sk-toggleable__label-arrow\">OneHotEncoder</label><div class=\"sk-toggleable__content\"><pre>OneHotEncoder(drop=&#x27;first&#x27;)</pre></div></div></div></div></div></div><div class=\"sk-parallel-item\"><div class=\"sk-item\"><div class=\"sk-label-container\"><div class=\"sk-label sk-toggleable\"><input class=\"sk-toggleable__control sk-hidden--visually\" id=\"sk-estimator-id-33\" type=\"checkbox\" ><label for=\"sk-estimator-id-33\" class=\"sk-toggleable__label sk-toggleable__label-arrow\">ordinal</label><div class=\"sk-toggleable__content\"><pre>[&#x27;month&#x27;]</pre></div></div></div><div class=\"sk-serial\"><div class=\"sk-item\"><div class=\"sk-estimator sk-toggleable\"><input class=\"sk-toggleable__control sk-hidden--visually\" id=\"sk-estimator-id-34\" type=\"checkbox\" ><label for=\"sk-estimator-id-34\" class=\"sk-toggleable__label sk-toggleable__label-arrow\">OrdinalEncoder</label><div class=\"sk-toggleable__content\"><pre>OrdinalEncoder(mapping=[{&#x27;col&#x27;: &#x27;month&#x27;, &#x27;data_type&#x27;: dtype(&#x27;O&#x27;),\n",
       "                         &#x27;mapping&#x27;: jan     1\n",
       "feb     2\n",
       "mar     3\n",
       "apr     4\n",
       "may     5\n",
       "jun     6\n",
       "jul     7\n",
       "aug     8\n",
       "sep     9\n",
       "oct    10\n",
       "nov    11\n",
       "dec    12\n",
       "dtype: int64}])</pre></div></div></div></div></div></div><div class=\"sk-parallel-item\"><div class=\"sk-item\"><div class=\"sk-label-container\"><div class=\"sk-label sk-toggleable\"><input class=\"sk-toggleable__control sk-hidden--visually\" id=\"sk-estimator-id-35\" type=\"checkbox\" ><label for=\"sk-estimator-id-35\" class=\"sk-toggleable__label sk-toggleable__label-arrow\">remainder</label><div class=\"sk-toggleable__content\"><pre>[&#x27;age&#x27;, &#x27;balance&#x27;, &#x27;campaign&#x27;, &#x27;pdays&#x27;]</pre></div></div></div><div class=\"sk-serial\"><div class=\"sk-item\"><div class=\"sk-estimator sk-toggleable\"><input class=\"sk-toggleable__control sk-hidden--visually\" id=\"sk-estimator-id-36\" type=\"checkbox\" ><label for=\"sk-estimator-id-36\" class=\"sk-toggleable__label sk-toggleable__label-arrow\">passthrough</label><div class=\"sk-toggleable__content\"><pre>passthrough</pre></div></div></div></div></div></div></div></div><div class=\"sk-item\"><div class=\"sk-estimator sk-toggleable\"><input class=\"sk-toggleable__control sk-hidden--visually\" id=\"sk-estimator-id-37\" type=\"checkbox\" ><label for=\"sk-estimator-id-37\" class=\"sk-toggleable__label sk-toggleable__label-arrow\">LogisticRegression</label><div class=\"sk-toggleable__content\"><pre>LogisticRegression(random_state=2)</pre></div></div></div></div></div></div></div></div></div></div></div></div>"
      ],
      "text/plain": [
       "GridSearchCV(cv=StratifiedKFold(n_splits=5, random_state=2, shuffle=True),\n",
       "             estimator=Pipeline(steps=[('Preprocessing',\n",
       "                                        ColumnTransformer(remainder='passthrough',\n",
       "                                                          transformers=[('onehot',\n",
       "                                                                         OneHotEncoder(drop='first'),\n",
       "                                                                         ['job',\n",
       "                                                                          'housing',\n",
       "                                                                          'loan',\n",
       "                                                                          'contact',\n",
       "                                                                          'poutcome']),\n",
       "                                                                        ('ordinal',\n",
       "                                                                         OrdinalEncoder(mapping=[{'col': 'month',\n",
       "                                                                                                  'data_type': dtype('O'),\n",
       "                                                                                                  'mapping': jan     1\n",
       "feb     2\n",
       "mar     3\n",
       "apr     4\n",
       "may     5\n",
       "jun     6\n",
       "jul     7\n",
       "aug     8\n",
       "sep     9\n",
       "oct    10\n",
       "nov    11\n",
       "dec    12\n",
       "dtype: int64}]),\n",
       "                                                                         ['month'])])),\n",
       "                                       ('model',\n",
       "                                        LogisticRegression(random_state=2))]),\n",
       "             param_grid={'model__C': [0.01, 0.1, 1, 10, 100],\n",
       "                         'model__dual': [True, False],\n",
       "                         'model__max_iter': [10, 100],\n",
       "                         'model__penalty': ['l1', 'l2', 'elasticnet'],\n",
       "                         'model__solver': ['liblinear', 'sag', 'saga']},\n",
       "             return_train_score=True, scoring='recall', verbose=1)"
      ]
     },
     "execution_count": 24,
     "metadata": {},
     "output_type": "execute_result"
    }
   ],
   "source": [
    "gridsearch_logreg.fit(x_train, y_train)"
   ]
  },
  {
   "cell_type": "markdown",
   "metadata": {},
   "source": [
    "Mari kita cek hasil dari **Hyperparameter Tuning** yang telah dilakukan"
   ]
  },
  {
   "cell_type": "code",
   "execution_count": 25,
   "metadata": {},
   "outputs": [
    {
     "data": {
      "text/html": [
       "<div>\n",
       "<style scoped>\n",
       "    .dataframe tbody tr th:only-of-type {\n",
       "        vertical-align: middle;\n",
       "    }\n",
       "\n",
       "    .dataframe tbody tr th {\n",
       "        vertical-align: top;\n",
       "    }\n",
       "\n",
       "    .dataframe thead th {\n",
       "        text-align: right;\n",
       "    }\n",
       "</style>\n",
       "<table border=\"1\" class=\"dataframe\">\n",
       "  <thead>\n",
       "    <tr style=\"text-align: right;\">\n",
       "      <th></th>\n",
       "      <th>params</th>\n",
       "      <th>mean_test_score</th>\n",
       "      <th>mean_train_score</th>\n",
       "      <th>std_test_score</th>\n",
       "      <th>std_train_score</th>\n",
       "    </tr>\n",
       "  </thead>\n",
       "  <tbody>\n",
       "    <tr>\n",
       "      <th>20</th>\n",
       "      <td>{'model__C': 0.01, 'model__dual': False, 'model__max_iter': 10, 'model__penalty': 'l1', 'model__solver': 'saga'}</td>\n",
       "      <td>0.910799</td>\n",
       "      <td>0.912776</td>\n",
       "      <td>0.008749</td>\n",
       "      <td>0.005947</td>\n",
       "    </tr>\n",
       "    <tr>\n",
       "      <th>95</th>\n",
       "      <td>{'model__C': 1, 'model__dual': False, 'model__max_iter': 10, 'model__penalty': 'l2', 'model__solver': 'saga'}</td>\n",
       "      <td>0.910383</td>\n",
       "      <td>0.912672</td>\n",
       "      <td>0.008608</td>\n",
       "      <td>0.006110</td>\n",
       "    </tr>\n",
       "    <tr>\n",
       "      <th>164</th>\n",
       "      <td>{'model__C': 100, 'model__dual': False, 'model__max_iter': 10, 'model__penalty': 'l1', 'model__solver': 'saga'}</td>\n",
       "      <td>0.910383</td>\n",
       "      <td>0.912672</td>\n",
       "      <td>0.008608</td>\n",
       "      <td>0.006110</td>\n",
       "    </tr>\n",
       "  </tbody>\n",
       "</table>\n",
       "</div>"
      ],
      "text/plain": [
       "                                                                                                               params  \\\n",
       "20   {'model__C': 0.01, 'model__dual': False, 'model__max_iter': 10, 'model__penalty': 'l1', 'model__solver': 'saga'}   \n",
       "95      {'model__C': 1, 'model__dual': False, 'model__max_iter': 10, 'model__penalty': 'l2', 'model__solver': 'saga'}   \n",
       "164   {'model__C': 100, 'model__dual': False, 'model__max_iter': 10, 'model__penalty': 'l1', 'model__solver': 'saga'}   \n",
       "\n",
       "     mean_test_score  mean_train_score  std_test_score  std_train_score  \n",
       "20          0.910799          0.912776        0.008749         0.005947  \n",
       "95          0.910383          0.912672        0.008608         0.006110  \n",
       "164         0.910383          0.912672        0.008608         0.006110  "
      ]
     },
     "execution_count": 25,
     "metadata": {},
     "output_type": "execute_result"
    }
   ],
   "source": [
    "after_tuning = pd.DataFrame(gridsearch_logreg.cv_results_).sort_values('mean_test_score', ascending=False).head(3)\n",
    "after_tuning[['params', 'mean_test_score', 'mean_train_score', 'std_test_score', 'std_train_score']]"
   ]
  },
  {
   "cell_type": "markdown",
   "metadata": {},
   "source": [
    "**Hasil Hyperparameter Tuning**  "
   ]
  },
  {
   "cell_type": "code",
   "execution_count": 26,
   "metadata": {},
   "outputs": [
    {
     "name": "stdout",
     "output_type": "stream",
     "text": [
      "Best Parameter:  {'model__C': 0.01, 'model__dual': False, 'model__max_iter': 10, 'model__penalty': 'l1', 'model__solver': 'saga'}\n",
      "Best Score:  0.9107994084899096\n"
     ]
    }
   ],
   "source": [
    "print('Best Parameter: ', gridsearch_logreg.best_params_)\n",
    "print('Best Score: ', gridsearch_logreg.best_score_)"
   ]
  },
  {
   "cell_type": "markdown",
   "metadata": {},
   "source": [
    "Berdasarkan hasil **hyperparameter tuning** diatas, kita mendapatkan hasil **best parameter**: `{'model__C': 0.01, 'model__dual': False, 'model__max_iter': 10, 'model__penalty': 'l1', 'model__solver': 'saga'}`, dengan **best score**: `0.910799`. Apabila kita melihat juga mean train score dari model yang bernilai `0.912776`, model yang kita gunakan sudah tidak memiliki kecenderungan overfitting, dan apabila dilihat std test dan train scorenya sangat kecil, dapat dikatakan bahwa model kita juga sudah seimbang. Setelah mendapatkan hasil terbaik tersebut, kita akan menggunakan parameter tersebut untuk melakukan predict pada `x_test` dan `holdout` untuk melihat apakah model dan parameter yang kita gunakan baik atau tidak untuk memprediksi dan seberapa robust model kita. "
   ]
  },
  {
   "cell_type": "markdown",
   "metadata": {},
   "source": [
    "Berikut adalah hasil sebelum dilakukannya tuning pada model:"
   ]
  },
  {
   "cell_type": "code",
   "execution_count": 27,
   "metadata": {},
   "outputs": [
    {
     "data": {
      "text/html": [
       "<div>\n",
       "<style scoped>\n",
       "    .dataframe tbody tr th:only-of-type {\n",
       "        vertical-align: middle;\n",
       "    }\n",
       "\n",
       "    .dataframe tbody tr th {\n",
       "        vertical-align: top;\n",
       "    }\n",
       "\n",
       "    .dataframe thead th {\n",
       "        text-align: right;\n",
       "    }\n",
       "</style>\n",
       "<table border=\"1\" class=\"dataframe\">\n",
       "  <thead>\n",
       "    <tr style=\"text-align: right;\">\n",
       "      <th></th>\n",
       "      <th>1</th>\n",
       "    </tr>\n",
       "  </thead>\n",
       "  <tbody>\n",
       "    <tr>\n",
       "      <th>param_clf</th>\n",
       "      <td>LogisticRegression(random_state=2)</td>\n",
       "    </tr>\n",
       "    <tr>\n",
       "      <th>mean_test_score</th>\n",
       "      <td>0.630666</td>\n",
       "    </tr>\n",
       "    <tr>\n",
       "      <th>mean_train_score</th>\n",
       "      <td>0.630576</td>\n",
       "    </tr>\n",
       "    <tr>\n",
       "      <th>std_test_score</th>\n",
       "      <td>0.01745</td>\n",
       "    </tr>\n",
       "    <tr>\n",
       "      <th>std_train_score</th>\n",
       "      <td>0.018881</td>\n",
       "    </tr>\n",
       "  </tbody>\n",
       "</table>\n",
       "</div>"
      ],
      "text/plain": [
       "                                                   1\n",
       "param_clf         LogisticRegression(random_state=2)\n",
       "mean_test_score                             0.630666\n",
       "mean_train_score                            0.630576\n",
       "std_test_score                               0.01745\n",
       "std_train_score                             0.018881"
      ]
     },
     "execution_count": 27,
     "metadata": {},
     "output_type": "execute_result"
    }
   ],
   "source": [
    "pd.DataFrame(before_tuning.iloc[1][['param_clf','mean_test_score', 'mean_train_score', 'std_test_score', 'std_train_score']])"
   ]
  },
  {
   "cell_type": "markdown",
   "metadata": {},
   "source": [
    "<a id=\"5\"></a>"
   ]
  },
  {
   "cell_type": "markdown",
   "metadata": {},
   "source": [
    "Dan ini, adalah hasil setelah dilakukannya tuning pada model:"
   ]
  },
  {
   "cell_type": "code",
   "execution_count": 28,
   "metadata": {},
   "outputs": [
    {
     "data": {
      "text/html": [
       "<div>\n",
       "<style scoped>\n",
       "    .dataframe tbody tr th:only-of-type {\n",
       "        vertical-align: middle;\n",
       "    }\n",
       "\n",
       "    .dataframe tbody tr th {\n",
       "        vertical-align: top;\n",
       "    }\n",
       "\n",
       "    .dataframe thead th {\n",
       "        text-align: right;\n",
       "    }\n",
       "</style>\n",
       "<table border=\"1\" class=\"dataframe\">\n",
       "  <thead>\n",
       "    <tr style=\"text-align: right;\">\n",
       "      <th></th>\n",
       "      <th>20</th>\n",
       "    </tr>\n",
       "  </thead>\n",
       "  <tbody>\n",
       "    <tr>\n",
       "      <th>params</th>\n",
       "      <td>{'model__C': 0.01, 'model__dual': False, 'model__max_iter': 10, 'model__penalty': 'l1', 'model__solver': 'saga'}</td>\n",
       "    </tr>\n",
       "    <tr>\n",
       "      <th>mean_test_score</th>\n",
       "      <td>0.910799</td>\n",
       "    </tr>\n",
       "    <tr>\n",
       "      <th>mean_train_score</th>\n",
       "      <td>0.912776</td>\n",
       "    </tr>\n",
       "    <tr>\n",
       "      <th>std_test_score</th>\n",
       "      <td>0.008749</td>\n",
       "    </tr>\n",
       "    <tr>\n",
       "      <th>std_train_score</th>\n",
       "      <td>0.005947</td>\n",
       "    </tr>\n",
       "  </tbody>\n",
       "</table>\n",
       "</div>"
      ],
      "text/plain": [
       "                                                                                                                                20\n",
       "params            {'model__C': 0.01, 'model__dual': False, 'model__max_iter': 10, 'model__penalty': 'l1', 'model__solver': 'saga'}\n",
       "mean_test_score                                                                                                           0.910799\n",
       "mean_train_score                                                                                                          0.912776\n",
       "std_test_score                                                                                                            0.008749\n",
       "std_train_score                                                                                                           0.005947"
      ]
     },
     "execution_count": 28,
     "metadata": {},
     "output_type": "execute_result"
    }
   ],
   "source": [
    "pd.DataFrame(after_tuning.iloc[0][['params','mean_test_score', 'mean_train_score', 'std_test_score', 'std_train_score']])"
   ]
  },
  {
   "cell_type": "markdown",
   "metadata": {},
   "source": [
    "Sebelum model dilakukan tuning, hasil recall model menunjukkan angka `0.630666` pada test dan `0.630576` pada train dengan std test score `0.01745` dan std train score `0.018881` yang, apabila ditarik kesimpulan bahwa model memiliki kecenderungan overfitting yang kecil dan masih memiliki tingkat kestabilan dan kekonsistenan yang sedikit lebih rendah apabila dibandingkan dengan ketiga model <a href=#pemilihan_model>diatas</a>\n",
    "\n",
    "Namun setelah dilakukannya tuning, hasil score test recall model meningkat secara signifikan menjadi `0.910799` dan train score `0.912776`. Selain itu, std test score juga menurun secara signifikan menjadi `0.008749` dan train score pada `0.005947`. Apabila ditarik kesimpulan, model tetap memiliki kecenderungan overfitting yang rendah dan sekarang memiliki tingkat kestabilan dan kekonsistenan yang lebih tinggi dibandingkan sebelumnya. Dari sini dapat disimpulkan bahwa model setelah dilakukan hyperparameter tuning menjadi lebih baik dari sebelumnya secara signifikan. "
   ]
  },
  {
   "cell_type": "markdown",
   "metadata": {},
   "source": [
    "# 5. Predicting"
   ]
  },
  {
   "cell_type": "markdown",
   "metadata": {},
   "source": [
    "### x_test Predict"
   ]
  },
  {
   "cell_type": "markdown",
   "metadata": {},
   "source": [
    "Sekarang kita akan mencoba untuk memprediksi x_test menggunakan model dengan parameter terbaik hasil dari **Hyperparameter Tuning** diatas"
   ]
  },
  {
   "cell_type": "code",
   "execution_count": 29,
   "metadata": {},
   "outputs": [
    {
     "data": {
      "text/html": [
       "<style>#sk-container-id-5 {color: black;}#sk-container-id-5 pre{padding: 0;}#sk-container-id-5 div.sk-toggleable {background-color: white;}#sk-container-id-5 label.sk-toggleable__label {cursor: pointer;display: block;width: 100%;margin-bottom: 0;padding: 0.3em;box-sizing: border-box;text-align: center;}#sk-container-id-5 label.sk-toggleable__label-arrow:before {content: \"▸\";float: left;margin-right: 0.25em;color: #696969;}#sk-container-id-5 label.sk-toggleable__label-arrow:hover:before {color: black;}#sk-container-id-5 div.sk-estimator:hover label.sk-toggleable__label-arrow:before {color: black;}#sk-container-id-5 div.sk-toggleable__content {max-height: 0;max-width: 0;overflow: hidden;text-align: left;background-color: #f0f8ff;}#sk-container-id-5 div.sk-toggleable__content pre {margin: 0.2em;color: black;border-radius: 0.25em;background-color: #f0f8ff;}#sk-container-id-5 input.sk-toggleable__control:checked~div.sk-toggleable__content {max-height: 200px;max-width: 100%;overflow: auto;}#sk-container-id-5 input.sk-toggleable__control:checked~label.sk-toggleable__label-arrow:before {content: \"▾\";}#sk-container-id-5 div.sk-estimator input.sk-toggleable__control:checked~label.sk-toggleable__label {background-color: #d4ebff;}#sk-container-id-5 div.sk-label input.sk-toggleable__control:checked~label.sk-toggleable__label {background-color: #d4ebff;}#sk-container-id-5 input.sk-hidden--visually {border: 0;clip: rect(1px 1px 1px 1px);clip: rect(1px, 1px, 1px, 1px);height: 1px;margin: -1px;overflow: hidden;padding: 0;position: absolute;width: 1px;}#sk-container-id-5 div.sk-estimator {font-family: monospace;background-color: #f0f8ff;border: 1px dotted black;border-radius: 0.25em;box-sizing: border-box;margin-bottom: 0.5em;}#sk-container-id-5 div.sk-estimator:hover {background-color: #d4ebff;}#sk-container-id-5 div.sk-parallel-item::after {content: \"\";width: 100%;border-bottom: 1px solid gray;flex-grow: 1;}#sk-container-id-5 div.sk-label:hover label.sk-toggleable__label {background-color: #d4ebff;}#sk-container-id-5 div.sk-serial::before {content: \"\";position: absolute;border-left: 1px solid gray;box-sizing: border-box;top: 0;bottom: 0;left: 50%;z-index: 0;}#sk-container-id-5 div.sk-serial {display: flex;flex-direction: column;align-items: center;background-color: white;padding-right: 0.2em;padding-left: 0.2em;position: relative;}#sk-container-id-5 div.sk-item {position: relative;z-index: 1;}#sk-container-id-5 div.sk-parallel {display: flex;align-items: stretch;justify-content: center;background-color: white;position: relative;}#sk-container-id-5 div.sk-item::before, #sk-container-id-5 div.sk-parallel-item::before {content: \"\";position: absolute;border-left: 1px solid gray;box-sizing: border-box;top: 0;bottom: 0;left: 50%;z-index: -1;}#sk-container-id-5 div.sk-parallel-item {display: flex;flex-direction: column;z-index: 1;position: relative;background-color: white;}#sk-container-id-5 div.sk-parallel-item:first-child::after {align-self: flex-end;width: 50%;}#sk-container-id-5 div.sk-parallel-item:last-child::after {align-self: flex-start;width: 50%;}#sk-container-id-5 div.sk-parallel-item:only-child::after {width: 0;}#sk-container-id-5 div.sk-dashed-wrapped {border: 1px dashed gray;margin: 0 0.4em 0.5em 0.4em;box-sizing: border-box;padding-bottom: 0.4em;background-color: white;}#sk-container-id-5 div.sk-label label {font-family: monospace;font-weight: bold;display: inline-block;line-height: 1.2em;}#sk-container-id-5 div.sk-label-container {text-align: center;}#sk-container-id-5 div.sk-container {/* jupyter's `normalize.less` sets `[hidden] { display: none; }` but bootstrap.min.css set `[hidden] { display: none !important; }` so we also need the `!important` here to be able to override the default hidden behavior on the sphinx rendered scikit-learn.org. See: https://github.com/scikit-learn/scikit-learn/issues/21755 */display: inline-block !important;position: relative;}#sk-container-id-5 div.sk-text-repr-fallback {display: none;}</style><div id=\"sk-container-id-5\" class=\"sk-top-container\"><div class=\"sk-text-repr-fallback\"><pre>Pipeline(steps=[(&#x27;prepocessing&#x27;,\n",
       "                 ColumnTransformer(remainder=&#x27;passthrough&#x27;,\n",
       "                                   transformers=[(&#x27;onehot&#x27;,\n",
       "                                                  OneHotEncoder(drop=&#x27;first&#x27;),\n",
       "                                                  [&#x27;job&#x27;, &#x27;housing&#x27;, &#x27;loan&#x27;,\n",
       "                                                   &#x27;contact&#x27;, &#x27;poutcome&#x27;]),\n",
       "                                                 (&#x27;ordinal&#x27;,\n",
       "                                                  OrdinalEncoder(mapping=[{&#x27;col&#x27;: &#x27;month&#x27;,\n",
       "                                                                           &#x27;data_type&#x27;: dtype(&#x27;O&#x27;),\n",
       "                                                                           &#x27;mapping&#x27;: jan     1\n",
       "feb     2\n",
       "mar     3\n",
       "apr     4\n",
       "may     5\n",
       "jun     6\n",
       "jul     7\n",
       "aug     8\n",
       "sep     9\n",
       "oct    10\n",
       "nov    11\n",
       "dec    12\n",
       "dtype: int64}]),\n",
       "                                                  [&#x27;month&#x27;])])),\n",
       "                (&#x27;model&#x27;,\n",
       "                 LogisticRegression(C=0.01, max_iter=10, solver=&#x27;saga&#x27;))])</pre><b>In a Jupyter environment, please rerun this cell to show the HTML representation or trust the notebook. <br />On GitHub, the HTML representation is unable to render, please try loading this page with nbviewer.org.</b></div><div class=\"sk-container\" hidden><div class=\"sk-item sk-dashed-wrapped\"><div class=\"sk-label-container\"><div class=\"sk-label sk-toggleable\"><input class=\"sk-toggleable__control sk-hidden--visually\" id=\"sk-estimator-id-38\" type=\"checkbox\" ><label for=\"sk-estimator-id-38\" class=\"sk-toggleable__label sk-toggleable__label-arrow\">Pipeline</label><div class=\"sk-toggleable__content\"><pre>Pipeline(steps=[(&#x27;prepocessing&#x27;,\n",
       "                 ColumnTransformer(remainder=&#x27;passthrough&#x27;,\n",
       "                                   transformers=[(&#x27;onehot&#x27;,\n",
       "                                                  OneHotEncoder(drop=&#x27;first&#x27;),\n",
       "                                                  [&#x27;job&#x27;, &#x27;housing&#x27;, &#x27;loan&#x27;,\n",
       "                                                   &#x27;contact&#x27;, &#x27;poutcome&#x27;]),\n",
       "                                                 (&#x27;ordinal&#x27;,\n",
       "                                                  OrdinalEncoder(mapping=[{&#x27;col&#x27;: &#x27;month&#x27;,\n",
       "                                                                           &#x27;data_type&#x27;: dtype(&#x27;O&#x27;),\n",
       "                                                                           &#x27;mapping&#x27;: jan     1\n",
       "feb     2\n",
       "mar     3\n",
       "apr     4\n",
       "may     5\n",
       "jun     6\n",
       "jul     7\n",
       "aug     8\n",
       "sep     9\n",
       "oct    10\n",
       "nov    11\n",
       "dec    12\n",
       "dtype: int64}]),\n",
       "                                                  [&#x27;month&#x27;])])),\n",
       "                (&#x27;model&#x27;,\n",
       "                 LogisticRegression(C=0.01, max_iter=10, solver=&#x27;saga&#x27;))])</pre></div></div></div><div class=\"sk-serial\"><div class=\"sk-item sk-dashed-wrapped\"><div class=\"sk-label-container\"><div class=\"sk-label sk-toggleable\"><input class=\"sk-toggleable__control sk-hidden--visually\" id=\"sk-estimator-id-39\" type=\"checkbox\" ><label for=\"sk-estimator-id-39\" class=\"sk-toggleable__label sk-toggleable__label-arrow\">prepocessing: ColumnTransformer</label><div class=\"sk-toggleable__content\"><pre>ColumnTransformer(remainder=&#x27;passthrough&#x27;,\n",
       "                  transformers=[(&#x27;onehot&#x27;, OneHotEncoder(drop=&#x27;first&#x27;),\n",
       "                                 [&#x27;job&#x27;, &#x27;housing&#x27;, &#x27;loan&#x27;, &#x27;contact&#x27;,\n",
       "                                  &#x27;poutcome&#x27;]),\n",
       "                                (&#x27;ordinal&#x27;,\n",
       "                                 OrdinalEncoder(mapping=[{&#x27;col&#x27;: &#x27;month&#x27;,\n",
       "                                                          &#x27;data_type&#x27;: dtype(&#x27;O&#x27;),\n",
       "                                                          &#x27;mapping&#x27;: jan     1\n",
       "feb     2\n",
       "mar     3\n",
       "apr     4\n",
       "may     5\n",
       "jun     6\n",
       "jul     7\n",
       "aug     8\n",
       "sep     9\n",
       "oct    10\n",
       "nov    11\n",
       "dec    12\n",
       "dtype: int64}]),\n",
       "                                 [&#x27;month&#x27;])])</pre></div></div></div><div class=\"sk-parallel\"><div class=\"sk-parallel-item\"><div class=\"sk-item\"><div class=\"sk-label-container\"><div class=\"sk-label sk-toggleable\"><input class=\"sk-toggleable__control sk-hidden--visually\" id=\"sk-estimator-id-40\" type=\"checkbox\" ><label for=\"sk-estimator-id-40\" class=\"sk-toggleable__label sk-toggleable__label-arrow\">onehot</label><div class=\"sk-toggleable__content\"><pre>[&#x27;job&#x27;, &#x27;housing&#x27;, &#x27;loan&#x27;, &#x27;contact&#x27;, &#x27;poutcome&#x27;]</pre></div></div></div><div class=\"sk-serial\"><div class=\"sk-item\"><div class=\"sk-estimator sk-toggleable\"><input class=\"sk-toggleable__control sk-hidden--visually\" id=\"sk-estimator-id-41\" type=\"checkbox\" ><label for=\"sk-estimator-id-41\" class=\"sk-toggleable__label sk-toggleable__label-arrow\">OneHotEncoder</label><div class=\"sk-toggleable__content\"><pre>OneHotEncoder(drop=&#x27;first&#x27;)</pre></div></div></div></div></div></div><div class=\"sk-parallel-item\"><div class=\"sk-item\"><div class=\"sk-label-container\"><div class=\"sk-label sk-toggleable\"><input class=\"sk-toggleable__control sk-hidden--visually\" id=\"sk-estimator-id-42\" type=\"checkbox\" ><label for=\"sk-estimator-id-42\" class=\"sk-toggleable__label sk-toggleable__label-arrow\">ordinal</label><div class=\"sk-toggleable__content\"><pre>[&#x27;month&#x27;]</pre></div></div></div><div class=\"sk-serial\"><div class=\"sk-item\"><div class=\"sk-estimator sk-toggleable\"><input class=\"sk-toggleable__control sk-hidden--visually\" id=\"sk-estimator-id-43\" type=\"checkbox\" ><label for=\"sk-estimator-id-43\" class=\"sk-toggleable__label sk-toggleable__label-arrow\">OrdinalEncoder</label><div class=\"sk-toggleable__content\"><pre>OrdinalEncoder(mapping=[{&#x27;col&#x27;: &#x27;month&#x27;, &#x27;data_type&#x27;: dtype(&#x27;O&#x27;),\n",
       "                         &#x27;mapping&#x27;: jan     1\n",
       "feb     2\n",
       "mar     3\n",
       "apr     4\n",
       "may     5\n",
       "jun     6\n",
       "jul     7\n",
       "aug     8\n",
       "sep     9\n",
       "oct    10\n",
       "nov    11\n",
       "dec    12\n",
       "dtype: int64}])</pre></div></div></div></div></div></div><div class=\"sk-parallel-item\"><div class=\"sk-item\"><div class=\"sk-label-container\"><div class=\"sk-label sk-toggleable\"><input class=\"sk-toggleable__control sk-hidden--visually\" id=\"sk-estimator-id-44\" type=\"checkbox\" ><label for=\"sk-estimator-id-44\" class=\"sk-toggleable__label sk-toggleable__label-arrow\">remainder</label><div class=\"sk-toggleable__content\"><pre>[&#x27;age&#x27;, &#x27;balance&#x27;, &#x27;campaign&#x27;, &#x27;pdays&#x27;]</pre></div></div></div><div class=\"sk-serial\"><div class=\"sk-item\"><div class=\"sk-estimator sk-toggleable\"><input class=\"sk-toggleable__control sk-hidden--visually\" id=\"sk-estimator-id-45\" type=\"checkbox\" ><label for=\"sk-estimator-id-45\" class=\"sk-toggleable__label sk-toggleable__label-arrow\">passthrough</label><div class=\"sk-toggleable__content\"><pre>passthrough</pre></div></div></div></div></div></div></div></div><div class=\"sk-item\"><div class=\"sk-estimator sk-toggleable\"><input class=\"sk-toggleable__control sk-hidden--visually\" id=\"sk-estimator-id-46\" type=\"checkbox\" ><label for=\"sk-estimator-id-46\" class=\"sk-toggleable__label sk-toggleable__label-arrow\">LogisticRegression</label><div class=\"sk-toggleable__content\"><pre>LogisticRegression(C=0.01, max_iter=10, solver=&#x27;saga&#x27;)</pre></div></div></div></div></div></div></div>"
      ],
      "text/plain": [
       "Pipeline(steps=[('prepocessing',\n",
       "                 ColumnTransformer(remainder='passthrough',\n",
       "                                   transformers=[('onehot',\n",
       "                                                  OneHotEncoder(drop='first'),\n",
       "                                                  ['job', 'housing', 'loan',\n",
       "                                                   'contact', 'poutcome']),\n",
       "                                                 ('ordinal',\n",
       "                                                  OrdinalEncoder(mapping=[{'col': 'month',\n",
       "                                                                           'data_type': dtype('O'),\n",
       "                                                                           'mapping': jan     1\n",
       "feb     2\n",
       "mar     3\n",
       "apr     4\n",
       "may     5\n",
       "jun     6\n",
       "jul     7\n",
       "aug     8\n",
       "sep     9\n",
       "oct    10\n",
       "nov    11\n",
       "dec    12\n",
       "dtype: int64}]),\n",
       "                                                  ['month'])])),\n",
       "                ('model',\n",
       "                 LogisticRegression(C=0.01, max_iter=10, solver='saga'))])"
      ]
     },
     "execution_count": 29,
     "metadata": {},
     "output_type": "execute_result"
    }
   ],
   "source": [
    "pipepredict_logreg = Pipeline([\n",
    "    ('prepocessing', transformer),\n",
    "    ('model', LogisticRegression(C= 0.01, dual= False, max_iter= 10, penalty='l2', solver='saga'))\n",
    "])\n",
    "\n",
    "pipepredict_logreg.fit(x_train, y_train)"
   ]
  },
  {
   "cell_type": "code",
   "execution_count": 30,
   "metadata": {},
   "outputs": [],
   "source": [
    "y_pred_logreg = pipepredict_logreg.predict(x_test)"
   ]
  },
  {
   "cell_type": "code",
   "execution_count": 31,
   "metadata": {},
   "outputs": [
    {
     "name": "stdout",
     "output_type": "stream",
     "text": [
      "              precision    recall  f1-score   support\n",
      "\n",
      "           0       0.71      0.22      0.34       650\n",
      "           1       0.52      0.90      0.66       600\n",
      "\n",
      "    accuracy                           0.55      1250\n",
      "   macro avg       0.62      0.56      0.50      1250\n",
      "weighted avg       0.62      0.55      0.49      1250\n",
      "\n"
     ]
    }
   ],
   "source": [
    "print(classification_report(y_test, y_pred_logreg))"
   ]
  },
  {
   "cell_type": "markdown",
   "metadata": {},
   "source": [
    "Berdasarkan classification report diatas, hasil **scoring recall prediksi 1** mencapai **0.90** dan hasil **scoring recall prediksi 0** adalah **0.22**, hal itu berarti model yang kita gunakan cenderung lebih baik untuk memprediksi kelas positif, daripada kelas 0, dimana hal itu sudah sesuai dengan business task yang saya inginkan yaitu meningkatkan False Positive dan menurunkan False Negative. Setelah itu, kita akan mencoba menggunakan model kita untuk memprediksi target holdout yang telah kita simpan untuk mengecek apakah ada indikasi data leakage."
   ]
  },
  {
   "cell_type": "markdown",
   "metadata": {},
   "source": [
    "### holdout Predict"
   ]
  },
  {
   "cell_type": "code",
   "execution_count": 32,
   "metadata": {},
   "outputs": [],
   "source": [
    "y_pred_holdout = pipepredict_logreg.predict(holdout_feature)"
   ]
  },
  {
   "cell_type": "code",
   "execution_count": 33,
   "metadata": {},
   "outputs": [
    {
     "name": "stdout",
     "output_type": "stream",
     "text": [
      "              precision    recall  f1-score   support\n",
      "\n",
      "           0       0.74      0.20      0.32       830\n",
      "           1       0.51      0.92      0.65       733\n",
      "\n",
      "    accuracy                           0.54      1563\n",
      "   macro avg       0.62      0.56      0.49      1563\n",
      "weighted avg       0.63      0.54      0.48      1563\n",
      "\n"
     ]
    }
   ],
   "source": [
    "print(classification_report(holdout_target, y_pred_holdout))"
   ]
  },
  {
   "cell_type": "markdown",
   "metadata": {},
   "source": [
    "Berdasarkan classification report holdout diatas, hasil **scoring recall prediksi 1** mencapai **0.92** dan hasil **scoring recall prediksi 0** adalah **0.20**, hal itu berarti model yang kita gunakan sudah cukup generalized dan robust terhadap data yang sebelumnya belum pernah ditemui karena hasil dari classification report test dan holdout memiliki selisih nilai yang tidak signifikan. Selain itu, hal yang ingin kita hindari dapat kita antisipasi dengan baik, yaitu tidak ada indikasi data leakage. Model  juga cenderung lebih baik untuk memprediksi kelas positif, daripada kelas 0, dimana hal itu sudah sesuai dengan business task yang saya inginkan yaitu meningkatkan False Positive dan menurunkan False Negative. Sekarang mari kita lihat **Confusion Matrix** agar lebih mudah untuk diinterpretasikan<a id=\"confusion\"></a>"
   ]
  },
  {
   "cell_type": "code",
   "execution_count": 34,
   "metadata": {},
   "outputs": [
    {
     "data": {
      "text/plain": [
       "Text(0.5, 1.0, 'Test Confusion Matrix\\n')"
      ]
     },
     "execution_count": 34,
     "metadata": {},
     "output_type": "execute_result"
    },
    {
     "data": {
      "image/png": "[encoded data removed]",
      "text/plain": [
       "<Figure size 640x480 with 2 Axes>"
      ]
     },
     "metadata": {},
     "output_type": "display_data"
    }
   ],
   "source": [
    "from sklearn.metrics import ConfusionMatrixDisplay, confusion_matrix\n",
    "\n",
    "cm = confusion_matrix(y_test, y_pred_logreg)\n",
    "cmd = ConfusionMatrixDisplay(cm)\n",
    "cmd.plot()\n",
    "plt.title('Test Confusion Matrix\\n')"
   ]
  },
  {
   "cell_type": "markdown",
   "metadata": {},
   "source": [
    "TP = Orang yg diprediksi deposit dan aktualnya deposit ada 542 orang  \n",
    "FP = Orang yg diprediksi deposit dan aktualnya tidak deposit ada 506 orang  \n",
    "TN = Orang yg diprediksi tidak deposit dan aktualnya tidak deposit ada 144 orang  \n",
    "FN = Orang yg diprediksi tidak deposit dan aktualnya deposit ada 58 orang  "
   ]
  },
  {
   "cell_type": "code",
   "execution_count": 35,
   "metadata": {},
   "outputs": [
    {
     "data": {
      "text/plain": [
       "Text(0.5, 1.0, 'Holdout Confusion Matrix\\n')"
      ]
     },
     "execution_count": 35,
     "metadata": {},
     "output_type": "execute_result"
    },
    {
     "data": {
      "image/png": "[encoded data removed]",
      "text/plain": [
       "<Figure size 640x480 with 2 Axes>"
      ]
     },
     "metadata": {},
     "output_type": "display_data"
    }
   ],
   "source": [
    "cm = confusion_matrix(holdout_target, y_pred_holdout)\n",
    "cmd = ConfusionMatrixDisplay(cm)\n",
    "cmd.plot()\n",
    "plt.title('Holdout Confusion Matrix\\n')"
   ]
  },
  {
   "cell_type": "markdown",
   "metadata": {},
   "source": [
    "TP = Orang yg diprediksi deposit dan aktualnya deposit ada 675 orang  \n",
    "FP = Orang yg diprediksi deposit dan aktualnya tidak deposit ada 661 orang  \n",
    "TN = Orang yg diprediksi tidak deposit dan aktualnya tidak deposit ada 169 orang  \n",
    "FN = Orang yg diprediksi tidak deposit dan aktualnya deposit ada 58 orang  \n",
    "\n",
    "Berdasarkan hasil confusion matrix test dan holdout di atas, kita dapat melihat bahwa model telah **memberikan respons yang sesuai dengan tujuan bisnis** dan menunjukkan performa yang lebih baik dibandingkan dengan test,  yaitu **meningkatkan** jumlah **False Positive (FP)**. Dalam konteks ini, peningkatan FP dianggap lebih **menguntungkan** karena dampak kerugian yang dialami oleh bank saat menghubungi nasabah yang diprediksi akan menaruh deposit, namun faktanya tidak menaruh deposit, **relatif lebih kecil dibandingkan dengan risiko kehilangan peluang** jika model menghasilkan **False Negative (FN).** \n",
    "\n",
    "Dengan meningkatkan FP, bank dapat **mengoptimalkan strategi pemasarannya** dengan menjangkau lebih banyak calon nasabah potensial, bahkan jika beberapa di antaranya ternyata tidak menaruh deposit. Meskipun ini dapat mengakibatkan kerugian waktu dan biaya yang sedikit, keuntungan potensial dari menarik lebih banyak pelanggan baru yang sebenarnya berpotensi untuk menaruh deposit dapat mengkompensasinya.\n",
    "\n",
    "Di sisi lain, **risiko utama yang ingin dihindari adalah terjadinya False Negative (FN)**, di mana model memprediksi bahwa nasabah tidak berpotensi menaruh deposit, namun kenyataannya mereka berpotensi besar. Hal ini bisa **menyebabkan kehilangan peluang yang lebih besar, dan nasabah yang seharusnya ditawari deposit bisa terlewatkan.**\n",
    "\n",
    "Dengan pendekatan ini, bank dapat lebih **agresif dalam pemasaran dan upaya akuisisi pelanggan**, meningkatkan peluang menarik nasabah potensial yang sebenarnya memiliki niat untuk menaruh deposit. Tetapi, perlu diingat bahwa peningkatan FP harus diimbangi dengan **evaluasi terus-menerus untuk meminimalkan dampak negatif dan memastikan bahwa keuntungan strategi ini melebihi kerugian yang mungkin terjadi.**"
   ]
  },
  {
   "cell_type": "markdown",
   "metadata": {},
   "source": [
    "Setelah itu mari kita lihat perbandingan score dari evaluation metrics yang paling terdampak oleh score recall yang tinggi, yaitu precision <a id=\"robust\"></a>"
   ]
  },
  {
   "cell_type": "code",
   "execution_count": 36,
   "metadata": {},
   "outputs": [],
   "source": [
    "from sklearn import metrics\n",
    "\n",
    "def print_evaluate(true, predicted):\n",
    "    recall = metrics.recall_score(true, predicted)\n",
    "    precision = metrics.precision_score(true, predicted)\n",
    "    print('Precision:', precision)\n",
    "    print('Recall:', recall)"
   ]
  },
  {
   "cell_type": "code",
   "execution_count": 37,
   "metadata": {},
   "outputs": [
    {
     "name": "stdout",
     "output_type": "stream",
     "text": [
      "Test set evaluation:\n",
      "_____________________________________\n",
      "Precision: 0.5176695319961796\n",
      "Recall: 0.9033333333333333\n"
     ]
    }
   ],
   "source": [
    "print('Test set evaluation:\\n_____________________________________')\n",
    "print_evaluate(y_test, y_pred_logreg)"
   ]
  },
  {
   "cell_type": "markdown",
   "metadata": {},
   "source": [
    "<a id=\"6\"></a>"
   ]
  },
  {
   "cell_type": "code",
   "execution_count": 38,
   "metadata": {},
   "outputs": [
    {
     "name": "stdout",
     "output_type": "stream",
     "text": [
      "Holdout set evaluation:\n",
      "_____________________________________\n",
      "Precision: 0.5052395209580839\n",
      "Recall: 0.9208731241473397\n"
     ]
    }
   ],
   "source": [
    "print('Holdout set evaluation:\\n_____________________________________')\n",
    "print_evaluate(holdout_target, y_pred_holdout)"
   ]
  },
  {
   "cell_type": "markdown",
   "metadata": {},
   "source": [
    "Hasil dari perbandingan score diatas, recall yang tinggi dapat menyebabkan precision rendah. Dalam **Machine Learning**, hal ini kerap terjadi karena kita fokus untuk meningkatkan score **recall** yang dimiliki oleh model. Apabila score **recall tinggi**, maka trade-off nya yaitu score **precision yang akan rendah**. Namun hal ini akan saya wajarkan, karena sesuai dengan business task saya, dimana bank akan mengalami **kerugian lebih banyak apabila kehilangan calon nasabah yang akan melakukan deposit**, dimana seorang calon nasabah diprediksi tidak akan dihubungi karena diprediksi tidak akan melakukan deposit, dibandingkan menghubungi calon nasabah yang diprediksi akan melakukan deposit, tetapi nyatanya tidak.  \n",
    "\n",
    "Hasil evaluasi menunjukkan bahwa skor dari kedua set data, baik itu data uji (test) maupun data holdout, **tidak memiliki perbedaan yang signifikan**. Dengan demikian, kita dapat menyimpulkan bahwa model yang telah ditentukan dengan parameter yang telah diatur memiliki **generalisasi yang baik dan ketahanan yang cukup untuk menangani data baru atau data yang sebelumnya tidak pernah dilihat**. Artinya, model tersebut tidak terlalu mengandalkan karakteristik khusus dari data pelatihan dan mampu memberikan kinerja yang konsisten pada data yang belum pernah dihadapi sebelumnya, dan dapat diandalkan ketika dihadapkan pada situasi dunia nyata."
   ]
  },
  {
   "cell_type": "markdown",
   "metadata": {},
   "source": [
    "# 6. Feature Importance & SHAP <a id=\"fi\"></a>"
   ]
  },
  {
   "cell_type": "markdown",
   "metadata": {},
   "source": [
    "## Feature Importance"
   ]
  },
  {
   "cell_type": "code",
   "execution_count": 39,
   "metadata": {},
   "outputs": [
    {
     "data": {
      "text/html": [
       "<style>#sk-container-id-6 {color: black;}#sk-container-id-6 pre{padding: 0;}#sk-container-id-6 div.sk-toggleable {background-color: white;}#sk-container-id-6 label.sk-toggleable__label {cursor: pointer;display: block;width: 100%;margin-bottom: 0;padding: 0.3em;box-sizing: border-box;text-align: center;}#sk-container-id-6 label.sk-toggleable__label-arrow:before {content: \"▸\";float: left;margin-right: 0.25em;color: #696969;}#sk-container-id-6 label.sk-toggleable__label-arrow:hover:before {color: black;}#sk-container-id-6 div.sk-estimator:hover label.sk-toggleable__label-arrow:before {color: black;}#sk-container-id-6 div.sk-toggleable__content {max-height: 0;max-width: 0;overflow: hidden;text-align: left;background-color: #f0f8ff;}#sk-container-id-6 div.sk-toggleable__content pre {margin: 0.2em;color: black;border-radius: 0.25em;background-color: #f0f8ff;}#sk-container-id-6 input.sk-toggleable__control:checked~div.sk-toggleable__content {max-height: 200px;max-width: 100%;overflow: auto;}#sk-container-id-6 input.sk-toggleable__control:checked~label.sk-toggleable__label-arrow:before {content: \"▾\";}#sk-container-id-6 div.sk-estimator input.sk-toggleable__control:checked~label.sk-toggleable__label {background-color: #d4ebff;}#sk-container-id-6 div.sk-label input.sk-toggleable__control:checked~label.sk-toggleable__label {background-color: #d4ebff;}#sk-container-id-6 input.sk-hidden--visually {border: 0;clip: rect(1px 1px 1px 1px);clip: rect(1px, 1px, 1px, 1px);height: 1px;margin: -1px;overflow: hidden;padding: 0;position: absolute;width: 1px;}#sk-container-id-6 div.sk-estimator {font-family: monospace;background-color: #f0f8ff;border: 1px dotted black;border-radius: 0.25em;box-sizing: border-box;margin-bottom: 0.5em;}#sk-container-id-6 div.sk-estimator:hover {background-color: #d4ebff;}#sk-container-id-6 div.sk-parallel-item::after {content: \"\";width: 100%;border-bottom: 1px solid gray;flex-grow: 1;}#sk-container-id-6 div.sk-label:hover label.sk-toggleable__label {background-color: #d4ebff;}#sk-container-id-6 div.sk-serial::before {content: \"\";position: absolute;border-left: 1px solid gray;box-sizing: border-box;top: 0;bottom: 0;left: 50%;z-index: 0;}#sk-container-id-6 div.sk-serial {display: flex;flex-direction: column;align-items: center;background-color: white;padding-right: 0.2em;padding-left: 0.2em;position: relative;}#sk-container-id-6 div.sk-item {position: relative;z-index: 1;}#sk-container-id-6 div.sk-parallel {display: flex;align-items: stretch;justify-content: center;background-color: white;position: relative;}#sk-container-id-6 div.sk-item::before, #sk-container-id-6 div.sk-parallel-item::before {content: \"\";position: absolute;border-left: 1px solid gray;box-sizing: border-box;top: 0;bottom: 0;left: 50%;z-index: -1;}#sk-container-id-6 div.sk-parallel-item {display: flex;flex-direction: column;z-index: 1;position: relative;background-color: white;}#sk-container-id-6 div.sk-parallel-item:first-child::after {align-self: flex-end;width: 50%;}#sk-container-id-6 div.sk-parallel-item:last-child::after {align-self: flex-start;width: 50%;}#sk-container-id-6 div.sk-parallel-item:only-child::after {width: 0;}#sk-container-id-6 div.sk-dashed-wrapped {border: 1px dashed gray;margin: 0 0.4em 0.5em 0.4em;box-sizing: border-box;padding-bottom: 0.4em;background-color: white;}#sk-container-id-6 div.sk-label label {font-family: monospace;font-weight: bold;display: inline-block;line-height: 1.2em;}#sk-container-id-6 div.sk-label-container {text-align: center;}#sk-container-id-6 div.sk-container {/* jupyter's `normalize.less` sets `[hidden] { display: none; }` but bootstrap.min.css set `[hidden] { display: none !important; }` so we also need the `!important` here to be able to override the default hidden behavior on the sphinx rendered scikit-learn.org. See: https://github.com/scikit-learn/scikit-learn/issues/21755 */display: inline-block !important;position: relative;}#sk-container-id-6 div.sk-text-repr-fallback {display: none;}</style><div id=\"sk-container-id-6\" class=\"sk-top-container\"><div class=\"sk-text-repr-fallback\"><pre>LogisticRegression(C=0.01, max_iter=10, penalty=&#x27;l1&#x27;, random_state=2,\n",
       "                   solver=&#x27;saga&#x27;)</pre><b>In a Jupyter environment, please rerun this cell to show the HTML representation or trust the notebook. <br />On GitHub, the HTML representation is unable to render, please try loading this page with nbviewer.org.</b></div><div class=\"sk-container\" hidden><div class=\"sk-item\"><div class=\"sk-estimator sk-toggleable\"><input class=\"sk-toggleable__control sk-hidden--visually\" id=\"sk-estimator-id-47\" type=\"checkbox\" checked><label for=\"sk-estimator-id-47\" class=\"sk-toggleable__label sk-toggleable__label-arrow\">LogisticRegression</label><div class=\"sk-toggleable__content\"><pre>LogisticRegression(C=0.01, max_iter=10, penalty=&#x27;l1&#x27;, random_state=2,\n",
       "                   solver=&#x27;saga&#x27;)</pre></div></div></div></div></div>"
      ],
      "text/plain": [
       "LogisticRegression(C=0.01, max_iter=10, penalty='l1', random_state=2,\n",
       "                   solver='saga')"
      ]
     },
     "execution_count": 39,
     "metadata": {},
     "output_type": "execute_result"
    }
   ],
   "source": [
    "gridsearch_logreg.best_estimator_.named_steps['model']"
   ]
  },
  {
   "cell_type": "code",
   "execution_count": 40,
   "metadata": {},
   "outputs": [
    {
     "data": {
      "text/plain": [
       "array([[-2.56805984e-07,  0.00000000e+00,  0.00000000e+00,\n",
       "         0.00000000e+00,  0.00000000e+00,  0.00000000e+00,\n",
       "         0.00000000e+00,  0.00000000e+00,  0.00000000e+00,\n",
       "         0.00000000e+00,  0.00000000e+00, -1.21959833e-06,\n",
       "        -7.76419593e-08,  0.00000000e+00, -1.07731459e-06,\n",
       "         0.00000000e+00,  4.70196414e-07, -1.42744130e-06,\n",
       "        -4.13145731e-06, -2.80306430e-05,  3.29569367e-05,\n",
       "        -6.02840355e-06,  1.51865885e-04]])"
      ]
     },
     "execution_count": 40,
     "metadata": {},
     "output_type": "execute_result"
    }
   ],
   "source": [
    "gridsearch_logreg.best_estimator_.named_steps['model'].coef_"
   ]
  },
  {
   "cell_type": "code",
   "execution_count": 41,
   "metadata": {},
   "outputs": [
    {
     "data": {
      "text/plain": [
       "array(['onehot__job_blue-collar', 'onehot__job_entrepreneur',\n",
       "       'onehot__job_housemaid', 'onehot__job_management',\n",
       "       'onehot__job_retired', 'onehot__job_self-employed',\n",
       "       'onehot__job_services', 'onehot__job_student',\n",
       "       'onehot__job_technician', 'onehot__job_unemployed',\n",
       "       'onehot__job_unknown', 'onehot__housing_yes', 'onehot__loan_yes',\n",
       "       'onehot__contact_telephone', 'onehot__contact_unknown',\n",
       "       'onehot__poutcome_other', 'onehot__poutcome_success',\n",
       "       'onehot__poutcome_unknown', 'ordinal__month', 'remainder__age',\n",
       "       'remainder__balance', 'remainder__campaign', 'remainder__pdays'],\n",
       "      dtype=object)"
      ]
     },
     "execution_count": 41,
     "metadata": {},
     "output_type": "execute_result"
    }
   ],
   "source": [
    "gridsearch_logreg.best_estimator_['Preprocessing'].get_feature_names_out()"
   ]
  },
  {
   "cell_type": "code",
   "execution_count": 42,
   "metadata": {},
   "outputs": [
    {
     "data": {
      "text/plain": [
       "<Axes: ylabel='feature'>"
      ]
     },
     "execution_count": 42,
     "metadata": {},
     "output_type": "execute_result"
    },
    {
     "data": {
      "image/png": "[encoded data removed]",
      "text/plain": [
       "<Figure size 1000x700 with 1 Axes>"
      ]
     },
     "metadata": {},
     "output_type": "display_data"
    }
   ],
   "source": [
    "feature_imp = pd.DataFrame()\n",
    "feature_imp['feature'] = gridsearch_logreg.best_estimator_.named_steps['Preprocessing'].get_feature_names_out()\n",
    "feature_imp['feature'] = feature_imp['feature'].str.replace(pat=r'[A-Za-z]*__', repl='', regex=True)\n",
    "feature_imp['score'] = gridsearch_logreg.best_estimator_.named_steps['model'].coef_.reshape(-1, 1)\n",
    "feature_imp = feature_imp.set_index('feature')\n",
    "feature_imp.sort_values('score', ascending=True).tail(5).plot(kind='barh', figsize=(10, 7))"
   ]
  },
  {
   "cell_type": "markdown",
   "metadata": {},
   "source": [
    "<a id=\"7\"></a>Berdasarkan hasil feature importance diatas, p_days, balance, dan p_outcome_success merupakan fitur yang paling berkontribusi dalam pemrekdisian model. Di bawah ini adalah beberapa kemungkinan mengapa 'p_days', 'balance', dan 'p_outcome_success' menjadi fitur yang paling berkontribusi berdasarkan feature importance:\n",
    "\n",
    "1. **'p_days' (Number of Days Since Last Contact):**\n",
    "   - *Penjelasan:* Fitur ini mencerminkan jangka waktu dalam jumlah hari sejak kontak terakhir dengan nasabah. Keberadaan fitur ini menjadi penting karena dapat memberikan wawasan tentang seberapa baru atau lama nasabah terakhir dihubungi oleh bank. Analisis terhadap data historis mungkin mengungkapkan pola bahwa nasabah yang dihubungi dalam waktu dekat memiliki kecenderungan lebih tinggi untuk menaruh deposit. Dengan kata lain, 'p_days' dapat menjadi indikator signifikan untuk memahami dinamika waktu antara kontak dan keputusan nasabah, dan memiliki kontribusi yang potensial dalam memprediksi perilaku deposit nasabah.\n",
    "\n",
    "2. **'balance' (Account Balance):**\n",
    "   - *Penjelasan:* Saldo akun bank nasabah dapat menjadi indikator penting untuk keputusan menaruh deposit. Nasabah dengan saldo yang lebih tinggi berarti, nasabah tersebut lebih cenderung menaruh deposit berjangka. Oleh karena itu, model dapat memberikan bobot yang tinggi pada fitur 'balance' karena korelasinya dengan keputusan menaruh deposit.  \n",
    "\n",
    "3. **'p_outcome_success' (Outcome of Previous Marketing Campaign - Success):**\n",
    "   - *Penjelasan:* Jika nasabah telah memberikan respons positif dalam kampanye pemasaran sebelumnya, misalnya dengan menaruh deposit, itu bisa menjadi indikator kuat bahwa nasabah tersebut memiliki kecenderungan untuk melakukan hal yang sama dalam kampanye berikutnya. Oleh karena itu, 'p_outcome_success' dapat menjadi fitur yang sangat berkontribusi.  \n",
    "\n",
    "4. **Pertimbangan Interaksi Fitur:**\n",
    "   - *Penjelasan:* Selain kontribusi individu, beberapa model juga memperhitungkan interaksi antar fitur. Mungkin ada interaksi kompleks antara 'p_days', 'balance', dan 'p_outcome_success' yang membuat kombinasi fitur ini sangat berpengaruh dalam membuat prediksi yang akurat.  \n",
    "\n",
    "5. **Pentingnya dalam Konteks Bisnis:**\n",
    "   - *Penjelasan:* Dalam beberapa kasus, fitur-fitur tersebut mungkin memiliki nilai strategis yang tinggi dalam konteks bisnis. Misalnya, 'p_days' dapat mencerminkan efektivitas kampanye pemasaran terkini, 'balance' dapat mencerminkan daya beli nasabah, dan 'p_outcome_success' mencerminkan sejarah respons positif nasabah.  "
   ]
  },
  {
   "cell_type": "markdown",
   "metadata": {},
   "source": [
    "## SHAP"
   ]
  },
  {
   "cell_type": "code",
   "execution_count": 43,
   "metadata": {},
   "outputs": [],
   "source": [
    "transformerSHAP = gridsearch_logreg.best_estimator_.named_steps['Preprocessing']"
   ]
  },
  {
   "cell_type": "code",
   "execution_count": 44,
   "metadata": {},
   "outputs": [],
   "source": [
    "transformerSHAPNames = pd.Series(transformerSHAP.get_feature_names_out()).str.replace(pat=r'[A-Za-z]*__', repl='', regex=True)"
   ]
  },
  {
   "cell_type": "code",
   "execution_count": 45,
   "metadata": {},
   "outputs": [
    {
     "data": {
      "text/html": [
       "<style>#sk-container-id-7 {color: black;}#sk-container-id-7 pre{padding: 0;}#sk-container-id-7 div.sk-toggleable {background-color: white;}#sk-container-id-7 label.sk-toggleable__label {cursor: pointer;display: block;width: 100%;margin-bottom: 0;padding: 0.3em;box-sizing: border-box;text-align: center;}#sk-container-id-7 label.sk-toggleable__label-arrow:before {content: \"▸\";float: left;margin-right: 0.25em;color: #696969;}#sk-container-id-7 label.sk-toggleable__label-arrow:hover:before {color: black;}#sk-container-id-7 div.sk-estimator:hover label.sk-toggleable__label-arrow:before {color: black;}#sk-container-id-7 div.sk-toggleable__content {max-height: 0;max-width: 0;overflow: hidden;text-align: left;background-color: #f0f8ff;}#sk-container-id-7 div.sk-toggleable__content pre {margin: 0.2em;color: black;border-radius: 0.25em;background-color: #f0f8ff;}#sk-container-id-7 input.sk-toggleable__control:checked~div.sk-toggleable__content {max-height: 200px;max-width: 100%;overflow: auto;}#sk-container-id-7 input.sk-toggleable__control:checked~label.sk-toggleable__label-arrow:before {content: \"▾\";}#sk-container-id-7 div.sk-estimator input.sk-toggleable__control:checked~label.sk-toggleable__label {background-color: #d4ebff;}#sk-container-id-7 div.sk-label input.sk-toggleable__control:checked~label.sk-toggleable__label {background-color: #d4ebff;}#sk-container-id-7 input.sk-hidden--visually {border: 0;clip: rect(1px 1px 1px 1px);clip: rect(1px, 1px, 1px, 1px);height: 1px;margin: -1px;overflow: hidden;padding: 0;position: absolute;width: 1px;}#sk-container-id-7 div.sk-estimator {font-family: monospace;background-color: #f0f8ff;border: 1px dotted black;border-radius: 0.25em;box-sizing: border-box;margin-bottom: 0.5em;}#sk-container-id-7 div.sk-estimator:hover {background-color: #d4ebff;}#sk-container-id-7 div.sk-parallel-item::after {content: \"\";width: 100%;border-bottom: 1px solid gray;flex-grow: 1;}#sk-container-id-7 div.sk-label:hover label.sk-toggleable__label {background-color: #d4ebff;}#sk-container-id-7 div.sk-serial::before {content: \"\";position: absolute;border-left: 1px solid gray;box-sizing: border-box;top: 0;bottom: 0;left: 50%;z-index: 0;}#sk-container-id-7 div.sk-serial {display: flex;flex-direction: column;align-items: center;background-color: white;padding-right: 0.2em;padding-left: 0.2em;position: relative;}#sk-container-id-7 div.sk-item {position: relative;z-index: 1;}#sk-container-id-7 div.sk-parallel {display: flex;align-items: stretch;justify-content: center;background-color: white;position: relative;}#sk-container-id-7 div.sk-item::before, #sk-container-id-7 div.sk-parallel-item::before {content: \"\";position: absolute;border-left: 1px solid gray;box-sizing: border-box;top: 0;bottom: 0;left: 50%;z-index: -1;}#sk-container-id-7 div.sk-parallel-item {display: flex;flex-direction: column;z-index: 1;position: relative;background-color: white;}#sk-container-id-7 div.sk-parallel-item:first-child::after {align-self: flex-end;width: 50%;}#sk-container-id-7 div.sk-parallel-item:last-child::after {align-self: flex-start;width: 50%;}#sk-container-id-7 div.sk-parallel-item:only-child::after {width: 0;}#sk-container-id-7 div.sk-dashed-wrapped {border: 1px dashed gray;margin: 0 0.4em 0.5em 0.4em;box-sizing: border-box;padding-bottom: 0.4em;background-color: white;}#sk-container-id-7 div.sk-label label {font-family: monospace;font-weight: bold;display: inline-block;line-height: 1.2em;}#sk-container-id-7 div.sk-label-container {text-align: center;}#sk-container-id-7 div.sk-container {/* jupyter's `normalize.less` sets `[hidden] { display: none; }` but bootstrap.min.css set `[hidden] { display: none !important; }` so we also need the `!important` here to be able to override the default hidden behavior on the sphinx rendered scikit-learn.org. See: https://github.com/scikit-learn/scikit-learn/issues/21755 */display: inline-block !important;position: relative;}#sk-container-id-7 div.sk-text-repr-fallback {display: none;}</style><div id=\"sk-container-id-7\" class=\"sk-top-container\"><div class=\"sk-text-repr-fallback\"><pre>LogisticRegression(C=0.01, max_iter=10, penalty=&#x27;l1&#x27;, random_state=2,\n",
       "                   solver=&#x27;saga&#x27;)</pre><b>In a Jupyter environment, please rerun this cell to show the HTML representation or trust the notebook. <br />On GitHub, the HTML representation is unable to render, please try loading this page with nbviewer.org.</b></div><div class=\"sk-container\" hidden><div class=\"sk-item\"><div class=\"sk-estimator sk-toggleable\"><input class=\"sk-toggleable__control sk-hidden--visually\" id=\"sk-estimator-id-48\" type=\"checkbox\" checked><label for=\"sk-estimator-id-48\" class=\"sk-toggleable__label sk-toggleable__label-arrow\">LogisticRegression</label><div class=\"sk-toggleable__content\"><pre>LogisticRegression(C=0.01, max_iter=10, penalty=&#x27;l1&#x27;, random_state=2,\n",
       "                   solver=&#x27;saga&#x27;)</pre></div></div></div></div></div>"
      ],
      "text/plain": [
       "LogisticRegression(C=0.01, max_iter=10, penalty='l1', random_state=2,\n",
       "                   solver='saga')"
      ]
     },
     "execution_count": 45,
     "metadata": {},
     "output_type": "execute_result"
    }
   ],
   "source": [
    "modelSHAP = gridsearch_logreg.best_estimator_.named_steps['model']\n",
    "modelSHAP"
   ]
  },
  {
   "cell_type": "code",
   "execution_count": 46,
   "metadata": {},
   "outputs": [
    {
     "data": {
      "image/png": "[encoded data removed]",
      "text/plain": [
       "<Figure size 800x550 with 2 Axes>"
      ]
     },
     "metadata": {},
     "output_type": "display_data"
    }
   ],
   "source": [
    "import shap\n",
    "\n",
    "transformerSHAP.fit(x_train)\n",
    "x_train_pp = transformerSHAP.transform(x_train)\n",
    "x_train_pp = pd.DataFrame(x_train_pp, columns=transformerSHAP.get_feature_names_out())\n",
    "x_test_pp = transformerSHAP.transform(x_test)\n",
    "\n",
    "modelSHAP.fit(x_train_pp, y_train)\n",
    "\n",
    "explainer = shap.LinearExplainer(\n",
    "    modelSHAP, x_train_pp, feature_names=transformerSHAPNames\n",
    ")\n",
    "\n",
    "shap_values = explainer(x_test_pp)\n",
    "\n",
    "shap.plots.beeswarm(shap_values)"
   ]
  },
  {
   "cell_type": "markdown",
   "metadata": {},
   "source": [
    "Berdasarkan hasil dari SHAP Value diatas, **balance dan pdays** merupakan fitur yang memiliki dampak terbesar pada pemrekdisian model. Apabila dilihat lebih detail lagi pada SHAP value fitur balance, dapat disimpulkan bahwa semakin tinggi value yang dimiliki atau semakin tinggi balance yang dimiliki oleh seorang nasabah, besar sekali kemungkinannya untuk melakukan deposit. Hal ini sesuai dengan <a href='#fi'>Feature Importance</a> yang telah kita buat diatas, dimana balance merupakan fitur kedua yang paling berkontribusi pada pemrekdisian model yang berarti semakin besar balance, maka semakin tinggi pula kemungkinan nasabah untuk melakukan deposit. Selain itu, pdays juga memiliki dampak terbesar juga terhadap model, yang dapat disimpulkan bahwa semakin lama jarak nasabah dihubungi, maka semakin besar kemungkinannya untuk melakukan deposit. Hal ini dikarenakan nasabah yang sudah lama tidak dihubungi oleh bank cenderung lebih terbuka untuk menerima penawaran baru."
   ]
  },
  {
   "cell_type": "markdown",
   "metadata": {},
   "source": [
    "# 7. Conclusion"
   ]
  },
  {
   "cell_type": "markdown",
   "metadata": {},
   "source": [
    "## Analysis Conclusion\n",
    "\n",
    "\n"
   ]
  },
  {
   "cell_type": "markdown",
   "metadata": {},
   "source": [
    "Dengan menggunakan Machine Learning untuk meningkatkan respons kampanye pemasaran deposit berjangka, kita dapat menyimpulkan bahwa model yang telah dikembangkan memiliki keunggulan dalam mencapai tujuan bisnis yang telah ditetapkan.\n",
    "\n",
    "**Perbandingan Tanpa Machine Learning:**\n",
    "Tanpa adanya Machine Learning, bank mungkin akan mengalami kerugian yang signifikan. Misalnya, jika bank secara asal menghubungi semua nasabah tanpa menyaring terlebih dahulu, hal ini bisa mengakibatkan pemborosan sumber daya yang besar, seperti biaya panggilan telepon, waktu agen, dan promosi yang tidak terarah. Tanpa prediksi yang cerdas, bank dapat kehilangan peluang untuk menarik nasabah yang sebenarnya berpotensi menaruh deposit. Kerugian potensial ini bisa sulit dihitung secara pasti, tetapi bisa mencapai ribuan hingga jutaan dolar, tergantung pada skala kampanye dan biaya operasional. \n",
    "\n",
    "**Dengan Machine Learning:**\n",
    "Dengan adanya Machine Learning, bank dapat mengoptimalkan sumber daya dan strategi pemasaran mereka. Meskipun model mungkin menghasilkan beberapa False Positives, di mana nasabah diprediksi akan menaruh deposit tetapi sebenarnya tidak, keuntungan dari menjangkau calon nasabah yang sebenarnya berpotensi dapat melebihi kerugian ini. Model yang dioptimalkan untuk meningkatkan respons positif dapat membantu bank menarik lebih banyak nasabah yang berpotensi, meningkatkan pendapatan melalui penawaran deposit berjangka.\n",
    "\n",
    "Apabila dihitung, sebelumnya bank  diasumsikan mengeluarkan biaya sebesar **± 1.4 M** yang dapat dilihat <a href=\"#hitung\">**disini**</a>. Dengan adanya machine learning, bank tidak harus menghubungi semua **2813** nasabah (asumsi sesuai total data test dan holdout yang ada didalam dataset), dan cukup hanya menghubungi **2384** nasabah (berdasarkan <a href='confusion'>confusion matrix</a>), yang ± 50% dari pelanggan tersebut pasti deposit, dan sisanya tidak.  \n",
    "Asumsinya, setiap panggilan kampanye yang dilakukan nasabah adalah Rp. 500.000/nasabah. Lalu minimal deposit bagi nasabah yang ingin deposit adalah Rp. 8.000.000 berdasarkan [**OJK Indonesia**](https://sikapiuangmu.ojk.go.id/FrontEnd/CMS/Article/252). Disini bank tetap menghubungi sebanyak 2384 pelanggan, yang berarti: \n",
    "> 500.000 x 2384 = 1.192.000.000 (Pengeluaran yang dilakukan oleh bank untuk kampanye: **1.1 M**)  \n",
    "\n",
    "Namun, dari ± setengahnya, yaitu sebanyak 1,217 nasabah (jumlah True Positive test dan holdout), bank mendapatkan nasabah yang deposit. Apabila dihitung dengan minimal deposit jadi Rp. 10.000.000, maka dari itu:  \n",
    "\n",
    "> 8.000.000 x 1217 = 9.736.000.000 (Keuntungan yang didapatkan oleh bank: **9.7 M**)  \n",
    "\n",
    "Dari hasil diatas, bank dapat menghemat sekitar 300 juta, dan mendapatkan keuntungan sebesar 9.7 M. Apabila dihitung kembali, asumsi total keuntungan bersih yang didapatkan oleh bank adalah:  \n",
    "> 9.736.000.000 - 1.192.000.000 = 8,544,000,000 (Keuntungan bersih bank: **8.5 M**)\n",
    "\n",
    "Dalam skenario ini, investasi dalam pengembangan model Machine Learning dianggap sebagai langkah yang bernilai untuk meningkatkan hasil kampanye pemasaran deposit berjangka, mengoptimalkan penggunaan sumber daya, dan potensial menghindari kerugian besar yang mungkin terjadi tanpa pendekatan yang cerdas."
   ]
  },
  {
   "cell_type": "markdown",
   "metadata": {},
   "source": [
    "## Model Conclusion\n",
    "1. **Pilihan Model:**\n",
    "   - Model **Logistic Regression** dipilih sebagai **model utama** berdasarkan pertimbangan <a href=\"#pemilihan_model\"> disini </a>\n",
    "   - Meskipun model **Random Forest** memiliki recall tertinggi, **Logistic Regression** dipilih karena memiliki **keseimbangan yang baik antara performa pada kedua kelas dan tidak mengalami overfitting**.\n",
    "\n",
    "2. **Evaluasi Model:**\n",
    "   - Model menunjukkan kemampuan yang baik dalam **mengidentifikasi kasus positif (recall kelas 1 tinggi).**\n",
    "   - Performa model cenderung konsisten antara data uji dan data holdout, **menunjukkan tingkat generalisasi yang baik dan model terbukti robust**\n",
    "\n",
    "3. **Tantangan dan Rekomendasi:**\n",
    "   - Terdapat **tantangan dalam mengidentifikasi kasus negatif** (recall kelas 0 rendah).\n",
    "   - Rekomendasi untuk memperbaiki recall kelas 0 atau mengevaluasi strategi bisnis yang dapat **mengatasi potensi kesalahan prediksi pada kasus negatif.**\n",
    "\n",
    "4. **Keandalan Model:**\n",
    "   - Model telah dianggap **cukup umum dan robust** untuk menangani data baru atau data yang belum pernah dilihat <a href=\"#robust\">sebelumnya</a>.\n",
    "   - Keseluruhan, **model dapat diandalkan dalam konteks prediksi deposit berjangka** pada dataset yang telah disediakan.\n",
    "\n",
    "5. **Pertimbangan Tambahan:**\n",
    "   - Evaluasi tambahan seperti **precision**, **f1-score**, dan <a href=\"#confusion\">confusion matrix </a> perlu dipertimbangkan berdasarkan kebutuhan bisnis spesifik.\n",
    "   - Model dapat terus diperbaiki atau disesuaikan dengan perubahan karakteristik data atau kebijakan bisnis yang mungkin timbul di masa mendatang.\n",
    "\n",
    "6. **Feature Importance:**\n",
    "   - <a href=\"#fi\">p_days</a> merupakan fitur yang paling berkontribusi dalam pemrekdisian model karena mencerminkan berapa lama kontak terakhir yang dilakukan oleh bank kepada calon nasabah.\n",
    "\n",
    "Dengan demikian, model **Logistic Regression** yang telah disesuaikan parameter terbukti **cukup baik untuk memenuhi kebutuhan dan tujuan prediksi deposit berjangka pada dataset yang telah diberikan**. Namun, evaluasi terus-menerus dan penyesuaian model dapat menjadi langkah berkelanjutan untuk memastikan kinerja optimal seiring berjalannya waktu."
   ]
  },
  {
   "cell_type": "markdown",
   "metadata": {},
   "source": [
    "## Recommendation\n",
    "\n",
    "### Rekomendasi Untuk Bank:\n",
    "1. Bank dapat menggunakan model Machine Learning untuk mengidentifikasi nasabah yang memiliki potensi untuk menaruh deposit berjangka, tetapi belum pernah menerima penawaran dari bank. Dengan mengidentifikasi nasabah potensial ini, bank dapat menargetkan mereka dengan konten pemasaran yang lebih relevan dan meningkatkan peluang untuk menabung.  \n",
    "\n",
    "2. Bank dapat menargetkan kampanye kepada nasabah yang memiliki saldo yang tinggi dan sudah lama tidak dihubungi atau diberikan kampanye, karena berdasarkan hasil dari SHAP Value, nasabah dengan saldo tinggi dan sudah lama tidak dihubungi memiliki kemungkinan yang lebih tinggi untuk melakukan deposit.\n",
    "\n",
    "3. Bank dapat menggunakan model Machine Learning untuk mengembangkan konten pemasaran yang dipersonalisasi untuk setiap nasabah, berdasarkan profil dan minat mereka. Konten yang dipersonalisasi lebih cenderung menarik perhatian nasabah dan mendorong mereka untuk mengambil tindakan.  \n",
    "\n",
    "4. Bank dapat menggunakan model Machine Learning untuk mengukur efektivitas kampanye pemasaran, seperti jumlah nasabah yang mendaftar untuk deposit berjangka dan jumlah deposit yang berhasil ditarik. Dengan mengukur efektivitas kampanye, bank dapat memahami apa yang berhasil dan apa yang perlu ditingkatkan.  \n",
    "### Rekomendasi Implementasi di Kehidupan Nyata:\n",
    "\n",
    "#### Perbaikan dan saran untuk future use:\n",
    "\n",
    "1. **Threshold Adjustment:**\n",
    "   - Eksplorasi penyesuaian ambang batas prediksi untuk mencapai keseimbangan antara precision dan recall berdasarkan kebijakan bisnis dan dampak relatif dari false positives dan false negatives.\n",
    "\n",
    "2. **Model Ensemble:**\n",
    "   - Pertimbangkan untuk mengimplementasikan model ensemble, seperti gabungan Logistic Regression dengan Random Forest, untuk meningkatkan kinerja dan mengatasi kelemahan masing-masing model.\n",
    "\n",
    "#### Perbaikan Kondisi Data:\n",
    "\n",
    "1. **Feature Engineering:**\n",
    "   - Perhatikan potensi feature engineering yang lebih baik untuk mendapatkan wawasan tambahan dari data. Misalnya, transformasi fitur atau penggabungan fitur untuk menciptakan variabel baru yang dapat memberikan informasi lebih banyak.\n",
    "\n",
    "2. **Penanganan Outliers:** \n",
    "    - Jika ditemukan outliers pada fitur numerik tertentu, pertimbangkan untuk menangani atau menghilangkan outliers tersebut.\n",
    "\n",
    "### Rekomendasi Umum:\n",
    "\n",
    "1. **Pelibatan Pihak Bisnis:** Melibatkan tim pemasaran dan tim bisnis dalam interpretasi hasil model serta mendapatkan masukan dan pengetahuan domain.\n",
    "\n",
    "2. **Edukasi Stakeholder:** Memberikan pemahaman kepada pemangku kepentingan mengenai kekuatan dan keterbatasan model, sehingga keputusan dapat diambil dengan pemahaman yang lebih baik.\n",
    "\n",
    "3. **Monitoring:** Implementasikan sistem pemantauan yang terus-menerus untuk mendeteksi perubahan dalam performa model atau data.\n",
    "\n",
    "Dengan mengikuti rekomendasi ini, implementasi model dapat menjadi alat yang berharga dalam mendukung keputusan strategis dan operasional dalam kampanye pemasaran deposit berjangka."
   ]
  },
  {
   "cell_type": "markdown",
   "metadata": {},
   "source": [
    "# Save Model"
   ]
  },
  {
   "cell_type": "code",
   "execution_count": 54,
   "metadata": {},
   "outputs": [],
   "source": [
    "import pickle\n",
    "\n",
    "model_logreg_fix = gridsearch_logreg.best_estimator_\n",
    "model_logreg_fix.fit(feature,target)\n",
    "\n",
    "# save with pickle\n",
    "pickle.dump(model_logreg_fix, open('best_model_logreg.sav', 'wb'))"
   ]
  },
  {
   "cell_type": "code",
   "execution_count": 57,
   "metadata": {},
   "outputs": [],
   "source": [
    "# Load model\n",
    "filename = \"best_model_logreg.sav\"\n",
    "loaded_model = pickle.load(open(filename, 'rb'))"
   ]
  },
  {
   "cell_type": "markdown",
   "metadata": {},
   "source": [
    "# Thank you for reading. Have a good day!"
   ]
  }
 ],
 "metadata": {
  "kernelspec": {
   "display_name": "Python 3",
   "language": "python",
   "name": "python3"
  },
  "language_info": {
   "codemirror_mode": {
    "name": "ipython",
    "version": 3
   },
   "file_extension": ".py",
   "mimetype": "text/x-python",
   "name": "python",
   "nbconvert_exporter": "python",
   "pygments_lexer": "ipython3",
   "version": "3.11.6"
  }
 },
 "nbformat": 4,
 "nbformat_minor": 2
}
